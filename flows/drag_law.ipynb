{
 "cells": [
  {
   "cell_type": "markdown",
   "id": "3157de27-9e9f-4486-87ee-744ae8fc6760",
   "metadata": {
    "tags": []
   },
   "source": [
    "# Drag coefficient"
   ]
  },
  {
   "cell_type": "code",
   "execution_count": null,
   "id": "3c84a741-c3ea-40b5-b4b2-2945f15ac122",
   "metadata": {},
   "outputs": [],
   "source": [
    "import sys\n",
    "\n",
    "if '..' not in sys.path:\n",
    "    sys.path.append('..')\n",
    "\n",
    "import numpy as np\n",
    "import matplotlib.pyplot as plt\n",
    "\n",
    "import helper\n",
    "import seaborn\n",
    "\n",
    "plt.style.use([helper.araa_style])"
   ]
  },
  {
   "cell_type": "code",
   "execution_count": null,
   "id": "7f483c86-a9c5-4a44-b34e-38d6daeeaa5b",
   "metadata": {},
   "outputs": [],
   "source": [
    "Mach = 1e-3"
   ]
  },
  {
   "cell_type": "code",
   "execution_count": null,
   "id": "6a42f12c-c63e-49ca-a714-896753b30237",
   "metadata": {},
   "outputs": [],
   "source": [
    "Re = np.logspace(-4, 5, 300)\n",
    "Cd = np.zeros_like(Re)"
   ]
  },
  {
   "cell_type": "markdown",
   "id": "0b83ae0a-7a51-4d97-9b73-53c905b1822e",
   "metadata": {},
   "source": [
    "Here we define `M = vrel / vth` (this is not quite exact as it should be cs). Actual Mach number is $M= v / c _ s$ and $v _ {th} = \\sqrt{\\frac{8}{\\pi}}\\, c _ s$, so\n",
    "\n",
    "$$M _ {here} = M _ {actual} \\, \\sqrt{\\frac{\\pi}{8}}$$"
   ]
  },
  {
   "cell_type": "code",
   "execution_count": null,
   "id": "ae3a0801-53f0-4fd8-a559-2c254932b7f7",
   "metadata": {},
   "outputs": [],
   "source": [
    "M = Mach * np.sqrt(np.pi / 8)"
   ]
  },
  {
   "cell_type": "markdown",
   "id": "a69149e4-5c34-4478-af22-2c01b050b61d",
   "metadata": {},
   "source": [
    "We derive the Knudsen number from the given Reynolds grid and \"Mach\" number"
   ]
  },
  {
   "cell_type": "code",
   "execution_count": null,
   "id": "25247a4b-02d7-40a0-afaa-5c5bdbc5c76c",
   "metadata": {},
   "outputs": [],
   "source": [
    "Kn = 4 * M / Re"
   ]
  },
  {
   "cell_type": "markdown",
   "id": "0c0e73d8-bc06-4a38-a56b-291eba9617d3",
   "metadata": {},
   "source": [
    "This is the classic Weidenschilling case"
   ]
  },
  {
   "cell_type": "code",
   "execution_count": null,
   "id": "e2dc0b29-2971-4937-8081-2d5723882977",
   "metadata": {},
   "outputs": [],
   "source": [
    "mask_E = (Kn>4/9)\n",
    "Cd_E = 8./(3. * M)  # Epstein drag\n",
    "Cd[mask_E] = Cd_E  # Epstein drag\n",
    "\n",
    "# first Stokes regime\n",
    "mask_St1 = (Kn<4/9) & (Re<=1.0)\n",
    "Cd[mask_St1] = 24. / Re[mask_St1]\n",
    "\n",
    "# second Stokes regime\n",
    "mask_St2 = (Re > 1) & (Re < 800.)\n",
    "Cd[mask_St2] = 24. * Re[mask_St2]**-0.6\n",
    "\n",
    "# Newton drag\n",
    "mask_N = Re >= 800.\n",
    "Cd[mask_N] = 0.44"
   ]
  },
  {
   "cell_type": "markdown",
   "id": "28313592-2784-415c-b662-3bb66fcb2773",
   "metadata": {},
   "source": [
    "This is from [Cheng 2009](https://doi.org/10.1016/j.powtec.2008.07.006)."
   ]
  },
  {
   "cell_type": "code",
   "execution_count": null,
   "id": "e02fc2f5-058a-47e3-af5e-02658a2d7a8c",
   "metadata": {},
   "outputs": [],
   "source": [
    "Cd_cheng = 24. / Re * (1 + 0.27 * Re)**0.43 + 0.47 * (1.0 - np.exp(-0.04 * Re**0.38))"
   ]
  },
  {
   "cell_type": "code",
   "execution_count": null,
   "id": "ab3d55a1-b62a-4094-bba4-5a7df45071ce",
   "metadata": {},
   "outputs": [],
   "source": [
    "mask = mask_E"
   ]
  },
  {
   "cell_type": "code",
   "execution_count": null,
   "id": "66b91b16-e51c-48eb-9058-05d9b80c1e77",
   "metadata": {},
   "outputs": [],
   "source": [
    "texts = [\n",
    "    r'$\\mathsf{Kn} \\geq \\frac{4}{9}$',\n",
    "    r'$\\mathsf{Kn} < \\frac{4}{9}, \\mathsf{Re} < 1$',\n",
    "    r'$1 \\leq \\mathsf{Re} < 800$',\n",
    "    r'$\\mathsf{Re} \\geq 800$',\n",
    "    ]"
   ]
  },
  {
   "cell_type": "code",
   "execution_count": null,
   "id": "50a6dbc3-a69e-4ae2-9478-fff13cfca4ef",
   "metadata": {},
   "outputs": [],
   "source": [
    "f, ax = plt.subplots(dpi=200)\n",
    "\n",
    "ax.loglog(Re, Cd, 'k--', label='Weidenschilling 1977')\n",
    "ax.loglog(Re, np.minimum(Cd_E, Cd_cheng), label='Cheng 2009')\n",
    "\n",
    "ylim = [1e-1, 5e3]\n",
    "\n",
    "\n",
    "for mask, txt in zip([mask_E, mask_St1, mask_St2, mask_N], texts):\n",
    "    idx = np.where(mask)[0][[0,-1]] + [0, 1]\n",
    "    idx[1] = min(idx[1], len(Re) - 1)\n",
    "    fill = ax.fill_between(Re[idx], ylim[0] * np.ones(2), ylim[1] * np.ones(2), alpha=0.25, zorder=-1)\n",
    "    ax.text(np.sqrt(np.prod(Re[idx])), 2e-1, txt,\n",
    "            fontsize='small', horizontalalignment='center',\n",
    "            color=fill.get_facecolor()[0], alpha=1, zorder=10)\n",
    "\n",
    "ax.set_xlim(Re[[0, -1]])\n",
    "ax.set_ylim(ylim)\n",
    "ax.set_xlabel('Reynolds number')\n",
    "ax.set_ylabel('drag coefficient $C_d$')\n",
    "ax.legend();"
   ]
  },
  {
   "cell_type": "code",
   "execution_count": null,
   "id": "41ee45a0-b4ae-4d20-ab4f-b331caee2639",
   "metadata": {},
   "outputs": [],
   "source": [
    "helper.apply_araa_style(ax)"
   ]
  },
  {
   "cell_type": "code",
   "execution_count": null,
   "id": "07951940-d6e3-42fc-8fda-e44d0c043c36",
   "metadata": {},
   "outputs": [],
   "source": [
    "f.savefig('drag_law.pdf', transparent=True)"
   ]
  }
 ],
 "metadata": {
  "kernelspec": {
   "display_name": "Python 3 (ipykernel)",
   "language": "python",
   "name": "python3"
  },
  "language_info": {
   "codemirror_mode": {
    "name": "ipython",
    "version": 3
   },
   "file_extension": ".py",
   "mimetype": "text/x-python",
   "name": "python",
   "nbconvert_exporter": "python",
   "pygments_lexer": "ipython3",
   "version": "3.9.7"
  }
 },
 "nbformat": 4,
 "nbformat_minor": 5
}
