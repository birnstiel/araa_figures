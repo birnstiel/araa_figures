{
 "cells": [
  {
   "cell_type": "markdown",
   "id": "3157de27-9e9f-4486-87ee-744ae8fc6760",
   "metadata": {
    "tags": []
   },
   "source": [
    "# Drag coefficient"
   ]
  },
  {
   "cell_type": "code",
   "execution_count": null,
   "id": "3c84a741-c3ea-40b5-b4b2-2945f15ac122",
   "metadata": {},
   "outputs": [],
   "source": [
    "import sys\n",
    "\n",
    "if '..' not in sys.path:\n",
    "    sys.path.append('..')\n",
    "\n",
    "import numpy as np\n",
    "import matplotlib.pyplot as plt\n",
    "from matplotlib.collections import LineCollection\n",
    "from matplotlib import colors\n",
    "\n",
    "import helper\n",
    "import seaborn\n",
    "\n",
    "plt.style.use([helper.araa_style])"
   ]
  },
  {
   "cell_type": "code",
   "execution_count": null,
   "id": "7f483c86-a9c5-4a44-b34e-38d6daeeaa5b",
   "metadata": {},
   "outputs": [],
   "source": [
    "Mach = 1e-3"
   ]
  },
  {
   "cell_type": "code",
   "execution_count": null,
   "id": "6a42f12c-c63e-49ca-a714-896753b30237",
   "metadata": {},
   "outputs": [],
   "source": [
    "Re = np.logspace(-4, 5, 300)\n",
    "Cd = np.zeros_like(Re)"
   ]
  },
  {
   "cell_type": "markdown",
   "id": "0b83ae0a-7a51-4d97-9b73-53c905b1822e",
   "metadata": {},
   "source": [
    "Here we define `M = vrel / vth` (this is not quite exact as it should be cs). Actual Mach number is $M= v / c _ s$ and $v _ {th} = \\sqrt{\\frac{8}{\\pi}}\\, c _ s$, so\n",
    "\n",
    "$$M _ {here} = M _ {actual} \\, \\sqrt{\\frac{\\pi}{8}}$$"
   ]
  },
  {
   "cell_type": "code",
   "execution_count": null,
   "id": "ae3a0801-53f0-4fd8-a559-2c254932b7f7",
   "metadata": {},
   "outputs": [],
   "source": [
    "M = Mach * np.sqrt(np.pi / 8)"
   ]
  },
  {
   "cell_type": "markdown",
   "id": "a69149e4-5c34-4478-af22-2c01b050b61d",
   "metadata": {},
   "source": [
    "We derive the Knudsen number from the given Reynolds grid and \"Mach\" number"
   ]
  },
  {
   "cell_type": "code",
   "execution_count": null,
   "id": "25247a4b-02d7-40a0-afaa-5c5bdbc5c76c",
   "metadata": {},
   "outputs": [],
   "source": [
    "Kn = 4 * M / Re"
   ]
  },
  {
   "cell_type": "markdown",
   "id": "0c0e73d8-bc06-4a38-a56b-291eba9617d3",
   "metadata": {},
   "source": [
    "This is the classic Weidenschilling case"
   ]
  },
  {
   "cell_type": "code",
   "execution_count": null,
   "id": "e2dc0b29-2971-4937-8081-2d5723882977",
   "metadata": {},
   "outputs": [],
   "source": [
    "mask_E = (Kn>4/9)\n",
    "Cd_E = 8./(3. * M)  # Epstein drag\n",
    "Cd[mask_E] = Cd_E  # Epstein drag\n",
    "\n",
    "# first Stokes regime\n",
    "mask_St1 = (Kn<4/9) & (Re<=1.0)\n",
    "Cd[mask_St1] = 24. / Re[mask_St1]\n",
    "\n",
    "# second Stokes regime\n",
    "mask_St2 = (Re > 1) & (Re < 800.)\n",
    "Cd[mask_St2] = 24. * Re[mask_St2]**-0.6\n",
    "\n",
    "# Newton drag\n",
    "mask_N = Re >= 800.\n",
    "Cd[mask_N] = 0.44"
   ]
  },
  {
   "cell_type": "markdown",
   "id": "28313592-2784-415c-b662-3bb66fcb2773",
   "metadata": {},
   "source": [
    "This is from [Cheng 2009](https://doi.org/10.1016/j.powtec.2008.07.006)."
   ]
  },
  {
   "cell_type": "code",
   "execution_count": null,
   "id": "e02fc2f5-058a-47e3-af5e-02658a2d7a8c",
   "metadata": {},
   "outputs": [],
   "source": [
    "def Cd_cheng(Re, M):\n",
    "    \n",
    "    Cd = 24. / Re * (1 + 0.27 * Re)**0.43 + 0.47 * (1.0 - np.exp(-0.04 * Re**0.38))\n",
    "    Cd_E = 8./(3. * M)  # Epstein drag\n",
    "    \n",
    "    return np.minimum(Cd_E, Cd)"
   ]
  },
  {
   "cell_type": "code",
   "execution_count": null,
   "id": "66b91b16-e51c-48eb-9058-05d9b80c1e77",
   "metadata": {},
   "outputs": [],
   "source": [
    "texts = [\n",
    "    r'$\\mathsf{Kn} \\geq \\frac{4}{9}$',\n",
    "    r'$\\mathsf{Kn} < \\frac{4}{9}, \\mathsf{Re} < 1$',\n",
    "    r'$1 \\leq \\mathsf{Re} < 800$',\n",
    "    r'$\\mathsf{Re} \\geq 800$',\n",
    "    ]"
   ]
  },
  {
   "cell_type": "code",
   "execution_count": null,
   "id": "4369bf0b-eab5-4b8d-97d1-7c290d36f09b",
   "metadata": {},
   "outputs": [],
   "source": [
    "fact = 2\n",
    "\n",
    "f, ax = plt.subplots(dpi=200)\n",
    "\n",
    "ax.loglog(Re, Cd, 'k--', label='Weidenschilling 1977')\n",
    "ax.loglog(Re, Cd_cheng(Re, M), label=f'Cheng 2009 ($M = {{{Mach:.3f}}}$)')\n",
    "\n",
    "# semi-transparent line\n",
    "col = colors.to_rgb('C2') + (0.0,)\n",
    "mycm = colors.LinearSegmentedColormap.from_list('my',[col, 'C2'])\n",
    "points = np.vstack((Re, Cd_cheng(Re, fact * M))).T.reshape(-1, 1, 2)\n",
    "segments = np.hstack((points[:-1], points[1:]))\n",
    "alphas = np.maximum(1 - (np.log10(Re) + 4) / 4, 0)\n",
    "lc = LineCollection(segments, array=alphas, cmap=mycm,\n",
    "                    lw=1.5, zorder=500)\n",
    "line = ax.add_collection(lc)\n",
    "ax.plot([], [], c='C2', label=f'Cheng 2009 ($M = {{{fact * Mach:.3f}}}$)')\n",
    "\n",
    "ylim = [1e-1, 5e3]\n",
    "\n",
    "\n",
    "for mask, txt in zip([mask_E, mask_St1, mask_St2, mask_N], texts):\n",
    "    idx = np.where(mask)[0][[0,-1]] + [0, 1]\n",
    "    idx[1] = min(idx[1], len(Re) - 1)\n",
    "    fill = ax.fill_between(Re[idx], ylim[0] * np.ones(2), ylim[1] * np.ones(2), alpha=0.25, zorder=-1)\n",
    "    ax.text(np.sqrt(np.prod(Re[idx])), 2e-1, txt,\n",
    "            fontsize='small', horizontalalignment='center',\n",
    "            color=fill.get_facecolor()[0], alpha=1, zorder=10)\n",
    "\n",
    "ax.set_xlim(Re[[0, -1]])\n",
    "ax.set_ylim(ylim)\n",
    "ax.set_xlabel('Reynolds number')\n",
    "ax.set_ylabel('drag coefficient $C_d$')\n",
    "ax.legend().get_frame().set_alpha(0.5);"
   ]
  },
  {
   "cell_type": "code",
   "execution_count": null,
   "id": "0415b1b4-928b-4e36-95e2-aad8e07bd6a8",
   "metadata": {},
   "outputs": [],
   "source": [
    "helper.apply_araa_style(ax)\n",
    "f.savefig(helper.output_dir / 'drag_law.pdf', transparent=True)\n",
    "display(f)"
   ]
  }
 ],
 "metadata": {
  "kernelspec": {
   "display_name": "Python 3.9.7 ('base')",
   "language": "python",
   "name": "python3"
  },
  "language_info": {
   "codemirror_mode": {
    "name": "ipython",
    "version": 3
   },
   "file_extension": ".py",
   "mimetype": "text/x-python",
   "name": "python",
   "nbconvert_exporter": "python",
   "pygments_lexer": "ipython3",
   "version": "3.9.7"
  },
  "vscode": {
   "interpreter": {
    "hash": "bccf082f898b2356c8628c9441a85af51350700d2f5e39f1a029accc41e42a3d"
   }
  }
 },
 "nbformat": 4,
 "nbformat_minor": 5
}
