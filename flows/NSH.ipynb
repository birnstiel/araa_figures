{
 "cells": [
  {
   "cell_type": "code",
   "execution_count": null,
   "id": "7492af9e-8669-4b78-be61-e2a932d7a7d9",
   "metadata": {},
   "outputs": [],
   "source": [
    "import sys\n",
    "\n",
    "if '..' not in sys.path:\n",
    "    sys.path.append('..')"
   ]
  },
  {
   "cell_type": "markdown",
   "id": "fa389d81-bca5-45bc-be17-5cfd248ca673",
   "metadata": {},
   "source": [
    "# NSH"
   ]
  },
  {
   "cell_type": "markdown",
   "id": "7857f0d2-9f34-49c1-8757-167c1776db77",
   "metadata": {},
   "source": [
    "Computing and plotting the NSH velocity vectors"
   ]
  },
  {
   "cell_type": "code",
   "execution_count": null,
   "id": "659e76a8-5e42-4639-94d2-33d980c30106",
   "metadata": {},
   "outputs": [],
   "source": [
    "from matplotlib import gridspec\n",
    "from matplotlib.patches import Arc\n",
    "import matplotlib.pyplot as plt\n",
    "import numpy as np\n",
    "import helper"
   ]
  },
  {
   "cell_type": "code",
   "execution_count": null,
   "id": "02181537-53fe-4295-9e43-406d70b4403b",
   "metadata": {},
   "outputs": [],
   "source": [
    "eps = 0.1\n",
    "gamma = -2.75\n",
    "eta = 0.001"
   ]
  },
  {
   "cell_type": "markdown",
   "id": "0649e20a-b82e-4b0d-af3f-e68a0bb17a14",
   "metadata": {},
   "source": [
    "all divided by `eta *vk`"
   ]
  },
  {
   "cell_type": "markdown",
   "id": "b3d6b046-7036-4b84-a744-b58f774c2e41",
   "metadata": {},
   "source": [
    "## Combined plot"
   ]
  },
  {
   "cell_type": "code",
   "execution_count": null,
   "id": "054f6223-7dfc-4b8b-8c12-18431c0b1842",
   "metadata": {},
   "outputs": [],
   "source": [
    "fig = plt.figure(figsize=(15, 6), dpi=200)\n",
    "gs = gridspec.GridSpec(2, 3, width_ratios=[2, 2, 1], hspace=0.05)\n",
    "\n",
    "ax_c1 = fig.add_subplot(gs[0, 0])\n",
    "ax_c2 = fig.add_subplot(gs[1, 0])\n",
    "\n",
    "ax_v1 = fig.add_subplot(gs[:, 1])\n",
    "ax_v2 = fig.add_subplot(gs[:, 2])\n",
    "\n",
    "ax_c1.sharex(ax_c2)\n",
    "ax_v1.sharey(ax_v2)\n",
    "\n",
    "axc = [ax_c1, ax_c2]\n",
    "axv = [ax_v1, ax_v2]\n",
    "\n",
    "\n",
    "########## vector plot\n",
    "\n",
    "delta = 1.13\n",
    "\n",
    "ax_v1.set_xlim(-delta, 0)\n",
    "ax_v2.set_xlim(0, delta/2)\n",
    "\n",
    "for ax in axv:\n",
    "    ax.set_ylim(-1.1 * delta, .1 * delta)\n",
    "    \n",
    "for ax in axv:\n",
    "    ax.set_aspect('equal')\n",
    "    # add horizontal line\n",
    "    ax.axhline(0, c='k', lw=0.5)\n",
    "    \n",
    "pos_v1 = ax_v1.get_position()\n",
    "pos_v2 = ax_v2.get_position()\n",
    "ax_v2.set_position([pos_v1.x1, pos_v1.y0, pos_v2.width, pos_v2.height])\n",
    "\n",
    "\n",
    "\n",
    "# arrow properties\n",
    "props = {'width': 7e-3, 'length_includes_head':True}\n",
    "\n",
    "leg_d = 'dust'\n",
    "leg_g = 'gas'\n",
    "\n",
    "for St in [0.01, 0.1, 1, 10]:\n",
    "    \n",
    "    # compute velocities in units of eta vk\n",
    "\n",
    "    vdr = - 2 / (St + (1 + eps)**2 / St)\n",
    "    vdp = - (1 + eps) / ((1 + eps)**2 + St**2)\n",
    "\n",
    "    vgr = 2 * eps / (St + (1 + eps)**2 / St)\n",
    "    vgp = (eps / (1 + eps) / (1 + (St / (1 + eps))**2) - 1)\n",
    "\n",
    "    vd = np.sqrt(vdr**2 + vdp**2)\n",
    "    vg = np.sqrt(vgr**2 + vgp**2)\n",
    "\n",
    "    # plot the dust arrows\n",
    "    \n",
    "    #ax_v1.arrow(0, vdp, vdr,    0, **props, alpha=0.1)\n",
    "    #ax_v1.arrow(0, 0,     0,  vdp, **props, alpha=0.1)\n",
    "    ax_v1.arrow(0, 0,    vdr, vdp, **props, fc='C0', ec='C0', label=leg_d)\n",
    "    \n",
    "    # plot the gas arrows\n",
    "\n",
    "    ax_v2.arrow(0, 0,  vgr, vgp, **props, fc='C2', ec='C2', label=leg_g)\n",
    "    \n",
    "    # label the dust vectors with `St = ...`\n",
    "    \n",
    "    fact = 1 + 0.10 / vd\n",
    "    ax_v1.text(vdr * fact, vdp * fact, f'St = {St}',\n",
    "            horizontalalignment='center', fontsize='medium', verticalalignment='center',\n",
    "           color='C0', rotation=np.rad2deg(np.arctan(vdp/vdr)))\n",
    "\n",
    "    leg_d = None\n",
    "    leg_g = None\n",
    "    \n",
    "    # arc for St=1\n",
    "    if St == 1:\n",
    "        arc = Arc((0,0), 1, 1, angle=0.0, theta1=180.0, theta2=np.rad2deg(np.pi + np.arctan(0.5)))\n",
    "        ax_v1.add_patch(arc)\n",
    "        _r = 0.5\n",
    "        ax_v1.plot([0, -_r], [0, -_r / 2], c='k')\n",
    "        ax_v1.text(-0.45, -0.12, r'$\\approx arctan(\\mathsf{St}/2)$', rotation=13)\n",
    "    \n",
    "\n",
    "# label last gas vector\n",
    "fact = 1 + 0.10 / vg\n",
    "ax_v2.text(vgr * fact, vgp * fact, f'St = {St}',\n",
    "        horizontalalignment='center', fontsize='small', verticalalignment='center',\n",
    "       color='C2', rotation=np.rad2deg(np.arctan(vgp/vgr)))\n",
    "    \n",
    "#### plot curves #### \n",
    "\n",
    "St = np.logspace(-2, 1, 100)\n",
    "vdr = - 2 / (St + (1 + eps)**2 / St)\n",
    "vdp = - (1 + eps) / ((1 + eps)**2 + St**2)\n",
    "ax_v1.plot(vdr, vdp, 'C0', alpha=0.25)\n",
    "\n",
    "vgr = 2 * eps / (St + (1 + eps)**2 / St)\n",
    "vgp = (eps / (1 + eps) / (1 + (St / (1 + eps))**2) - 1)\n",
    "ax_v2.plot(vgr, vgp, 'C2', alpha=0.25)\n",
    "\n",
    "\n",
    "ax_v2.axes.get_yaxis().set_visible(False)\n",
    "ax_v2.xaxis.set_ticks([0.25, 0.50])\n",
    "\n",
    "texts = [fig.text(0.65, 0.05, 'radial velocity [$\\eta V_\\mathrm{k}$]', ha='center')]\n",
    "texts += [ax_v1.set_ylabel('azimuthal velocity [$\\eta V_\\mathrm{k}$]')]\n",
    "texts += [ax_v1.set_title('dust')]\n",
    "texts += [ax_v2.set_title('gas')]\n",
    "\n",
    "for t in texts:\n",
    "    t.set_fontweight('bold')\n",
    "    t.set_fontstyle('italic')\n",
    "\n",
    "for ax in axv:\n",
    "    helper.apply_araa_style(ax)\n",
    "\n",
    "##################### Component Plot #####################\n",
    "\n",
    "_St = np.logspace(-3, 2, 100)\n",
    "ax_c1.set_xlim(_St[[0, -1]])\n",
    "\n",
    "for i, epsilon in enumerate([0, 0.1, 1.0]):\n",
    "\n",
    "# compute speeds\n",
    "\n",
    "    vdr = - 2 / (_St + (1 + epsilon)**2 / _St)\n",
    "    vdp = - (1 + epsilon) / ((1 + epsilon)**2 + _St**2)\n",
    "\n",
    "    vgr = 2 * epsilon / (_St + (1 + epsilon)**2 / _St)\n",
    "    vgp = (epsilon / (1 + epsilon) / (1 + (_St / (1 + epsilon))**2) - 1)\n",
    "    \n",
    "\n",
    "    # radial speeds\n",
    "\n",
    "    ls = (i + 1) * '-'\n",
    "    if i==2:\n",
    "        ls=':'\n",
    "    label = int(i==0)\n",
    "\n",
    "    ax_c1.semilogx(_St, vdr, label=label * 'dust', c='C0', ls=ls)\n",
    "    ax_c1.semilogx(_St, vgr, label=label * 'gas', c='C2', ls=ls)\n",
    "\n",
    "\n",
    "    # Azimuthal speeds\n",
    "    ax_c2.semilogx(_St, vdp, label=label * 'dust', c='C0', ls=ls)\n",
    "    ax_c2.semilogx(_St, vgp, label=label * 'gas', c='C2', ls=ls)\n",
    "    \n",
    "    for ax in axc:\n",
    "        ax.plot([], c='k', ls=ls, label=f'$\\epsilon = {epsilon:.2f}$')\n",
    "        \n",
    "    \n",
    "ax_c1.axvline(1, c='k', ls='--')\n",
    "ax_c1.axhline(-1, c='k', ls='--')\n",
    "ax_c1.set_ylabel(r'$\\bf{radial}$ velocity [$\\eta\\,V_\\mathrm{k}$]')\n",
    "ax_c1.set_ylim(-1.1, 0.5)\n",
    "#axs[0].legend();\n",
    "\n",
    "ax_c2.axvline(1, c='k', ls='--')\n",
    "ax_c2.axhline(-.5, c='k', ls='--')\n",
    "ax_c2.set_xlabel('Stokes number')\n",
    "ax_c2.set_ylabel(r'$\\bf{azimuthal}$ velocity [$\\eta\\,V_\\mathrm{k}$]')\n",
    "ax_c2.set_ylim(-1.1, 0.1)\n",
    "ax_c2.legend()\n",
    "\n",
    "for ax in axc:\n",
    "    helper.apply_araa_style(ax)\n",
    "    \n",
    "plt.setp(ax_c1.get_xticklabels(), visible=False)\n",
    "\n",
    "    \n",
    "fig.savefig('NSH.pdf', transparent=True, bbox_inches='tight')"
   ]
  },
  {
   "cell_type": "markdown",
   "id": "db13e747-e835-4386-84a7-d645f28e1eb5",
   "metadata": {
    "tags": []
   },
   "source": [
    "# Sympy\n",
    "Derive NSH solution starting at 2.5. but replacing:\n",
    "\n",
    "\\begin{align}\n",
    "t _ {stop} &= \\frac{1}{A \\rho _ g}\\\\\n",
    "D &=(1 + \\epsilon) / t _ {stop} \\\\\n",
    "\\eta &= -\\frac{1}{2} \\frac{1}{\\rho _ g \\, \\Omega _ K \\, v _ K} \\frac{dP}{dr} \\\\\n",
    "& = -\\frac{1}{2} \\left( \\frac{h}{r} \\right)^2 \\frac{dln P}{dln r}\n",
    "\\end{align}"
   ]
  },
  {
   "cell_type": "code",
   "execution_count": null,
   "id": "5c422f91-da24-4666-acad-f23b44b19174",
   "metadata": {},
   "outputs": [],
   "source": [
    "import sympy as sp\n",
    "from IPython.display import Latex\n",
    "import matplotlib.pyplot as plt"
   ]
  },
  {
   "cell_type": "markdown",
   "id": "ffe0b149-9923-43c0-abf1-f1676ba5aad1",
   "metadata": {},
   "source": [
    "Define symbols"
   ]
  },
  {
   "cell_type": "code",
   "execution_count": null,
   "id": "6b09f0e1-eabe-48c1-9b84-779ecdb4a9bc",
   "metadata": {},
   "outputs": [],
   "source": [
    "vdr, vdp, vgr, vgp = sp.symbols('vd_r vd_\\phi vg_r vg_\\phi')\n",
    "St, eps, ts, Om = sp.symbols('St \\epsilon, t_stop, \\Omega_K', positive=True)\n",
    "eta, dPdr = sp.symbols(r'\\eta dP/dr')\n",
    "rhog, vk = sp.symbols(r'\\rho_g v_K', positive=True)"
   ]
  },
  {
   "cell_type": "markdown",
   "id": "f23045f3-8d82-43c3-8358-37e6a1b30c1e",
   "metadata": {},
   "source": [
    "Equations from [Nakagawa et al. 1986, Icarusm, 67, p. 375](https://doi.org/10.1016/0019-1035(86)90121-1):"
   ]
  },
  {
   "cell_type": "code",
   "execution_count": null,
   "id": "8ffadf1f-e871-48fd-a527-8a80e9c4bd06",
   "metadata": {},
   "outputs": [],
   "source": [
    "Eqns = [\n",
    "    - (vdr - vgr) / ts + 2 * Om * vdp,\n",
    "    - (vdp - vgp) / ts - vdr * Om / 2,\n",
    "    - eps * (vgr - vdr) / ts + 2 * Om * vgp - dPdr / rhog,\n",
    "    - eps * (vgp - vdp) / ts - Om * vgr / 2\n",
    "]"
   ]
  },
  {
   "cell_type": "code",
   "execution_count": null,
   "id": "c9356690-e2bc-498e-b125-1534529846c3",
   "metadata": {},
   "outputs": [],
   "source": [
    "sol = sp.solve(Eqns, (vdr, vdp, vgr, vgp))"
   ]
  },
  {
   "cell_type": "code",
   "execution_count": null,
   "id": "82b35ef8-1980-4d2a-9aae-b915768ccf75",
   "metadata": {},
   "outputs": [],
   "source": [
    "subs = {dPdr: -2 * eta * rhog * Om * vk,\n",
    "        ts:St/Om}"
   ]
  },
  {
   "cell_type": "code",
   "execution_count": null,
   "id": "d387ed10-39ef-4466-86e1-61e59d65d4d8",
   "metadata": {},
   "outputs": [],
   "source": [
    "v_dr = sol[vdr].subs(subs).simplify()\n",
    "v_gr = sol[vgr].subs(subs).simplify()\n",
    "v_dp = sol[vdp].subs(subs).simplify()\n",
    "v_gp = sol[vgp].subs(subs).simplify()"
   ]
  },
  {
   "cell_type": "code",
   "execution_count": null,
   "id": "6ffa1357-d873-41fb-8aa7-853932bfffcf",
   "metadata": {},
   "outputs": [],
   "source": [
    "for v in ['v_dr', 'v_dp', 'v_gr', 'v_gp']:\n",
    "    n = v.split('_')[1].replace('p',r'\\varphi')\n",
    "    display(Latex(f'$v_{{{n[0]},{n[1:]}}} =$ {locals()[v]._repr_latex_()}'))"
   ]
  },
  {
   "cell_type": "code",
   "execution_count": null,
   "id": "6eabc307-149f-4e25-8616-b85f9cc6755e",
   "metadata": {},
   "outputs": [],
   "source": [
    "v_dr.subs({St:1, eps:1})"
   ]
  },
  {
   "cell_type": "markdown",
   "id": "29af9db4-cc08-489d-a55e-b67feac6a0cc",
   "metadata": {},
   "source": [
    "Compute head-wind in units of $\\eta \\, v _ k$"
   ]
  },
  {
   "cell_type": "code",
   "execution_count": null,
   "id": "905cfa11-0303-44d9-a57b-95932da52826",
   "metadata": {},
   "outputs": [],
   "source": [
    "hw = (sp.sqrt( ((v_gr - v_dr)**2 + (v_gp - v_dp)**2) / (eta * vk)**2)).simplify()"
   ]
  },
  {
   "cell_type": "markdown",
   "id": "ff9d352f-aebd-40d3-9181-c3d4ec44720b",
   "metadata": {},
   "source": [
    "Compute maximum of head wind"
   ]
  },
  {
   "cell_type": "code",
   "execution_count": null,
   "id": "8d01c0a1-1e8a-44b9-afb7-3ddcd2b49790",
   "metadata": {},
   "outputs": [],
   "source": [
    "roots =sp.solve(sp.diff(hw, St).simplify())\n",
    "St_max = roots[0][St]\n",
    "hw_max = hw.subs({St: roots[0][St]}).simplify()\n",
    "\n",
    "Latex(f'head wind is maximal at {St_max._repr_latex_()} with value {hw_max._repr_latex_()}')"
   ]
  },
  {
   "cell_type": "code",
   "execution_count": null,
   "id": "8e8cb7fb-7c36-4466-876e-3783f4f84749",
   "metadata": {},
   "outputs": [],
   "source": [
    "_St_arr = np.logspace(-2, 1, 50)\n",
    "_hw = [hw.subs({eps: 0.01, St: _St}) for _St in _St_arr]\n",
    "\n",
    "f, ax = plt.subplots()\n",
    "ax.loglog(_St_arr, _hw)\n",
    "ax.axvline(np.sqrt(2) * (1 + 0.01), c='k', ls='--')\n",
    "ax.axhline(2 * np.sqrt(3) / 3., c='k', ls='--')\n",
    "ax.set_xlabel('Stokes number')\n",
    "ax.set_ylabel('head wind velocity [$\\epsilon\\,V_\\mathrm{k}$]');"
   ]
  },
  {
   "cell_type": "markdown",
   "id": "3bb9af1f-3291-48e7-b2ce-c3feb3e1e4d5",
   "metadata": {},
   "source": [
    "Ratio of radial speed of dust and gas"
   ]
  },
  {
   "cell_type": "code",
   "execution_count": null,
   "id": "d126ffde-b5b7-4302-9e82-7c6b79b66115",
   "metadata": {},
   "outputs": [],
   "source": [
    "(v_dr/v_gr).simplify()"
   ]
  },
  {
   "cell_type": "markdown",
   "id": "dd01b0be-efb2-49e9-957a-a27ff1e30c95",
   "metadata": {},
   "source": [
    "Gas $\\varphi$ velocity for large grains, low dust-to-gas ratio"
   ]
  },
  {
   "cell_type": "code",
   "execution_count": null,
   "id": "2a0f0474-fb2a-40ac-978d-663a59e1519c",
   "metadata": {},
   "outputs": [],
   "source": [
    "v_gp.subs({St:1,eps:0})"
   ]
  },
  {
   "cell_type": "markdown",
   "id": "f5a2119a-4186-4ca8-8580-2add40e240b3",
   "metadata": {},
   "source": [
    "Same for the dust: approaching $v_K$"
   ]
  },
  {
   "cell_type": "code",
   "execution_count": null,
   "id": "a05db286-2357-4a19-b50e-1d33eb2ecbb1",
   "metadata": {},
   "outputs": [],
   "source": [
    "v_dp.subs({St:1,eps:0})"
   ]
  },
  {
   "cell_type": "markdown",
   "id": "e7fddc5f-2f13-46bb-a74c-121049197197",
   "metadata": {},
   "source": [
    "Angle of radial velocity vector"
   ]
  },
  {
   "cell_type": "code",
   "execution_count": null,
   "id": "29608d8b-3d6b-4908-84d5-591523dc6c70",
   "metadata": {},
   "outputs": [],
   "source": [
    "((v_dp + eta * vk)/vk).simplify().subs({eps:0})"
   ]
  },
  {
   "cell_type": "code",
   "execution_count": null,
   "id": "2a5cd577-e931-48b5-9687-6726445088ba",
   "metadata": {},
   "outputs": [],
   "source": [
    "angle = sp.atan((v_dp + eta * vk)/v_dr).simplify()\n",
    "angle"
   ]
  },
  {
   "cell_type": "code",
   "execution_count": null,
   "id": "3034551e-0ad0-45b9-88ff-5acfae8da296",
   "metadata": {},
   "outputs": [],
   "source": [
    "angle.subs({eps:0})"
   ]
  },
  {
   "cell_type": "code",
   "execution_count": null,
   "id": "abfb0295-d613-4f8f-9793-be59fe5c3550",
   "metadata": {},
   "outputs": [],
   "source": [
    "np.arctan(0.5)*180/np.pi"
   ]
  },
  {
   "cell_type": "code",
   "execution_count": null,
   "id": "ee940ebc-9ba3-4ea4-9893-ff0d4668f323",
   "metadata": {},
   "outputs": [],
   "source": [
    "v_dr.subs({eps:0,St:1})"
   ]
  }
 ],
 "metadata": {
  "kernelspec": {
   "display_name": "Python 3 (ipykernel)",
   "language": "python",
   "name": "python3"
  },
  "language_info": {
   "codemirror_mode": {
    "name": "ipython",
    "version": 3
   },
   "file_extension": ".py",
   "mimetype": "text/x-python",
   "name": "python",
   "nbconvert_exporter": "python",
   "pygments_lexer": "ipython3",
   "version": "3.9.7"
  }
 },
 "nbformat": 4,
 "nbformat_minor": 5
}
