{
 "cells": [
  {
   "cell_type": "markdown",
   "id": "cb9d756f-1646-4e30-aea2-39a987399985",
   "metadata": {},
   "source": [
    "# Standard disk"
   ]
  },
  {
   "cell_type": "code",
   "execution_count": null,
   "id": "e200af47-988c-4300-a189-07954875cefc",
   "metadata": {},
   "outputs": [],
   "source": [
    "import matplotlib.pyplot as plt\n",
    "import numpy as np\n",
    "\n",
    "import dustpy as dp\n",
    "from dustpy import constants as c"
   ]
  },
  {
   "cell_type": "markdown",
   "id": "b2fe1291-5663-44d9-b957-485d2fe6d21f",
   "metadata": {},
   "source": [
    "We base this on a dustpy simulation"
   ]
  },
  {
   "cell_type": "code",
   "execution_count": null,
   "id": "ca48aa75-57c8-4d27-8efb-be1d7dcad332",
   "metadata": {},
   "outputs": [],
   "source": [
    "data_path = '/Users/birnstiel/DATA/araa_data/lowerres_dipsy6/data_nobump/'\n",
    "\n",
    "reader = dp.hdf5writer()\n",
    "reader.datadir = data_path\n",
    "data = reader.read.output(0)"
   ]
  },
  {
   "cell_type": "code",
   "execution_count": null,
   "id": "b7aca0cc-3eb9-459b-b242-4019f5f61f1b",
   "metadata": {},
   "outputs": [],
   "source": [
    "r = data.grid.r\n",
    "om = data.grid.OmegaK\n",
    "\n",
    "T = data.gas.T\n",
    "cs = data.gas.cs\n",
    "hg = data.gas.Hp\n",
    "sigg = data.gas.Sigma\n",
    "rhog0 = data.gas.rho\n",
    "\n",
    "v_th = np.sqrt(8 / np.pi) * cs\n",
    "vk = r * om"
   ]
  },
  {
   "cell_type": "markdown",
   "id": "9861650f-d08f-40bb-9e30-e7350d9c1d74",
   "metadata": {
    "tags": []
   },
   "source": [
    "## Stopping time"
   ]
  },
  {
   "cell_type": "code",
   "execution_count": null,
   "id": "40164fa7-b65a-4b9a-8bb3-95daac9c79b2",
   "metadata": {},
   "outputs": [],
   "source": [
    "for _a in [1e-4, 1e2]:\n",
    "    for _r in [c.au, 60 * c.au]:\n",
    "        ts = np.interp(_r, r, rho_s * _a / (v_th * rhog0))\n",
    "        print(f'ts({_a:.1e}, {_r / c.au:>5.2f}) = {ts:>12.1f} s  = {ts / c.year:6.2f} yr')"
   ]
  },
  {
   "cell_type": "markdown",
   "id": "6a3a2ef2-6d10-4126-913b-c54c7ba8b059",
   "metadata": {},
   "source": [
    "# Eta"
   ]
  },
  {
   "cell_type": "code",
   "execution_count": null,
   "id": "370069eb-c13e-437f-9dcd-27d239713403",
   "metadata": {},
   "outputs": [],
   "source": [
    "P = rhog0 * cs**2"
   ]
  },
  {
   "cell_type": "code",
   "execution_count": null,
   "id": "0dc95a1e-98eb-4393-8477-774a5aaddc2b",
   "metadata": {},
   "outputs": [],
   "source": [
    "gamma = np.gradient(np.log10(P), np.log10(r))"
   ]
  },
  {
   "cell_type": "code",
   "execution_count": null,
   "id": "2e72ac22-80cb-4898-a5c3-aeb565975704",
   "metadata": {},
   "outputs": [],
   "source": [
    "eta = -0.5 * (hg / r)**2 * gamma"
   ]
  },
  {
   "cell_type": "code",
   "execution_count": null,
   "id": "f5305d76-43a0-44c1-a5da-a254fedb27a7",
   "metadata": {},
   "outputs": [],
   "source": [
    "np.interp(c.au, r, hg / r)"
   ]
  },
  {
   "cell_type": "code",
   "execution_count": null,
   "id": "b0003923-689a-4499-b71d-c141f4ef988c",
   "metadata": {},
   "outputs": [],
   "source": [
    "np.interp(c.au, r, eta)"
   ]
  },
  {
   "cell_type": "code",
   "execution_count": null,
   "id": "67b1b869-9515-4d83-8cfa-bcce7c01d75f",
   "metadata": {},
   "outputs": [],
   "source": [
    "f, ax = plt.subplots()\n",
    "ax.loglog(r / c.au, eta)\n",
    "ax.loglog(r / c.au, 0.0022 * (r / c.au)**0.5, '--')"
   ]
  },
  {
   "cell_type": "code",
   "execution_count": null,
   "id": "4b27bcad-8917-4a0a-a276-7a85c883d8e7",
   "metadata": {},
   "outputs": [],
   "source": [
    "np.interp(c.au, r, eta * vk)"
   ]
  },
  {
   "cell_type": "markdown",
   "id": "3f03bc30-9860-4c4a-9880-e0cac6ebbea6",
   "metadata": {},
   "source": [
    "# $ v _ {r,max} $"
   ]
  },
  {
   "cell_type": "code",
   "execution_count": null,
   "id": "e47d8843-ab82-4d43-a192-39ae18ce0668",
   "metadata": {},
   "outputs": [],
   "source": [
    "vmax = 0.5 * (hg/r)**2*vk*gamma"
   ]
  },
  {
   "cell_type": "code",
   "execution_count": null,
   "id": "18d2bc64-14a3-4f99-9493-a6379e95728e",
   "metadata": {},
   "outputs": [],
   "source": [
    "(1e-2 * vmax * u.cm/u.s).to('au/Myr')"
   ]
  },
  {
   "cell_type": "code",
   "execution_count": null,
   "id": "c2115bce-81e7-4911-811d-fe67b759fb14",
   "metadata": {},
   "outputs": [],
   "source": [
    "f, ax = plt.subplots()\n",
    "\n",
    "ax.semilogx(r / c.au, -vmax / 100)\n",
    "ax.set_ylim(0, 100)"
   ]
  },
  {
   "cell_type": "code",
   "execution_count": null,
   "id": "4583633b-7927-40bf-bc7b-0d31f1a0cf0d",
   "metadata": {},
   "outputs": [],
   "source": [
    "np.interp(c.au, r, eta * vk)"
   ]
  },
  {
   "cell_type": "code",
   "execution_count": null,
   "id": "053304a4-55de-4d10-be97-7cd59d40e695",
   "metadata": {},
   "outputs": [],
   "source": [
    "(eta * vk * u.cm /u.s).to('au/kyr')"
   ]
  }
 ],
 "metadata": {
  "kernelspec": {
   "display_name": "Python 3 (ipykernel)",
   "language": "python",
   "name": "python3"
  },
  "language_info": {
   "codemirror_mode": {
    "name": "ipython",
    "version": 3
   },
   "file_extension": ".py",
   "mimetype": "text/x-python",
   "name": "python",
   "nbconvert_exporter": "python",
   "pygments_lexer": "ipython3",
   "version": "3.10.12"
  }
 },
 "nbformat": 4,
 "nbformat_minor": 5
}
