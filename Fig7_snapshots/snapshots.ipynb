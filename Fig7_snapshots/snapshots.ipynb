{
 "cells": [
  {
   "cell_type": "markdown",
   "id": "967a75bc-7285-446d-aea3-2efe687c6c4e",
   "metadata": {},
   "source": [
    "\n",
    "# Quiver Plots & Movies"
   ]
  },
  {
   "cell_type": "code",
   "execution_count": null,
   "id": "50ac2080-25ea-49d5-994d-a3c1ddcff88d",
   "metadata": {},
   "outputs": [],
   "source": [
    "import sys\n",
    "if '..' not in sys.path:\n",
    "    sys.path.append('..')\n",
    "\n",
    "from pathlib import Path\n",
    "import subprocess\n",
    "\n",
    "import matplotlib.pyplot as plt\n",
    "import matplotlib as mpl\n",
    "import cmocean\n",
    "import dill\n",
    "from tqdm.auto import tqdm\n",
    "from IPython.display import Video\n",
    "\n",
    "\n",
    "import dustpy\n",
    "import dustpy.constants as c\n",
    "from plot_helper import plot_quiver, plot_size_distri, get_transparent_cmap\n",
    "import helper\n",
    "\n",
    "\n",
    "# Read the paletton color file\n",
    "helper.set_paletton_colors([3,1,2,0])"
   ]
  },
  {
   "cell_type": "code",
   "execution_count": null,
   "id": "900851e1-8582-4478-829f-5379c4545542",
   "metadata": {},
   "outputs": [],
   "source": [
    "reader = dustpy.hdf5writer()\n",
    "data_dir = Path('~').expanduser() / 'DATA/araa_data/lowerres_dipsy6/data_bump'\n",
    "reader.datadir = str(data_dir)\n",
    "files = reader.read.listfiles()\n",
    "times = reader.read.sequence('t') / c.year\n",
    "file = Path(files[np.abs(times - 1e6).argmin()])\n",
    "\n",
    "sim = reader.read.output(str(file))"
   ]
  },
  {
   "cell_type": "markdown",
   "id": "d5c3a415-57dd-46d2-9d17-330821c4fe6c",
   "metadata": {},
   "source": [
    "## Make a PDF"
   ]
  },
  {
   "cell_type": "code",
   "execution_count": null,
   "id": "55f984a2-04b0-4ba7-9013-cd541ee0ac4e",
   "metadata": {},
   "outputs": [],
   "source": [
    "f, axs = plt.subplots(1, 2, figsize=(13, 4), gridspec_kw={'wspace':0.2});\n",
    "\n",
    "ax = plot_size_distri([str(file) for file in files],\n",
    "                      radii_au=[3, 30, 100],\n",
    "                      times=[1e4, 1e5, 1e6, 2e6, 3e6],\n",
    "                      legend=True, figsize=(6.4, 4), ax=axs[1])\n",
    "ax.set_facecolor('none')\n",
    "helper.apply_araa_style(ax)\n",
    "#ax.figure.savefig(helper.output_dir / f'size_distribution_{Path(reader.datadir).name}.pdf', transparent=True, bbox_inches='tight')\n",
    "\n",
    "output_file = helper.output_dir / file.with_suffix('.pdf').name.replace('data', 'BirnstielFig7_' + file.parent.name.replace('data_', '') + '_')\n",
    "f, ax, sols = plot_quiver(str(file), vmin=1e-8, cmap='cmo.algae', figsize=(6.4, 4), ax=axs[0])\n",
    "ax.set_facecolor('none')\n",
    "ax.set_xlim(right=300)\n",
    "helper.apply_araa_style(ax)\n",
    "\n",
    "f.dpi=150\n",
    "f.savefig(output_file, transparent=True, bbox_inches='tight')"
   ]
  },
  {
   "cell_type": "code",
   "execution_count": null,
   "id": "31c7b74f-1df5-4fe0-8501-b1fa47c153e1",
   "metadata": {},
   "outputs": [],
   "source": [
    "!open {helper.output_dir}"
   ]
  }
 ],
 "metadata": {
  "kernelspec": {
   "display_name": "Python 3 (ipykernel)",
   "language": "python",
   "name": "python3"
  },
  "language_info": {
   "codemirror_mode": {
    "name": "ipython",
    "version": 3
   },
   "file_extension": ".py",
   "mimetype": "text/x-python",
   "name": "python",
   "nbconvert_exporter": "python",
   "pygments_lexer": "ipython3",
   "version": "3.10.12"
  },
  "vscode": {
   "interpreter": {
    "hash": "bccf082f898b2356c8628c9441a85af51350700d2f5e39f1a029accc41e42a3d"
   }
  }
 },
 "nbformat": 4,
 "nbformat_minor": 5
}
