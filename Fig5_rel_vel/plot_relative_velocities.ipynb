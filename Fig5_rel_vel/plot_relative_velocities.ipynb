{
 "cells": [
  {
   "cell_type": "markdown",
   "id": "31df587f-9600-48b7-b519-701e60cf06da",
   "metadata": {},
   "source": [
    "# Relative velocities in DustPy"
   ]
  },
  {
   "cell_type": "code",
   "execution_count": null,
   "id": "d480af9c-bd5d-4f92-ba00-018bf17bb2e8",
   "metadata": {},
   "outputs": [],
   "source": [
    "import sys\n",
    "\n",
    "import numpy as np\n",
    "import matplotlib.pyplot as plt\n",
    "from matplotlib.colors import LogNorm\n",
    "import cmocean\n",
    "\n",
    "import dustpy as dp\n",
    "import dustpy.constants as c\n",
    "\n",
    "if '..' not in sys.path:\n",
    "    sys.path.append('..')\n",
    "\n",
    "import helper"
   ]
  },
  {
   "cell_type": "code",
   "execution_count": null,
   "id": "0bf092f7-4d39-4409-88ee-37550198007b",
   "metadata": {},
   "outputs": [],
   "source": [
    "import dill\n",
    "from pathlib import Path"
   ]
  },
  {
   "cell_type": "code",
   "execution_count": null,
   "id": "17c00493-fdf5-4644-9046-3efe1266bf31",
   "metadata": {},
   "outputs": [],
   "source": [
    "data_dir = '/Users/birnstiel/DATA/araa_data/lowerres_dipsy6/data_nobump/'"
   ]
  },
  {
   "cell_type": "code",
   "execution_count": null,
   "id": "0750323e-6a5a-4aa3-af70-ab6e1b7abd15",
   "metadata": {},
   "outputs": [],
   "source": [
    "with open(Path(data_dir) / 'frame.dmp', 'rb') as fid:\n",
    "    s = dill.load(fid)"
   ]
  },
  {
   "cell_type": "code",
   "execution_count": null,
   "id": "f083d378-ed4c-4d42-8177-47eb6d7e5d4b",
   "metadata": {},
   "outputs": [],
   "source": [
    "reader = dp.hdf5writer()\n",
    "reader.datadir = data_dir\n",
    "data = reader.read.output(1)"
   ]
  },
  {
   "cell_type": "code",
   "execution_count": null,
   "id": "ea03d98c-1e8b-4ad1-94ca-a1aa8eab8be0",
   "metadata": {},
   "outputs": [],
   "source": [
    "import simframe"
   ]
  },
  {
   "cell_type": "code",
   "execution_count": null,
   "id": "b607c6cb-0bf4-4819-907d-ae52ff9a5ae3",
   "metadata": {},
   "outputs": [],
   "source": [
    "def copy(s, data, indent=0):\n",
    "    \"for every field in `s`, this will copy the contents of `data` into `s`.\"\n",
    "    ind = indent * ' '\n",
    "    for key, value in s.__dict__.items():\n",
    "        if key.startswith('_'):\n",
    "            continue\n",
    "            \n",
    "        if isinstance(value, simframe.frame.Field):\n",
    "            print(f'{ind}setting field: {key}')\n",
    "            if hasattr(data, key):\n",
    "                getattr(s, key)[...] = value[...]\n",
    "            else:\n",
    "                print(f'{ind}{key} not in {type(data)}')\n",
    "                \n",
    "        elif isinstance(value, simframe.frame.Group):\n",
    "            print(f'Group: {key}')\n",
    "            \n",
    "            if hasattr(data, key):\n",
    "                copy(value, getattr(data, key), indent=indent + 2)\n",
    "            else:\n",
    "                print(f'{ind}{key} not in {type(data)}')\n",
    "        else:\n",
    "            raise ValueError('not implemented')"
   ]
  },
  {
   "cell_type": "code",
   "execution_count": null,
   "id": "19ccab55-b4d0-42e2-86ce-8848149248c6",
   "metadata": {},
   "outputs": [],
   "source": [
    "copy(s, data)"
   ]
  },
  {
   "cell_type": "code",
   "execution_count": null,
   "id": "7819647e-c575-4536-b825-f2f206595a00",
   "metadata": {},
   "outputs": [],
   "source": [
    "s.update()"
   ]
  },
  {
   "cell_type": "markdown",
   "id": "492ee397-3a24-4980-aa51-e6c4312fa0d0",
   "metadata": {},
   "source": [
    "Check Temperature and Surface density values"
   ]
  },
  {
   "cell_type": "code",
   "execution_count": null,
   "id": "c11a1d19-1c20-43fc-8d7f-c90bca67db19",
   "metadata": {},
   "outputs": [],
   "source": [
    "np.interp(c.au, s.grid.r, s.gas.T), np.interp(c.au, s.grid.r, s.gas.Sigma)"
   ]
  },
  {
   "cell_type": "code",
   "execution_count": null,
   "id": "31bb49bf-11d3-4101-a0f3-f445172c9549",
   "metadata": {},
   "outputs": [],
   "source": [
    "keys = {\n",
    "    'rad': 'Radial Motion',\n",
    "    'azi': 'Azimuthal Drift',\n",
    "    'vert': 'Vertical Settling',\n",
    "    'brown': 'Brownian Motion',\n",
    "    'turb': 'Turbulent Motion',\n",
    "    'tot': 'Total'}"
   ]
  },
  {
   "cell_type": "code",
   "execution_count": null,
   "id": "bcf776c9-a44f-4fff-9aa7-8fb4d3f5be84",
   "metadata": {},
   "outputs": [],
   "source": [
    "ir = np.abs(s.grid.r - c.au).argmin()\n",
    "a = s.dust.a[ir]\n",
    "\n",
    "f, axs = plt.subplots(2, 3, figsize=(12, 8), sharex=True, sharey=True, gridspec_kw={'hspace':0.1, 'wspace':0.1})\n",
    "\n",
    "vmin = 1e-2\n",
    "vmax = 1e4\n",
    "norm = LogNorm(vmin=vmin, vmax=vmax, clip=False)\n",
    "levels = np.geomspace(vmin, vmax, 3 * int(np.log10(vmax) - np.log10(vmin)) + 1)\n",
    "\n",
    "white_lines = [100, 1000]\n",
    "\n",
    "for i, (key, lab) in enumerate(keys.items()):\n",
    "    ax = axs.ravel()[i]\n",
    "    \n",
    "    vrel = getattr(s.dust.v.rel, key)[ir, ...]\n",
    "    cc = ax.contourf(a, a, vrel + 1e-100, levels, cmap='cmo.algae', norm=norm, extend='both')\n",
    "    \n",
    "    # style each plot\n",
    "    ax.set_aspect('equal')\n",
    "    ax.set_xscale('log')\n",
    "    ax.set_yscale('log')\n",
    "    ax.set_title(keys[key])\n",
    "    ax.minorticks_off()\n",
    "    \n",
    "    # add white contour lines\n",
    "    wc = ax.contour(a, a, vrel + 1e-100, white_lines, colors='w', linestyles=['--', '-'])\n",
    "    if i == 0:\n",
    "        manual = [(1e-3, 1e0), (1e-3, 1e2)]\n",
    "    else:\n",
    "        manual = False\n",
    "    ax.clabel(wc, fmt=lambda val: f'{val/100:.0f} m/s', manual=manual)\n",
    "\n",
    "\n",
    "# color bar\n",
    "\n",
    "pos1, pos0 = [ax.get_position() for ax in axs.ravel()[[2, -1]]]\n",
    "w = pos0.width / 10\n",
    "cax = f.add_axes([pos0.x1 + w, pos0.y0, w, pos1.y1 - pos0.y0])\n",
    "cb = f.colorbar(cc, cax=cax)\n",
    "cb.set_label('relative velocity [cm / s]')\n",
    "cb.set_ticks(10.**np.arange(np.log10(vmin), np.log10(vmax)+1))\n",
    "\n",
    "\n",
    "# axes ticks and labels\n",
    "\n",
    "for ax in axs[1,:]:\n",
    "    ax.set_xlabel('particle size [cm]')\n",
    "for ax in axs[:, 0]:\n",
    "    ax.set_ylabel('particle size [cm]')\n",
    "    \n",
    "for ax in axs.ravel():\n",
    "    ax.set_xticks(10.**np.arange(-5, 4))\n",
    "    ax.set_yticks(10.**np.arange(-5, 4))\n",
    "    ax.set_xlim(a[[0,-1]])\n",
    "    ax.set_ylim(a[[0,-1]])"
   ]
  },
  {
   "cell_type": "code",
   "execution_count": null,
   "id": "3243f4ec-0ae2-4938-8c52-f78461c4db4e",
   "metadata": {},
   "outputs": [],
   "source": [
    "f.savefig(helper.output_dir / 'BirnstielFig5.pdf', transparent=True, bbox_inches='tight')"
   ]
  },
  {
   "cell_type": "markdown",
   "id": "bc3ccd0e-42be-4d55-9bb7-7baa147035a4",
   "metadata": {},
   "source": [
    "## Check some values"
   ]
  },
  {
   "cell_type": "code",
   "execution_count": null,
   "id": "d20256fd-8b45-4f3c-ac9e-2690fe63757e",
   "metadata": {},
   "outputs": [],
   "source": [
    "for key in keys.keys():\n",
    "    val = getattr(s.dust.v.rel, key)\n",
    "    print(f'{key+\":\":6} {np.nanmax(val[ir, :, :])/100:>5.2f} m/s')"
   ]
  }
 ],
 "metadata": {
  "kernelspec": {
   "display_name": "Python 3 (ipykernel)",
   "language": "python",
   "name": "python3"
  },
  "language_info": {
   "codemirror_mode": {
    "name": "ipython",
    "version": 3
   },
   "file_extension": ".py",
   "mimetype": "text/x-python",
   "name": "python",
   "nbconvert_exporter": "python",
   "pygments_lexer": "ipython3",
   "version": "3.10.12"
  }
 },
 "nbformat": 4,
 "nbformat_minor": 5
}
