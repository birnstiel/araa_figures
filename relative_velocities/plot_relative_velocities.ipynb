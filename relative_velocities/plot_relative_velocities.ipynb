{
 "cells": [
  {
   "cell_type": "markdown",
   "id": "31df587f-9600-48b7-b519-701e60cf06da",
   "metadata": {},
   "source": [
    "# Relative velocities in DustPy"
   ]
  },
  {
   "cell_type": "code",
   "execution_count": null,
   "id": "d480af9c-bd5d-4f92-ba00-018bf17bb2e8",
   "metadata": {},
   "outputs": [],
   "source": [
    "import sys\n",
    "\n",
    "import numpy as np\n",
    "import matplotlib.pyplot as plt\n",
    "from matplotlib.colors import LogNorm\n",
    "import cmocean\n",
    "\n",
    "import dustpy as dp\n",
    "import dustpy.constants as c\n",
    "\n",
    "if '..' not in sys.path:\n",
    "    sys.path.append('..')\n",
    "\n",
    "import helper"
   ]
  },
  {
   "cell_type": "code",
   "execution_count": null,
   "id": "6d23a04b-72b6-46a8-9738-7fbbb9066596",
   "metadata": {},
   "outputs": [],
   "source": [
    "s = dp.Simulation()\n",
    "\n",
    "s.ini.grid.rmin = 0.1 * c.au\n",
    "s.ini.grid.rmax = 400 * c.au\n",
    "s.ini.grid.Nr = 300\n",
    "\n",
    "s.ini.grid.mmax *= 1e3\n",
    "s.ini.grid.mmin /= 1e3\n",
    "s.ini.grid.Nmbpd = 15\n",
    "\n",
    "s.ini.gas.alpha = 1e-3\n",
    "\n",
    "s.ini.gas.SigmaRc = 1e6 * c.au\n",
    "s.ini.gas.Mdisk = 141.417 * c.M_sun # that's made to get 200 g/cm^2 at 1 au\n",
    "\n",
    "s.initialize()\n",
    "\n",
    "s.gas.boundary.outer.setcondition('const_val')\n",
    "s.gas.boundary.outer.setboundary()\n",
    "\n",
    "s.gas.T = 200 * (s.grid.r / c.au)**0.5\n",
    "s.gas.T.updater = None\n",
    "\n",
    "s.update()"
   ]
  },
  {
   "cell_type": "markdown",
   "id": "492ee397-3a24-4980-aa51-e6c4312fa0d0",
   "metadata": {},
   "source": [
    "Check Temperature and Surface density values"
   ]
  },
  {
   "cell_type": "code",
   "execution_count": null,
   "id": "c11a1d19-1c20-43fc-8d7f-c90bca67db19",
   "metadata": {},
   "outputs": [],
   "source": [
    "np.interp(c.au, s.grid.r, s.gas.T), np.interp(c.au, s.grid.r, s.gas.Sigma)"
   ]
  },
  {
   "cell_type": "code",
   "execution_count": null,
   "id": "31bb49bf-11d3-4101-a0f3-f445172c9549",
   "metadata": {},
   "outputs": [],
   "source": [
    "keys = {\n",
    "    'rad': 'Radial Motion',\n",
    "    'azi': 'Azimuthal Drift',\n",
    "    'vert': 'Vertical Settling',\n",
    "    'brown': 'Brownian Motion',\n",
    "    'turb': 'Turbulent Motion',\n",
    "    'tot': 'Total'}"
   ]
  },
  {
   "cell_type": "code",
   "execution_count": null,
   "id": "bcf776c9-a44f-4fff-9aa7-8fb4d3f5be84",
   "metadata": {},
   "outputs": [],
   "source": [
    "ir = np.abs(s.grid.r - c.au).argmin()\n",
    "a = s.dust.a[ir]\n",
    "\n",
    "f, axs = plt.subplots(2, 3, figsize=(12, 8), sharex=True, sharey=True, gridspec_kw={'hspace':0.1, 'wspace':0.1})\n",
    "\n",
    "vmin = 1e-2\n",
    "vmax = 1e4\n",
    "norm = LogNorm(vmin=vmin, vmax=vmax, clip=False)\n",
    "levels = np.geomspace(vmin, vmax, 3 * int(np.log10(vmax) - np.log10(vmin)) + 1)\n",
    "\n",
    "white_lines = [100, 1000]\n",
    "\n",
    "for i, (key, lab) in enumerate(keys.items()):\n",
    "    ax = axs.ravel()[i]\n",
    "    \n",
    "    vrel = getattr(s.dust.v.rel, key)[ir, ...]\n",
    "    cc = ax.contourf(a, a, vrel + 1e-100, levels, cmap='cmo.algae', norm=norm, extend='both')\n",
    "    \n",
    "    # style each plot\n",
    "    ax.set_aspect('equal')\n",
    "    ax.set_xscale('log')\n",
    "    ax.set_yscale('log')\n",
    "    ax.set_title(keys[key])\n",
    "    ax.minorticks_off()\n",
    "    \n",
    "    # add white contour lines\n",
    "    wc = ax.contour(a, a, vrel + 1e-100, white_lines, colors='w', linestyles=['--', '-'])\n",
    "    if i == 0:\n",
    "        manual = [(1e-3, 1e0), (1e-3, 1e2)]\n",
    "    else:\n",
    "        manual = False\n",
    "    ax.clabel(wc, fmt=lambda val: f'{val/100:.0f} m/s', manual=manual)\n",
    "\n",
    "\n",
    "# color bar\n",
    "\n",
    "pos1, pos0 = [ax.get_position() for ax in axs.ravel()[[2, -1]]]\n",
    "w = pos0.width / 10\n",
    "cax = f.add_axes([pos0.x1 + w, pos0.y0, w, pos1.y1 - pos0.y0])\n",
    "cb = f.colorbar(cc, cax=cax)\n",
    "cb.set_label('relative velocity [cm / s]')\n",
    "cb.set_ticks(10.**np.arange(np.log10(vmin), np.log10(vmax)+1))\n",
    "\n",
    "\n",
    "# axes ticks and labels\n",
    "\n",
    "for ax in axs[1,:]:\n",
    "    ax.set_xlabel('particle size [cm]')\n",
    "for ax in axs[:, 0]:\n",
    "    ax.set_ylabel('particle size [cm]')\n",
    "    \n",
    "for ax in axs.ravel():\n",
    "    ax.set_xticks(10.**np.arange(-4, 3))\n",
    "    ax.set_yticks(10.**np.arange(-4, 3))"
   ]
  },
  {
   "cell_type": "code",
   "execution_count": null,
   "id": "3243f4ec-0ae2-4938-8c52-f78461c4db4e",
   "metadata": {},
   "outputs": [],
   "source": [
    "f.savefig(helper.output_dir / 'rel_vel.pdf', transparent=True, bbox_inches='tight')"
   ]
  },
  {
   "cell_type": "markdown",
   "id": "6ee342a8-c27a-421a-8a14-58d2702bb0e8",
   "metadata": {},
   "source": [
    "## Approximate Turbulent Velocities"
   ]
  },
  {
   "cell_type": "code",
   "execution_count": null,
   "id": "fd5257c7-2c9e-407e-84ad-0eee3b94e6cc",
   "metadata": {},
   "outputs": [],
   "source": [
    "Re = (s.gas.alpha * s.gas.Sigma * c.sigma_H2 / (2 * s.gas.mu))\n",
    "rhos = s.dust.rhos.mean(-1)\n",
    "ya = 1.6\n",
    "a_12 = Re**-0.5 / ya * 2 * s.gas.Sigma / (np.pi * rhos)\n",
    "a_BT = (8 * s.gas.Sigma / (np.pi * rhos) * Re**-0.25 *\n",
    "        np.sqrt(s.gas.mu / (3 * np.pi * s.gas.alpha)) * (4 * np.pi / 3 * rhos)**-0.5)**0.4\n",
    "\n",
    "u_g = s.gas.cs * np.sqrt(3 * s.gas.alpha / 2)\n",
    "St = s.dust.St\n",
    "St0 = St[:, [0]]"
   ]
  },
  {
   "cell_type": "code",
   "execution_count": null,
   "id": "00713bcb-7c2f-488b-a1e3-7e030419f78a",
   "metadata": {},
   "outputs": [],
   "source": [
    "eps = a[None, :] / (4 * a_12[:, None]) - a_12[:, None] / 4"
   ]
  },
  {
   "cell_type": "code",
   "execution_count": null,
   "id": "7569cede-a4fb-4436-af5c-68458e9c1fff",
   "metadata": {},
   "outputs": [],
   "source": [
    "dv_0 = np.zeros_like(s.dust.Sigma)\n",
    "\n",
    "# small grains\n",
    "_dv = Re[:, None]**0.25 * (St - St0)\n",
    "mask = a[None, :] > a_12[:, None]\n",
    "dv_0[mask] = _dv[mask]\n",
    "\n",
    "# medium sizes\n",
    "_dv = (1 - eps) * Re[:, None]**0.25 * (St - St0) + eps * (St - St0) * np.sqrt(3 * St)\n",
    "mask = (a[None, :] < a_12[:, None]) & (a[None, :] < 5 * a_12[:, None])\n",
    "dv_0[mask] = _dv[mask]\n",
    "\n",
    "# large sizes\n",
    "_dv = np.sqrt(3 * St)\n",
    "mask = a[None, :] > 5 * a_12[:, None]\n",
    "dv_0[mask] = _dv[mask]\n",
    "\n",
    "dv_0 *= u_g[:, None]"
   ]
  },
  {
   "cell_type": "code",
   "execution_count": null,
   "id": "af715efa-38f1-4f85-91b6-f579e1a19653",
   "metadata": {},
   "outputs": [],
   "source": [
    "dv_1 = np.sqrt(2 / 3) * dv_0.copy()\n",
    "dv_1[a[None, :] < a_12[:, None]] = 0.0"
   ]
  },
  {
   "cell_type": "code",
   "execution_count": null,
   "id": "0c3838ff-d85c-41e2-b5a1-27f86cb75e65",
   "metadata": {},
   "outputs": [],
   "source": [
    "def a2St(a):\n",
    "    #return a * rhos[ir] * np.pi / (2 * s.gas.Sigma[ir])\n",
    "    return np.interp(a, s.dust.a[ir, :], s.dust.St[ir, :])\n",
    "\n",
    "def St2a(St):\n",
    "    #return St / (rhos[ir] * np.pi / (2 * s.gas.Sigma[ir]))\n",
    "    return np.interp(St, s.dust.St[ir, :], s.dust.a[ir, :])"
   ]
  },
  {
   "cell_type": "markdown",
   "id": "7ddff16b-0832-4e19-b342-4975bddc310e",
   "metadata": {},
   "source": [
    "\\begin{align}\n",
    "v_\\mathrm{mon} = c_\\mathrm{s} \\, \\sqrt{\\frac{3}{2}\\alpha} \\,\n",
    "    \\begin{cases}\n",
    "        Re^{1/4} \\left(\\mathrm{St} - \\mathrm{St}_0 \\right) & a < a_{12}\\\\\n",
    "        \\sqrt{\\frac{3}{\\mathrm{St} + \\mathrm{St}^{-1}}} & a \\geq a_{12}\n",
    "    \\end{cases}\n",
    "\\end{align}\n",
    "\n",
    "\\begin{align}\n",
    "v_\\mathrm{eq} = \\sqrt{\\frac{2}{3}} \\,\n",
    "    \\begin{cases}\n",
    "        0 & a < a_{12}\\\\\n",
    "        v_\\mathrm{mon} & a \\geq a_{12}\n",
    "    \\end{cases}\n",
    "\\end{align}"
   ]
  },
  {
   "cell_type": "code",
   "execution_count": null,
   "id": "869c0b76-ab39-4c12-95b4-9a696d09a878",
   "metadata": {},
   "outputs": [],
   "source": [
    "# simple recipe\n",
    "\n",
    "simple_v_mon_0 = Re[:, None]**0.25 * (St - St0)\n",
    "simple_v_mon_1 = np.sqrt(3 / (St + 1 / St))\n",
    "simple_v_mon = np.minimum(simple_v_mon_0, simple_v_mon_1)\n",
    "simple_v_mon *= np.sqrt(3. / 2. * s.gas.alpha[:, None]) * s.gas.cs[:, None]\n",
    "\n",
    "simple_v_eq = np.sqrt(2 / 3) * simple_v_mon\n",
    "simple_v_eq[a[None, :] < a_12[:, None]] = 0.0"
   ]
  },
  {
   "cell_type": "code",
   "execution_count": null,
   "id": "033fe898-9d8d-4815-b0ba-b4543c1c96dd",
   "metadata": {},
   "outputs": [],
   "source": [
    "import seaborn as sns"
   ]
  },
  {
   "cell_type": "code",
   "execution_count": null,
   "id": "931e2554-aa68-4600-8149-2cbeea14f0b5",
   "metadata": {},
   "outputs": [],
   "source": [
    "sns.set_palette('Set1')"
   ]
  },
  {
   "cell_type": "code",
   "execution_count": null,
   "id": "9662c98b-12f6-4e27-9746-1e2fe139ebba",
   "metadata": {},
   "outputs": [],
   "source": [
    "f, ax = plt.subplots(dpi=200)\n",
    "\n",
    "# by how much do we have to shift indices to get double/half the particle size\n",
    "i_offset = np.abs(a - 2 * a[0]).argmin()\n",
    "\n",
    "# full ormel formula\n",
    "ax.loglog(a, np.diag(s.dust.v.rel.turb[ir, :, :]), 'k-')\n",
    "ax.loglog(a, s.dust.v.rel.turb[ir, :, 0], 'k--')\n",
    "ax.plot([], 'k-',  label='turbulence, Ormel et al. 2007')\n",
    "\n",
    "# other contributions\n",
    "ax.loglog(a[i_offset:], np.diag(s.dust.v.rel.rad[ir, ...], k=i_offset), 'C0-', label='radial drift')\n",
    "ax.loglog(a[i_offset:], np.diag(s.dust.v.rel.vert[ir, ...], k=i_offset), 'C1-', label='vertical settling')\n",
    "ax.loglog(a[i_offset:], np.diag(s.dust.v.rel.azi[ir, ...], k=i_offset), 'C2-', label='azimuthal drift')\n",
    "ax.loglog(a, np.diag(s.dust.v.rel.brown[ir, ...], k=0), 'C3-', label='Brownian motion')\n",
    "\n",
    "# interpolated version after B11\n",
    "\n",
    "# ax.loglog(a, dv_0[ir, :], 'C0--')\n",
    "# ax.loglog(a, dv_1[ir, :], 'C0-')\n",
    "# ax.plot([], 'C0', label='interp. approximation')\n",
    "\n",
    "# the two parts of this approximation\n",
    "\n",
    "# simple_v0 = np.sqrt(s.gas.alpha[:, None]) * s.gas.cs[:, None] * np.sqrt(3 / 2) * Re[:, None]**0.25 * (St - St0)\n",
    "# simple_v1 = np.sqrt(s.gas.alpha[:, None]) * s.gas.cs[:, None] * np.sqrt(3 / 2) * np.sqrt(3 * St)\n",
    "# ax.loglog(a, simple_v0[ir, :], 'r--', zorder=100)\n",
    "# ax.loglog(a, simple_v1[ir, :], 'r--')\n",
    "\n",
    "\n",
    "# brownian re-computed\n",
    "# m = s.grid.m\n",
    "# v_BM = np.sqrt(8 * s.gas.T[ir] * c.k_B * 2 / (np.pi * m))\n",
    "# ax.loglog(a, v_BM, 'r--', zorder=100)\n",
    "\n",
    "# simple formula\n",
    "\n",
    "ax.loglog(a, simple_v_eq[ir, :], c='0.5')\n",
    "ax.loglog(a, simple_v_mon[ir, :], c='0.5', ls='--')\n",
    "ax.plot([], c='0.5', label='turbulence, approximation')\n",
    "\n",
    "# axes styling\n",
    "\n",
    "ax.set_xlim(1e-5, a[St[ir].searchsorted(10)])\n",
    "ax.set_ylim(1e-2, 1e4)\n",
    "ax.set_xlabel('particle size [cm]')\n",
    "ax.set_ylabel(r'relative velocity [cm / s]')\n",
    "\n",
    "# secondary x-axis\n",
    "\n",
    "ax2 = ax.secondary_xaxis('top', functions=(a2St, St2a))\n",
    "ax2.set_xlabel('Stokes number')\n",
    "\n",
    "# vertical lines with text\n",
    "\n",
    "ax.axvline(a_12[ir], c='k', ls='--', lw=.5)\n",
    "ax.axvline(a_BT[ir], c='k', ls='--', lw=.5)\n",
    "ax.text(a_12[ir], 4e3, '$a_{12}$', rotation=90, ha='right')\n",
    "ax.text(a_BT[ir], 4e3, '$a_{BT}$', rotation=90, ha='right')\n",
    "\n",
    "# legend\n",
    "\n",
    "ax.plot([], 'k--', label='monomer collisions')\n",
    "ax.plot([], 'k-',  label='equal-sized collisions')\n",
    "fr = ax.legend(loc=(0, .55), fontsize='x-small', ).get_frame()\n",
    "fr.set_facecolor('w');\n",
    "fr.set_edgecolor('none')\n",
    "fr.set_alpha(0.9)"
   ]
  },
  {
   "cell_type": "code",
   "execution_count": null,
   "id": "a18c70d6-a21c-45bc-801f-643e57c881c7",
   "metadata": {},
   "outputs": [],
   "source": [
    "f.savefig(helper.output_dir / 'rel_vel2.pdf', transparent=True, bbox_inches='tight')"
   ]
  }
 ],
 "metadata": {
  "kernelspec": {
   "display_name": "Python 3 (ipykernel)",
   "language": "python",
   "name": "python3"
  },
  "language_info": {
   "codemirror_mode": {
    "name": "ipython",
    "version": 3
   },
   "file_extension": ".py",
   "mimetype": "text/x-python",
   "name": "python",
   "nbconvert_exporter": "python",
   "pygments_lexer": "ipython3",
   "version": "3.10.12"
  }
 },
 "nbformat": 4,
 "nbformat_minor": 5
}
