{
 "cells": [
  {
   "cell_type": "markdown",
   "id": "a3072fbc-9c4c-4827-9ee4-e9451a3916a9",
   "metadata": {},
   "source": [
    "# Plot IM Lup: ALMA vs SPHERE"
   ]
  },
  {
   "cell_type": "code",
   "execution_count": null,
   "id": "e12f8dd4-7ff2-47b5-a601-a09d1ddc63a9",
   "metadata": {},
   "outputs": [],
   "source": [
    "import numpy as np\n",
    "import matplotlib.pyplot as plt\n",
    "from matplotlib.colors import LogNorm\n",
    "from scipy.spatial.transform import Rotation as R\n",
    "from seaborn.cm import rocket\n",
    "\n",
    "sqdeg_per_sr = 4 * np.pi**2 / 360.0**2\n",
    "\n",
    "import helper\n",
    "plt.style.use([helper.araa_style])"
   ]
  },
  {
   "cell_type": "code",
   "execution_count": null,
   "id": "ef943067-b4ab-4aa8-bb46-03f94d5077bf",
   "metadata": {},
   "outputs": [],
   "source": [
    "fname_S = 'data_IMLup/IM_Lup_reducedRob_median_Hband_12.25mas_mod.fits'\n",
    "fname_A = 'data_IMLup/IMLup_continuum.fits'"
   ]
  },
  {
   "cell_type": "code",
   "execution_count": null,
   "id": "43e0e823-7208-48d8-a6b9-f7ae63793768",
   "metadata": {},
   "outputs": [],
   "source": [
    "clip = 3.0       # at how many arcsec to crop the image\n",
    "drange = 1e-3    # dynamic range of the image\n",
    "bar_in_au = 100. # how many au the size bar in the image has\n",
    "\n",
    "# get the distance in parsec based on the GAIA parallax\n",
    "\n",
    "gaia_plx = 6.4174937230476985 * u.mas\n",
    "dpc = (u.au / np.tan(gaia_plx)).to('pc').value"
   ]
  },
  {
   "cell_type": "markdown",
   "id": "45cc11f6-616a-448a-b27c-ce5122c91194",
   "metadata": {},
   "source": [
    "Rings measured by Avenhaus et al. 2018"
   ]
  },
  {
   "cell_type": "code",
   "execution_count": null,
   "id": "40f3e187-fe92-43aa-ab26-fcd7982492f3",
   "metadata": {},
   "outputs": [],
   "source": [
    "r_HA = [0.58, 0.96, 1.52, 2.10]\n",
    "inc_HA = [53., 55, 55., 56.]\n",
    "PA_HA = 325.\n",
    "hr_HA =  [0.18, 0.18, 0.23, 0.25]"
   ]
  },
  {
   "cell_type": "markdown",
   "id": "86372b96-2810-492f-b4d8-0f2a70faa008",
   "metadata": {},
   "source": [
    "First two rings are measured by Huang et al. 2018. Last one is my by-eye fit of the outer edge using the average inclination of the other rings"
   ]
  },
  {
   "cell_type": "code",
   "execution_count": null,
   "id": "ceb3b5c9-b433-4f89-8449-c4f393863151",
   "metadata": {},
   "outputs": [],
   "source": [
    "r_JH = [0.743, 0.845, 1.6]\n",
    "inc_JH = 47.5\n",
    "PA_JH = [145.2, 143.9, 144.55]"
   ]
  },
  {
   "cell_type": "markdown",
   "id": "8761a661-edc4-4654-911d-1f0fd6334f7b",
   "metadata": {},
   "source": [
    "## Load and plot images"
   ]
  },
  {
   "cell_type": "code",
   "execution_count": null,
   "id": "a9e9dfe2-bb1f-43d0-a744-888cdf266984",
   "metadata": {},
   "outputs": [],
   "source": [
    "img_S = helper.image(fname_S, clip=clip)\n",
    "img_A = helper.image(fname_A, clip=clip)"
   ]
  },
  {
   "cell_type": "code",
   "execution_count": null,
   "id": "ad56219a-d694-4cbe-88f0-8c775c18dcff",
   "metadata": {},
   "outputs": [],
   "source": [
    "fig = plt.figure(figsize=(5, 2.3), dpi=300)\n",
    "gs = fig.add_gridspec(ncols=3, nrows=1, width_ratios=[1, 1, 0.1], hspace=0.05)\n",
    "axs = [fig.add_subplot(_gs) for _gs in gs]\n",
    "\n",
    "for ax in axs[:-1]:\n",
    "    ax.set_aspect('equal')\n",
    "    ax.set_xlim(clip, -clip)\n",
    "    ax.set_ylim(-clip, clip)\n",
    "    ax.set_xlabel('$\\Delta$ RA [arcsec]', fontdict=helper.label_font_dict)\n",
    "    \n",
    "# plot the two images\n",
    "\n",
    "for ax, img in zip(axs, [img_S, img_A]):\n",
    "    # image\n",
    "    cc = ax.pcolormesh(img.xi, img.yi, np.maximum(img.data.T, drange), norm=LogNorm(drange, 1.0), rasterized=True)\n",
    "    \n",
    "    # scale bar\n",
    "    ax.plot(-0.8 * clip * np.ones(2) + [0, bar_in_au / dpc], -0.82 * clip * np.ones(2), 'w', lw=3)\n",
    "    ax.text(-0.8 * clip + bar_in_au / dpc / 2, -0.8 * clip, f'{bar_in_au:.0f} au',\n",
    "            c='w', horizontalalignment='center', verticalalignment='bottom');\n",
    "    \n",
    "# plot the rings in SPHERE\n",
    "\n",
    "for i_ring in range(4):\n",
    "    helper.plot_ring(axs[0], \n",
    "        r_HA[i_ring],\n",
    "        hr_HA[i_ring] * r_HA[i_ring],\n",
    "        np.deg2rad(inc_HA[i_ring]),\n",
    "        np.deg2rad(90+PA_HA),\n",
    "        nphi=50, c='w', alpha=0.25, lw=1, ls='--',  dashes=(5, 2))\n",
    "\n",
    "# plot rings in ALMA\n",
    "    \n",
    "for i_ring in range(len(r_JH)):\n",
    "    helper.plot_ring(axs[1], \n",
    "        r_JH[i_ring],\n",
    "        0.0,\n",
    "        np.deg2rad(inc_JH),\n",
    "        np.deg2rad(90+PA_JH[i_ring]),\n",
    "        nphi=50, c='w', alpha=0.25, lw=1, ls='--', dashes=(5, 2))\n",
    "\n",
    "\n",
    "# adjust spacing\n",
    "axs[1].yaxis.set_ticklabels([])\n",
    "fig.subplots_adjust(wspace=0.02)\n",
    "    \n",
    "# colorbar\n",
    "cb=plt.colorbar(cc, cax=axs[-1])\n",
    "pos = axs[1].get_position()\n",
    "axs[-1].set_position([pos.x1+0.02, pos.y0, pos.width / 15., pos.height])\n",
    "cb.set_label(r'$I_\\nu / I_\\nu^{max}$', fontdict=helper.label_font_dict)\n",
    "\n",
    "axs[0].set_ylabel('$\\Delta$ Dec [arcsec]', fontdict=helper.label_font_dict);"
   ]
  },
  {
   "cell_type": "code",
   "execution_count": null,
   "id": "351f3e68-f17a-459e-9019-26eaf374e50f",
   "metadata": {},
   "outputs": [],
   "source": [
    "fig.savefig(helper.output_dir / 'imlup.pdf', transparent=True, bbox_inches='tight')"
   ]
  }
 ],
 "metadata": {
  "kernelspec": {
   "display_name": "Python 3 (ipykernel)",
   "language": "python",
   "name": "python3"
  },
  "language_info": {
   "codemirror_mode": {
    "name": "ipython",
    "version": 3
   },
   "file_extension": ".py",
   "mimetype": "text/x-python",
   "name": "python",
   "nbconvert_exporter": "python",
   "pygments_lexer": "ipython3",
   "version": "3.9.7"
  }
 },
 "nbformat": 4,
 "nbformat_minor": 5
}
