{
 "cells": [
  {
   "cell_type": "markdown",
   "id": "a3072fbc-9c4c-4827-9ee4-e9451a3916a9",
   "metadata": {},
   "source": [
    "# Plot IM Lup: ALMA vs SPHERE"
   ]
  },
  {
   "cell_type": "code",
   "execution_count": null,
   "id": "e12f8dd4-7ff2-47b5-a601-a09d1ddc63a9",
   "metadata": {},
   "outputs": [],
   "source": [
    "from pathlib import Path\n",
    "import requests\n",
    "import os\n",
    "\n",
    "import numpy as np\n",
    "import matplotlib.pyplot as plt\n",
    "from matplotlib.colors import LogNorm\n",
    "from scipy.spatial.transform import Rotation as R\n",
    "from scipy.integrate import cumtrapz\n",
    "from seaborn.cm import rocket, mako\n",
    "from astropy.io import fits\n",
    "\n",
    "sqdeg_per_sr = 4 * np.pi**2 / 360.0**2\n",
    "\n",
    "import helper\n",
    "plt.style.use([helper.araa_style])"
   ]
  },
  {
   "cell_type": "markdown",
   "id": "4543c3aa-72c2-4090-a0ec-f7876683cb4c",
   "metadata": {},
   "source": [
    "Paths to the data files"
   ]
  },
  {
   "cell_type": "code",
   "execution_count": null,
   "id": "2ad17d7f-a4b7-4fd5-ac51-0dfae260b46d",
   "metadata": {},
   "outputs": [],
   "source": [
    "profile_url = 'https://almascience.eso.org/almadata/lp/DSHARP/profiles/IMLup.profile.txt'  # Path to the DSHARP radial profile\n",
    "fname_S = 'data_IMLup/IM_Lup_reducedRob_median_Hband_12.25mas_mod.fits'\n",
    "fname_A = 'data_IMLup/IMLup_continuum.fits'\n",
    "fname_CO = '/Users/birnstiel/DATA/IM_Lup_CO_220GHz/IM_Lup_CO_220GHz.0.3arcsec.JvMcorr.image.fits'"
   ]
  },
  {
   "cell_type": "markdown",
   "id": "96eed0cc-49af-461c-835b-0cbba93849a9",
   "metadata": {
    "tags": []
   },
   "source": [
    "## Get $r_{90}$"
   ]
  },
  {
   "cell_type": "markdown",
   "id": "6574318e-665b-438a-8d86-dd81f7bda3a4",
   "metadata": {},
   "source": [
    "Download and load the data"
   ]
  },
  {
   "cell_type": "code",
   "execution_count": null,
   "id": "9a245793-bee4-48ed-ae14-29f06facf1fe",
   "metadata": {},
   "outputs": [],
   "source": [
    "req = requests.get(profile_url, stream=True)\n",
    "\n",
    "fname = os.path.join('data_IMLup', Path(profile_url).name)\n",
    "\n",
    "with open(fname, 'w') as fh:\n",
    "    fh.write(req.text)\n",
    "\n",
    "profile = np.loadtxt(fname)\n",
    "\n",
    "prof_r = profile[:, 1]\n",
    "prof_I = profile[:, 2]"
   ]
  },
  {
   "cell_type": "markdown",
   "id": "16feb040-f942-4a5a-bad7-3719ba14d3bc",
   "metadata": {},
   "source": [
    "compute the 90% radius"
   ]
  },
  {
   "cell_type": "code",
   "execution_count": null,
   "id": "38ee060f-1916-471f-802d-caa377d2be0a",
   "metadata": {},
   "outputs": [],
   "source": [
    "cumflux = cumtrapz(2 * np.pi * prof_I * prof_r, x=prof_r, initial=0)\n",
    "r_90 = np.interp(90, cumflux / cumflux[-1], prof_r)"
   ]
  },
  {
   "cell_type": "markdown",
   "id": "8306108b-a85c-4b4e-acc0-66fbda8612eb",
   "metadata": {},
   "source": [
    "## Image & Plotting Parameters"
   ]
  },
  {
   "cell_type": "code",
   "execution_count": null,
   "id": "43e0e823-7208-48d8-a6b9-f7ae63793768",
   "metadata": {},
   "outputs": [],
   "source": [
    "clip = 3.0       # at how many arcsec to crop the image\n",
    "drange = 1e-3    # dynamic range of the image\n",
    "bar_in_au = 100. # how many au the size bar in the image has\n",
    "\n",
    "# get the distance in parsec based on the GAIA parallax\n",
    "\n",
    "gaia_plx = 6.4174937230476985 * u.mas\n",
    "dpc = (u.au / np.tan(gaia_plx)).to('pc').value"
   ]
  },
  {
   "cell_type": "markdown",
   "id": "45cc11f6-616a-448a-b27c-ce5122c91194",
   "metadata": {},
   "source": [
    "Rings measured by Avenhaus et al. 2018"
   ]
  },
  {
   "cell_type": "code",
   "execution_count": null,
   "id": "40f3e187-fe92-43aa-ab26-fcd7982492f3",
   "metadata": {},
   "outputs": [],
   "source": [
    "r_HA = [0.58, 0.96, 1.52, 2.10]\n",
    "inc_HA = [53., 55, 55., 56.]\n",
    "PA_HA = 325.\n",
    "hr_HA =  [0.18, 0.18, 0.23, 0.25]"
   ]
  },
  {
   "cell_type": "markdown",
   "id": "86372b96-2810-492f-b4d8-0f2a70faa008",
   "metadata": {},
   "source": [
    "First two rings are measured by Huang et al. 2018. Last one is my by-eye fit of the outer edge using the average inclination of the other rings"
   ]
  },
  {
   "cell_type": "code",
   "execution_count": null,
   "id": "ceb3b5c9-b433-4f89-8449-c4f393863151",
   "metadata": {},
   "outputs": [],
   "source": [
    "r_JH = [0.743, 0.845, r_90]\n",
    "inc_JH = 47.5\n",
    "PA_JH = [145.2, 143.9]\n",
    "PA_JH += [np.mean(PA_JH)]"
   ]
  },
  {
   "cell_type": "markdown",
   "id": "8761a661-edc4-4654-911d-1f0fd6334f7b",
   "metadata": {},
   "source": [
    "## Load and plot images"
   ]
  },
  {
   "cell_type": "code",
   "execution_count": null,
   "id": "dc8bd9fe-5283-43bb-ac95-d224deecac41",
   "metadata": {},
   "outputs": [],
   "source": [
    "img_S = helper.image(fname_S, clip=clip)\n",
    "img_A = helper.image(fname_A, clip=clip)\n",
    "img_CO = helper.image(fname_CO, clip=clip)"
   ]
  },
  {
   "cell_type": "markdown",
   "id": "ecde1289-6bfd-42b7-be3d-0de9f640c7f3",
   "metadata": {},
   "source": [
    "### 2-Panel Plot: ALMA & SPHERE"
   ]
  },
  {
   "cell_type": "code",
   "execution_count": null,
   "id": "ad56219a-d694-4cbe-88f0-8c775c18dcff",
   "metadata": {},
   "outputs": [],
   "source": [
    "fig = plt.figure(figsize=(5, 2.3), dpi=300)\n",
    "gs = fig.add_gridspec(ncols=3, nrows=1, width_ratios=[1, 1, 0.1], hspace=0.05)\n",
    "axs = [fig.add_subplot(_gs) for _gs in gs]\n",
    "\n",
    "for ax in axs[:-1]:\n",
    "    ax.set_aspect('equal')\n",
    "    ax.set_xlim(clip, -clip)\n",
    "    ax.set_ylim(-clip, clip)\n",
    "    ax.set_xlabel('$\\Delta$ RA [arcsec]', fontdict=helper.label_font_dict)\n",
    "    \n",
    "# plot the two images\n",
    "\n",
    "for ax, img, txt in zip(axs, [img_S, img_A], ['scattered light (1.65 $\\mu$m)', 'thermal emission (1.25 mm)']):\n",
    "    # image\n",
    "    cc = ax.pcolormesh(img.xi, img.yi, np.maximum(img.data.T, drange), norm=LogNorm(drange, 1.0), rasterized=True)\n",
    "    \n",
    "    # scale bar\n",
    "    ax.plot(-0.8 * clip * np.ones(2) + [0, bar_in_au / dpc], -0.82 * clip * np.ones(2), 'w', lw=3)\n",
    "    ax.text(-0.8 * clip + bar_in_au / dpc / 2, -0.8 * clip, f'{bar_in_au:.0f} au',\n",
    "            c='w', horizontalalignment='center', verticalalignment='bottom');\n",
    "    ax.text(0.9 * clip, 0.9 * clip, txt, horizontalalignment='left', verticalalignment='top', c='w', fontsize='small')\n",
    "    \n",
    "# plot the rings in SPHERE\n",
    "\n",
    "for i_ring in range(4):\n",
    "    helper.plot_ring(axs[0], \n",
    "        r_HA[i_ring],\n",
    "        hr_HA[i_ring] * r_HA[i_ring],\n",
    "        np.deg2rad(inc_HA[i_ring]),\n",
    "        np.deg2rad(90+PA_HA),\n",
    "        nphi=50, c='w', alpha=0.25, lw=1, ls='--',  dashes=(5, 2))\n",
    "\n",
    "# plot rings in ALMA\n",
    "    \n",
    "for i_ring in range(len(r_JH)):\n",
    "    helper.plot_ring(axs[1], \n",
    "        r_JH[i_ring],\n",
    "        0.0,\n",
    "        np.deg2rad(inc_JH),\n",
    "        np.deg2rad(90+PA_JH[i_ring]),\n",
    "        nphi=50, c='w', alpha=0.25, lw=1, ls='--', dashes=(5, 2))\n",
    "\n",
    "\n",
    "# adjust spacing\n",
    "axs[1].yaxis.set_ticklabels([])\n",
    "fig.subplots_adjust(wspace=0.02)\n",
    "    \n",
    "# colorbar\n",
    "cb=plt.colorbar(cc, cax=axs[-1])\n",
    "pos = axs[1].get_position()\n",
    "axs[-1].set_position([pos.x1+0.02, pos.y0, pos.width / 15., pos.height])\n",
    "cb.set_label(r'$I_\\nu / I_\\nu^{max}$', fontdict=helper.label_font_dict)\n",
    "\n",
    "axs[0].set_ylabel('$\\Delta$ Dec [arcsec]', fontdict=helper.label_font_dict);"
   ]
  },
  {
   "cell_type": "code",
   "execution_count": null,
   "id": "351f3e68-f17a-459e-9019-26eaf374e50f",
   "metadata": {},
   "outputs": [],
   "source": [
    "fig.savefig(helper.output_dir / 'imlup.pdf', transparent=True, bbox_inches='tight')"
   ]
  },
  {
   "cell_type": "markdown",
   "id": "24ff6d2b-95ca-41b8-ae0b-bd71ba9df535",
   "metadata": {},
   "source": [
    "### Just CO"
   ]
  },
  {
   "cell_type": "code",
   "execution_count": null,
   "id": "576deaf6-fdac-4ceb-9489-dc118f7c459b",
   "metadata": {},
   "outputs": [],
   "source": [
    "drange=1e-1\n",
    "\n",
    "f, ax = plt.subplots(dpi=150)\n",
    "ax.set_aspect('equal')\n",
    "cc = ax.pcolormesh(img_CO.xi, img_CO.yi, np.maximum(img_CO.data.T.max(0) / img_CO.data.T.max(), drange), rasterized=True,cmap=mako)\n",
    "\n",
    "ax.set_xlim(clip, -clip)\n",
    "ax.set_ylim(-clip, clip)\n",
    "ax.set_xlabel('$\\Delta$ RA [arcsec]', fontdict=helper.label_font_dict)\n",
    "\n",
    "# colorbar\n",
    "pos = ax.get_position()\n",
    "cax = f.add_axes([pos.x1+0.02, pos.y0, pos.width / 15., pos.height])\n",
    "cb=plt.colorbar(cc, cax=cax)\n",
    "\n",
    "cb.set_label(r'$I_\\nu / I_\\nu^{max}$', fontdict=helper.label_font_dict)\n",
    "\n",
    "ax.set_ylabel('$\\Delta$ Dec [arcsec]', fontdict=helper.label_font_dict);"
   ]
  },
  {
   "cell_type": "markdown",
   "id": "0abbd4e1-e84e-403b-ba76-b154ffe59ae8",
   "metadata": {},
   "source": [
    "### Combined plot of all 3 images"
   ]
  },
  {
   "cell_type": "code",
   "execution_count": null,
   "id": "36521a4c-3ab9-4df7-a950-94878dc17b1a",
   "metadata": {},
   "outputs": [],
   "source": [
    "drange=1e-3\n",
    "\n",
    "fig = plt.figure(figsize=(8, 2.3), dpi=300)\n",
    "gs = fig.add_gridspec(ncols=5, nrows=1, width_ratios=[1, 1, 1, 0.1, 0.1], hspace=0.05)\n",
    "axs = [fig.add_subplot(_gs) for _gs in gs]\n",
    "\n",
    "for ax in axs[:-2]:\n",
    "    ax.set_aspect('equal')\n",
    "    ax.set_xlim(clip, -clip)\n",
    "    ax.set_ylim(-clip, clip)\n",
    "    ax.set_xlabel('$\\Delta$ RA [arcsec]', fontdict=helper.label_font_dict)\n",
    "    \n",
    "# plot the two continuum images\n",
    "\n",
    "for i, (ax, img, txt) in enumerate(zip(\n",
    "        axs,\n",
    "        [img_S, img_A, img_CO],\n",
    "        ['scattered light (1.65 µm)', 'thermal emission (1.25 mm)', 'CO 2$-$1 peak intensity'])):\n",
    "    \n",
    "    if i < 2:\n",
    "        # dust image\n",
    "        cc1 = ax.pcolormesh(img.xi, img.yi, np.maximum(img.data.T, drange), norm=LogNorm(drange, 1.0), rasterized=True)\n",
    "    else:\n",
    "        # plot the gas image\n",
    "        cc2 = ax.pcolormesh(img.xi, img.yi, np.maximum(img.data.T.max(0) / img.data.T.max(), 0.0), rasterized=True, cmap=mako)\n",
    "    \n",
    "    # scale bar\n",
    "    ax.plot(-0.8 * clip * np.ones(2) + [0, bar_in_au / dpc], -0.82 * clip * np.ones(2), 'w', lw=3)\n",
    "    ax.text(-0.8 * clip + bar_in_au / dpc / 2, -0.8 * clip, f'{bar_in_au:.0f} au',\n",
    "            c='w', horizontalalignment='center', verticalalignment='bottom');\n",
    "    ax.text(0.9 * clip, 0.9 * clip, txt, horizontalalignment='left', verticalalignment='top', c='w', fontsize='small')\n",
    "    \n",
    "    \n",
    "# plot the rings in SPHERE\n",
    "\n",
    "for i_ring in range(4):\n",
    "    helper.plot_ring(axs[0], \n",
    "        r_HA[i_ring],\n",
    "        hr_HA[i_ring] * r_HA[i_ring],\n",
    "        np.deg2rad(inc_HA[i_ring]),\n",
    "        np.deg2rad(90+PA_HA),\n",
    "        nphi=50, c='w', alpha=0.25, lw=1, ls='--',  dashes=(5, 2))\n",
    "\n",
    "# plot rings in ALMA\n",
    "    \n",
    "for i_ring in range(len(r_JH)):\n",
    "    helper.plot_ring(axs[1], \n",
    "        r_JH[i_ring],\n",
    "        0.0,\n",
    "        np.deg2rad(inc_JH),\n",
    "        np.deg2rad(90+PA_JH[i_ring]),\n",
    "        nphi=50, c='w', alpha=0.25, lw=1, ls='--', dashes=(5, 2))\n",
    "\n",
    "\n",
    "# adjust spacing\n",
    "for ax in axs[1:3]:\n",
    "    ax.yaxis.set_visible(False)\n",
    "    \n",
    "fig.subplots_adjust(wspace=0.02)\n",
    "    \n",
    "# colorbars\n",
    "cb1 = plt.colorbar(cc1, cax=axs[-2])\n",
    "cb2 = plt.colorbar(cc2, cax=axs[-1])\n",
    "pos = axs[-3].get_position()\n",
    "axs[-2].set_position([pos.x1 + 0.02, pos.y0, pos.width / 15., pos.height])\n",
    "axs[-1].set_position([pos.x1 + 6 * pos.width / 15., pos.y0, pos.width / 15., pos.height])\n",
    "cb2.set_label(r'$I_\\nu / I_\\nu^{max}$', fontdict=helper.label_font_dict)\n",
    "\n",
    "# add ARAA-style labels\n",
    "\n",
    "for t, ax in zip('abc', axs[:3]):\n",
    "    pos = ax.get_position()\n",
    "    fig.text(pos.x0, pos.y1 + 0.03, t, fontdict=helper.label_font_dict, c='k', size='large')\n",
    "\n",
    "axs[0].set_ylabel('$\\Delta$ Dec [arcsec]', fontdict=helper.label_font_dict);"
   ]
  },
  {
   "cell_type": "code",
   "execution_count": null,
   "id": "c6194fd8-e6c8-4342-bc49-c2330945e916",
   "metadata": {},
   "outputs": [],
   "source": [
    "fig.savefig(helper.output_dir / 'imlup2.pdf', transparent=True, bbox_inches='tight')"
   ]
  },
  {
   "cell_type": "markdown",
   "id": "fd3e4ce5-0def-496c-87a0-c0e880a68716",
   "metadata": {},
   "source": [
    "## De-rotate IM Lup"
   ]
  },
  {
   "cell_type": "markdown",
   "id": "ad6b8d34-2e3d-465a-8e30-8ebc3301f383",
   "metadata": {},
   "source": [
    "We re-read the images with a larger FOV to be able to clip the rotated image"
   ]
  },
  {
   "cell_type": "code",
   "execution_count": null,
   "id": "a0a55345-566e-4a44-82b6-25aa064b239b",
   "metadata": {},
   "outputs": [],
   "source": [
    "clip = 4.5\n",
    "PA = 90 + np.mean(PA_JH)  # derive a mean PA\n",
    "\n",
    "img_S = helper.image(fname_S, clip=clip)\n",
    "img_A = helper.image(fname_A, clip=clip)\n",
    "\n",
    "# compute the slope of the intersecting line\n",
    "\n",
    "a = 1/np.arctan(np.deg2rad(PA))"
   ]
  },
  {
   "cell_type": "markdown",
   "id": "a36b789c-c999-4850-937f-73637238110b",
   "metadata": {},
   "source": [
    "### Diagonally split image"
   ]
  },
  {
   "cell_type": "code",
   "execution_count": null,
   "id": "3161cb0e-40da-48c7-bdb4-ce7a482c1dbe",
   "metadata": {},
   "outputs": [],
   "source": [
    "fig, ax = plt.subplots(dpi=200)\n",
    "ax.set_aspect('equal')\n",
    "ax.set_xlim(clip, -clip)\n",
    "ax.set_ylim(-clip, clip)\n",
    "ax.set_xlabel('$\\Delta$ RA [arcsec]', fontdict=helper.label_font_dict)\n",
    "    \n",
    "# plot the two images\n",
    "\n",
    "for i, (img, txt) in enumerate(zip([img_S, img_A], ['scattered light (1.65 $\\mu$m)', 'thermal emission (1.25 mm)'])):\n",
    "\n",
    "    # intersecting line\n",
    "    _y = img.x * a\n",
    "    plt.plot(img.x, _y)\n",
    "\n",
    "    # mask above and below the line\n",
    "\n",
    "    if i==0:\n",
    "        mask = img.y[None, :] > _y[:, None]\n",
    "    else:\n",
    "        mask = img.y[None, :] < _y[:, None]\n",
    "        \n",
    "    #\n",
    "    data = np.maximum(img.data, drange)\n",
    "    data = np.where(mask, data, np.nan)\n",
    "\n",
    "    \n",
    "    # image\n",
    "    cc = ax.pcolormesh(img.xi, img.yi, data.T, norm=LogNorm(drange, 1.0), rasterized=True)\n",
    "    \n",
    "    ax.text(0.9 * clip, (1 - 2 * i) * 0.9 * clip, txt, horizontalalignment='left', verticalalignment='top', c='w', fontsize='small')\n",
    "    \n",
    "# scale bar\n",
    "ax.plot(-0.8 * clip * np.ones(2) + [0, bar_in_au / dpc], -0.82 * clip * np.ones(2), 'w', lw=3)\n",
    "ax.text(-0.8 * clip + bar_in_au / dpc / 2, -0.8 * clip, f'{bar_in_au:.0f} au',\n",
    "        c='w', horizontalalignment='center', verticalalignment='bottom');\n",
    "\n",
    "    \n",
    "\n",
    "# adjust spacing\n",
    "axs[1].yaxis.set_ticklabels([])\n",
    "fig.subplots_adjust(wspace=0.02)\n",
    "    \n",
    "# colorbar\n",
    "\n",
    "pos = ax.get_position()\n",
    "cax = fig.add_axes([pos.x1+0.02, pos.y0, pos.width / 15., pos.height])\n",
    "cb = plt.colorbar(cc, cax=cax)\n",
    "cb.set_label(r'$I_\\nu / I_\\nu^{max}$', fontdict=helper.label_font_dict)\n",
    "\n",
    "ax.set_ylabel('$\\Delta$ Dec [arcsec]', fontdict=helper.label_font_dict);"
   ]
  },
  {
   "cell_type": "markdown",
   "id": "eeac0cf1-8cad-4dc2-b605-4a588de520b5",
   "metadata": {},
   "source": [
    "### De-rotated, split image"
   ]
  },
  {
   "cell_type": "code",
   "execution_count": null,
   "id": "97b76ca9-cfa9-4799-af54-77dbc40b1c42",
   "metadata": {},
   "outputs": [],
   "source": [
    "from astropy.visualization import ImageNormalize\n",
    "\n",
    "from astropy.visualization import PowerStretch"
   ]
  },
  {
   "cell_type": "code",
   "execution_count": null,
   "id": "f5ee0452-77af-4aac-bfba-e96ec274d38d",
   "metadata": {},
   "outputs": [],
   "source": [
    "drange = 0.005"
   ]
  },
  {
   "cell_type": "code",
   "execution_count": null,
   "id": "7084c586-94b5-4704-a7fc-ba1705d18869",
   "metadata": {},
   "outputs": [],
   "source": [
    "clip2 = 3.5\n",
    "\n",
    "fig, ax = plt.subplots(dpi=200)\n",
    "ax.set_aspect('equal')\n",
    "ax.set_xlim(clip2, -clip2)\n",
    "ax.set_ylim(-clip2, clip2)\n",
    "ax.set_xlabel('$\\Delta$ RA [arcsec]', fontdict=helper.label_font_dict)\n",
    "    \n",
    "# plot the two images\n",
    "\n",
    "for i, (img, txt) in enumerate(zip([img_S, img_A], ['scattered light (1.65 µm)', 'thermal emission (1.25 mm)'])):\n",
    "\n",
    "    _y = img.x * a\n",
    "\n",
    "    if i==0:\n",
    "        mask = img.y[None, :] > _y[:, None]\n",
    "    else:\n",
    "        mask = img.y[None, :] < _y[:, None]\n",
    "        \n",
    "    #\n",
    "    data = np.maximum(img.data, drange)\n",
    "    data = np.where(mask, data, np.nan)\n",
    "    \n",
    "    norm = ImageNormalize(data=data, stretch=PowerStretch(0.3), vmin=drange, vmax=1.0)\n",
    "    \n",
    "    # rotate\n",
    "    _x, _y = np.meshgrid(img.xi, img.yi, indexing='ij')\n",
    "    _xp = _x * np.cos(-np.deg2rad(PA-90)) - _y * np.sin(-np.deg2rad(PA-90))\n",
    "    _yp = _x * np.sin(-np.deg2rad(PA-90)) + _y * np.cos(-np.deg2rad(PA-90))\n",
    "    \n",
    "    # image\n",
    "    cc = ax.pcolormesh(_xp, _yp, data.T, norm=norm, rasterized=True)\n",
    "    \n",
    "    ax.text(0.9 * clip2 * (1 - 2 * i), 0.9 * clip2, txt,\n",
    "            horizontalalignment='left' * (i==0) + 'right' * (i==1), verticalalignment='top',\n",
    "            c='w', fontsize='x-small')\n",
    "    \n",
    "# scale bar\n",
    "ax.plot(-0.8 * clip2 * np.ones(2) + [0, bar_in_au / dpc], -0.82 * clip2 * np.ones(2), 'w', lw=3)\n",
    "ax.text(-0.8 * clip2 + bar_in_au / dpc / 2, -0.8 * clip2, f'{bar_in_au:.0f} au',\n",
    "        c='w', horizontalalignment='center', verticalalignment='bottom');\n",
    "    \n",
    "\n",
    "# adjust spacing\n",
    "axs[1].yaxis.set_ticklabels([])\n",
    "fig.subplots_adjust(wspace=0.02)\n",
    "    \n",
    "# colorbar\n",
    "\n",
    "pos = ax.get_position()\n",
    "cax = fig.add_axes([pos.x1+0.02, pos.y0, pos.width / 15., pos.height])\n",
    "cb = plt.colorbar(cc, cax=cax, ticks=[0.005, 0.01, 0.1, 0.2, 0.4, 1.0])\n",
    "cb.set_label(r'$I_\\nu / I_\\nu^{max}$', fontdict=helper.label_font_dict)\n",
    "\n",
    "ax.set_ylabel('$\\Delta$ Dec [arcsec]', fontdict=helper.label_font_dict);\n",
    "ax.set_facecolor('k')"
   ]
  },
  {
   "cell_type": "code",
   "execution_count": null,
   "id": "03160f02-c890-45b1-8902-c931043c782a",
   "metadata": {},
   "outputs": [],
   "source": [
    "fig.savefig(helper.output_dir / 'IMLup-2face.pdf', bbox_inches='tight')"
   ]
  }
 ],
 "metadata": {
  "kernelspec": {
   "display_name": "Python 3 (ipykernel)",
   "language": "python",
   "name": "python3"
  },
  "language_info": {
   "codemirror_mode": {
    "name": "ipython",
    "version": 3
   },
   "file_extension": ".py",
   "mimetype": "text/x-python",
   "name": "python",
   "nbconvert_exporter": "python",
   "pygments_lexer": "ipython3",
   "version": "3.9.7"
  }
 },
 "nbformat": 4,
 "nbformat_minor": 5
}
