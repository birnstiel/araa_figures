{
 "cells": [
  {
   "cell_type": "markdown",
   "id": "555b2d02-c0b7-487b-ad61-52287b49f12b",
   "metadata": {},
   "source": [
    "# Setup"
   ]
  },
  {
   "cell_type": "code",
   "execution_count": null,
   "id": "ff45300a-d316-4aee-b1ec-8353be10fb90",
   "metadata": {},
   "outputs": [],
   "source": [
    "import numpy as np\n",
    "import matplotlib.pyplot as plt\n",
    "from matplotlib.colors import LogNorm\n",
    "from plot_helper import Kanagawa2017_gap_profile\n",
    "\n",
    "import dustpy\n",
    "\n",
    "year = dustpy.constants.year\n",
    "au = dustpy.constants.au"
   ]
  },
  {
   "cell_type": "code",
   "execution_count": null,
   "id": "f4dc1a8b-1820-4860-a3a6-46f26ec77189",
   "metadata": {},
   "outputs": [],
   "source": [
    "def refinegrid(ri, r0, num=3):\n",
    "    \"\"\"Function to refine the radial grid\n",
    "\n",
    "    Parameters\n",
    "    ----------\n",
    "    ri : array\n",
    "        Radial grid\n",
    "    r0 : float\n",
    "        Radial location around which grid should be refined\n",
    "    num : int, option, default : 3\n",
    "        Number of refinement iterations\n",
    "\n",
    "    Returns\n",
    "    -------\n",
    "    ri : array\n",
    "        New refined radial grid\"\"\"\n",
    "    if num == 0:\n",
    "        return ri\n",
    "    ind = np.argmin(r0 > ri) - 1\n",
    "    indl = ind-num\n",
    "    indr = ind+num+1\n",
    "    ril = ri[:indl]\n",
    "    rir = ri[indr:]\n",
    "    N = (2*num+1)*2\n",
    "    rim = np.empty(N)\n",
    "    for i in range(0, N, 2):\n",
    "        j = ind-num+int(i/2)\n",
    "        rim[i] = ri[j]\n",
    "        rim[i+1] = 0.5*(ri[j]+ri[j+1])\n",
    "    ri = np.concatenate((ril, rim, rir))\n",
    "    return refinegrid(ri, r0, num=num-1)"
   ]
  },
  {
   "cell_type": "markdown",
   "id": "9709be6f-be8d-47b2-8f70-1e774a531104",
   "metadata": {},
   "source": [
    "## Run Dustpy\n",
    "Takes of the order of an hour"
   ]
  },
  {
   "cell_type": "code",
   "execution_count": null,
   "id": "0fb41d9d-8f71-4a1b-9e6f-d8000b7a4d2c",
   "metadata": {},
   "outputs": [],
   "source": [
    "bump = True"
   ]
  },
  {
   "cell_type": "code",
   "execution_count": null,
   "id": "9b9ca374-d6cb-4b6d-add7-f9c1fd2cd800",
   "metadata": {},
   "outputs": [],
   "source": [
    "ri = np.geomspace(2, 500, 200) * au\n",
    "ri_ref = refinegrid(ri, 28.713 * au, 5)"
   ]
  },
  {
   "cell_type": "code",
   "execution_count": null,
   "id": "73921ca8-89b3-46d5-9e23-87be9f6d66b3",
   "metadata": {},
   "outputs": [],
   "source": [
    "s = dustpy.Simulation()\n",
    "s.ini.gas.alpha = 1e-3\n",
    "s.ini.dust.vfrag = 1000.\n",
    "s.grid.ri = ri_ref\n",
    "s.initialize()\n",
    "\n",
    "s.dust.v.rel.azi.save = False\n",
    "s.dust.v.rel.brown.save = False\n",
    "s.dust.v.rel.rad .save = False\n",
    "s.dust.v.rel.tot .save = False\n",
    "s.dust.v.rel.turb.save = False\n",
    "s.dust.v.rel.vert.save = False\n",
    "s.dust.kernel.save = False\n",
    "s.dust.p.frag = False\n",
    "s.dust.p.stick = False\n",
    "s.t.snapshots = np.geomspace(1e2, 1e6, 50) * year"
   ]
  },
  {
   "cell_type": "code",
   "execution_count": null,
   "id": "2d7417d9-1a30-46be-802c-8ddc2b07511f",
   "metadata": {},
   "outputs": [],
   "source": [
    "s.writer.overwrite = True"
   ]
  },
  {
   "cell_type": "code",
   "execution_count": null,
   "id": "d62260e3-8aa4-4aaa-a86b-b391698ea706",
   "metadata": {},
   "outputs": [],
   "source": [
    "s.writer.datadir = 'data' + bump * '_bump'"
   ]
  },
  {
   "cell_type": "code",
   "execution_count": null,
   "id": "6b318694-24ee-488c-9746-9773d05999cc",
   "metadata": {},
   "outputs": [],
   "source": [
    "s.verbosity = 10"
   ]
  },
  {
   "cell_type": "markdown",
   "id": "e5bde1e0-e90a-46f3-b779-6f18040e8f78",
   "metadata": {},
   "source": [
    "Bump parameters"
   ]
  },
  {
   "cell_type": "code",
   "execution_count": null,
   "id": "071a1374-5cd7-4a6f-a629-16e6bc2d98d0",
   "metadata": {},
   "outputs": [],
   "source": [
    "rp = 20. * au\n",
    "h = np.interp(rp, s.grid.r, s.gas.Hp / s.grid.r)\n",
    "q = 1e-3\n",
    "hp = np.interp(rp, s.grid.r, s.gas.Hp) / rp\n",
    "alpha0 = s.ini.gas.alpha"
   ]
  },
  {
   "cell_type": "code",
   "execution_count": null,
   "id": "7fdc1ddb-9e47-48ca-bc20-ec02aadb2c68",
   "metadata": {},
   "outputs": [],
   "source": [
    "if bump:\n",
    "    finv = Kanagawa2017_gap_profile(s.grid.r, rp, q, hp, alpha0)\n",
    "    p = 10\n",
    "    finv_s = 2**(1 / p) / (np.ones_like(finv) + finv**(-p))**(1 / p)\n",
    "    s.gas.alpha = np.ones_like(s.gas.alpha) * alpha0 / finv_s\n",
    "\n",
    "    fig, ax = plt.subplots()\n",
    "    ax.semilogy(s.grid.r / au, s.gas.Sigma * finv)\n",
    "    ax.semilogy(s.grid.r / au, s.gas.Sigma * finv_s)\n",
    "    ax.set_xlim(10, 35)\n",
    "    ax.set_ylim(3e-1, 3e1)"
   ]
  },
  {
   "cell_type": "code",
   "execution_count": null,
   "id": "a6cca0a5-151f-41db-9aa4-a65516cc8e76",
   "metadata": {},
   "outputs": [],
   "source": [
    "f, ax = plt.subplots()\n",
    "ax.set_xlim(10, 40)\n",
    "ax.set_ylim(0, 3)\n",
    "ax.plot(ri / au, 1.0 * np.ones(len(ri)), '+')\n",
    "ax.plot(ri_ref / au, 2.0 * np.ones(len(ri_ref)), '+')"
   ]
  },
  {
   "cell_type": "code",
   "execution_count": null,
   "id": "0a4491d1-ec1d-4e96-983e-cc9230ccef16",
   "metadata": {},
   "outputs": [],
   "source": [
    "s.update()\n",
    "s.run()"
   ]
  }
 ],
 "metadata": {
  "kernelspec": {
   "display_name": "Python 3 (ipykernel)",
   "language": "python",
   "name": "python3"
  },
  "language_info": {
   "codemirror_mode": {
    "name": "ipython",
    "version": 3
   },
   "file_extension": ".py",
   "mimetype": "text/x-python",
   "name": "python",
   "nbconvert_exporter": "python",
   "pygments_lexer": "ipython3",
   "version": "3.9.7"
  }
 },
 "nbformat": 4,
 "nbformat_minor": 5
}
