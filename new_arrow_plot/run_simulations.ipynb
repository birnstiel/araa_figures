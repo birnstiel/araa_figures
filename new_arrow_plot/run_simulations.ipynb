{
 "cells": [
  {
   "cell_type": "markdown",
   "id": "555b2d02-c0b7-487b-ad61-52287b49f12b",
   "metadata": {},
   "source": [
    "# Setup"
   ]
  },
  {
   "cell_type": "code",
   "execution_count": null,
   "id": "ff45300a-d316-4aee-b1ec-8353be10fb90",
   "metadata": {},
   "outputs": [],
   "source": [
    "import numpy as np\n",
    "from scipy.interpolate import interp1d\n",
    "\n",
    "import matplotlib.pyplot as plt\n",
    "from matplotlib.colors import LogNorm\n",
    "\n",
    "from dustpylib.substructures import gaps\n",
    "from dustpylib.grid.refinement import refine_radial_local\n",
    "import dustpy\n",
    "from dustpy import constants as c\n",
    "\n",
    "year = c.year\n",
    "au = c.au"
   ]
  },
  {
   "cell_type": "markdown",
   "id": "0a741170-fa0d-42f4-99ad-fdab38a13794",
   "metadata": {},
   "source": [
    "$T(r) = 200~\\mathsf{K}  \\, (r/\\mathsf{au})^{-1/2}$\n",
    "\n",
    "$\\Sigma_g(r) = {200}\\,\\mathsf{g cm}^{-2} (r/\\mathsf{au})^{-1} \\, \\exp\\left(-\\frac{r}{r_c}\\right)$\n",
    "\n",
    "$M_\\star = M_\\odot$\n"
   ]
  },
  {
   "cell_type": "markdown",
   "id": "9709be6f-be8d-47b2-8f70-1e774a531104",
   "metadata": {},
   "source": [
    "## Run Dustpy\n",
    "Takes of the order of an hour"
   ]
  },
  {
   "cell_type": "code",
   "execution_count": null,
   "id": "0fb41d9d-8f71-4a1b-9e6f-d8000b7a4d2c",
   "metadata": {},
   "outputs": [],
   "source": [
    "add_planets = True"
   ]
  },
  {
   "cell_type": "code",
   "execution_count": null,
   "id": "d53c0071-a343-4e1f-8cc0-08f1774fc63a",
   "metadata": {},
   "outputs": [],
   "source": [
    "planets = {}\n",
    "if add_planets:\n",
    "    planets['jupiter'] = {\n",
    "        'a': 20 * c.au,\n",
    "        'a_bump': 28.713 * au,\n",
    "        'M': 317.8 * c.M_earth,\n",
    "    }"
   ]
  },
  {
   "cell_type": "markdown",
   "id": "17630f6e-a7ed-46e5-9f5b-beef7e2d528b",
   "metadata": {},
   "source": [
    "Create simulation, add planet(s) and refine grid around them (just like in [dustpylib](https://dustpylib.readthedocs.io/en/latest/planetary_gaps.html#Duffell-(2020)))"
   ]
  },
  {
   "cell_type": "code",
   "execution_count": null,
   "id": "dd7c83e8-ea5a-4aad-804f-a18a083e9472",
   "metadata": {},
   "outputs": [],
   "source": [
    "s = dustpy.Simulation()\n",
    "s.ini.gas.alpha = 1e-3\n",
    "s.ini.dust.vfrag = 1000.\n",
    "s.ini.grid.Nr = 200\n",
    "\n",
    "s.ini.grid.mmin = 2e-13\n",
    "s.ini.grid.mmax = 20000.0\n",
    "\n",
    "# we define a refined radial grid\n",
    "ri = np.geomspace(s.ini.grid.rmin, s.ini.grid.rmax, s.ini.grid.Nr)\n",
    "for planet in planets.values():\n",
    "    ri = refine_radial_local(ri, planet['a_bump'], num=5)\n",
    "\n",
    "# we assign that grid and use it to set Sigma_gas and T_gas before initialization\n",
    "s.grid.ri = ri\n",
    "s.makegrids()\n",
    "Sigma0 = 200 * (c.au / s.grid.r) * np.exp(-s.grid.r / s.ini.gas.SigmaRc) + 1e-100\n",
    "s.gas.addfield('Sigma', Sigma0, description='Surface density [g/cm²]')\n",
    "s.gas.addfield('T', 200 * np.sqrt(c.au / s.grid.r), description='Temperature [K]')\n",
    "\n",
    "# add the planets and initialize\n",
    "\n",
    "if add_planets:\n",
    "    s.addgroup('planets', description='Planets')\n",
    "    for name, planet in planets.items():\n",
    "        s.planets.addgroup(name, description=f'Planet {name.title()}')\n",
    "        s.planets.__dict__[name].addfield('M', planet['M'], description='Mass in g')\n",
    "        s.planets.__dict__[name].addfield('a', planet['a'], description='Semi-major axis in cm')\n",
    "\n",
    "s.initialize()"
   ]
  },
  {
   "cell_type": "markdown",
   "id": "86008b21-ceae-4204-9f92-4f547651ca9d",
   "metadata": {},
   "source": [
    "After initialization: prevent the large arrays from being stored"
   ]
  },
  {
   "cell_type": "code",
   "execution_count": null,
   "id": "60a8d589-e6aa-4df3-9ff8-a118fe90fee6",
   "metadata": {},
   "outputs": [],
   "source": [
    "s.dust.v.rel.azi.save = False\n",
    "s.dust.v.rel.brown.save = False\n",
    "s.dust.v.rel.rad .save = False\n",
    "s.dust.v.rel.tot .save = False\n",
    "s.dust.v.rel.turb.save = False\n",
    "s.dust.v.rel.vert.save = False\n",
    "s.dust.kernel.save = False\n",
    "s.dust.p.frag = False\n",
    "s.dust.p.stick = False\n",
    "s.t.snapshots = np.geomspace(1e2, 3e6, 50) * year\n",
    "\n",
    "s.writer.overwrite = True\n",
    "s.writer.datadir = f'data_{(not add_planets) * \"no\"}bump'\n",
    "s.verbosity = 10"
   ]
  },
  {
   "cell_type": "markdown",
   "id": "e5bde1e0-e90a-46f3-b779-6f18040e8f78",
   "metadata": {},
   "source": [
    "Bump parameters"
   ]
  },
  {
   "cell_type": "code",
   "execution_count": null,
   "id": "f4739263-2548-443a-b4a8-30d90637cc2f",
   "metadata": {},
   "outputs": [],
   "source": [
    "alpha0 = s.gas.alpha.copy()"
   ]
  },
  {
   "cell_type": "code",
   "execution_count": null,
   "id": "7fdc1ddb-9e47-48ca-bc20-ec02aadb2c68",
   "metadata": {},
   "outputs": [],
   "source": [
    "def alpha(s):\n",
    "    # Unperturbed profile\n",
    "    alpha = alpha0.copy()\n",
    "    \n",
    "    # Iteration over all planets\n",
    "    for name, p in (item for item in s.planets.__dict__.items() if not item[0].startswith('_')):\n",
    "            \n",
    "        # Dimensionless planet mass\n",
    "        q = p.M / s.star.M\n",
    "        \n",
    "        # Interpolation of aspect ratio and alpha0 onto planet position\n",
    "        h = interp1d(s.grid.r, s.gas.Hp / s.grid.r)(p.a)\n",
    "        alp = interp1d(s.grid.r, alpha0)(p.a)\n",
    "        \n",
    "        # Inverse alpha-profile\n",
    "        alpha /= gaps.duffell2020(s.grid.r, p.a, q, h, alp)\n",
    "        \n",
    "    return alpha"
   ]
  },
  {
   "cell_type": "code",
   "execution_count": null,
   "id": "64450db9-6e39-4e79-a4eb-28db11a8631d",
   "metadata": {},
   "outputs": [],
   "source": [
    "if add_planets:\n",
    "    # set this function as updater of alpha\n",
    "    s.gas.alpha.updater = alpha\n",
    "    s.update()\n",
    "    \n",
    "    # change initial condition\n",
    "    s.gas.Sigma[...] /= s.gas.alpha / alpha0\n",
    "    s.dust.Sigma[...] /= (s.gas.alpha / alpha0)[:, None]"
   ]
  },
  {
   "cell_type": "code",
   "execution_count": null,
   "id": "a6cca0a5-151f-41db-9aa4-a65516cc8e76",
   "metadata": {},
   "outputs": [],
   "source": [
    "f, ax = plt.subplots()\n",
    "ax.set_xlim(s.grid.r[[0, -1]] / au)\n",
    "ax.set_ylim(1e-3, 1e3)\n",
    "ax.loglog(s.grid.r / au, s.gas.Sigma, '+')\n",
    "ax.loglog(s.grid.r / au, s.dust.Sigma.sum(-1), '+')"
   ]
  },
  {
   "cell_type": "code",
   "execution_count": null,
   "id": "0a4491d1-ec1d-4e96-983e-cc9230ccef16",
   "metadata": {},
   "outputs": [],
   "source": [
    "s.update()\n",
    "s.run()"
   ]
  }
 ],
 "metadata": {
  "kernelspec": {
   "display_name": "Python 3 (ipykernel)",
   "language": "python",
   "name": "python3"
  },
  "language_info": {
   "codemirror_mode": {
    "name": "ipython",
    "version": 3
   },
   "file_extension": ".py",
   "mimetype": "text/x-python",
   "name": "python",
   "nbconvert_exporter": "python",
   "pygments_lexer": "ipython3",
   "version": "3.10.12"
  }
 },
 "nbformat": 4,
 "nbformat_minor": 5
}
