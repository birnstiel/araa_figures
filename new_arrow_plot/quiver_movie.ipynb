{
 "cells": [
  {
   "cell_type": "markdown",
   "id": "967a75bc-7285-446d-aea3-2efe687c6c4e",
   "metadata": {},
   "source": [
    "\n",
    "# Quiver Plots & Movies"
   ]
  },
  {
   "cell_type": "code",
   "execution_count": null,
   "id": "50ac2080-25ea-49d5-994d-a3c1ddcff88d",
   "metadata": {},
   "outputs": [],
   "source": [
    "import sys\n",
    "if '..' not in sys.path:\n",
    "    sys.path.append('..')\n",
    "\n",
    "from pathlib import Path\n",
    "import subprocess\n",
    "\n",
    "import matplotlib.pyplot as plt\n",
    "import cmocean\n",
    "from tqdm.auto import tqdm\n",
    "\n",
    "import dustpy\n",
    "import dustpy.constants as c\n",
    "from plot_helper import plot_quiver, read_paletton_text, plot_size_distri\n",
    "import helper\n",
    "\n",
    "# Read the paletton color file\n",
    "\n",
    "colors = (read_paletton_text()[[3,1,2,0], 0, :]/255).tolist()\n",
    "plt.imshow([colors]).axes.axis('off');"
   ]
  },
  {
   "cell_type": "code",
   "execution_count": null,
   "id": "d63ba8db-8ef9-4e92-82b7-63c804e3baf1",
   "metadata": {},
   "outputs": [],
   "source": [
    "reader = dustpy.hdf5writer()\n",
    "data_dir = Path('~').expanduser() / 'DATA/araa_data/highres_old/data_bump'\n",
    "reader.datadir = str(data_dir)\n",
    "files = reader.read.listfiles()"
   ]
  },
  {
   "cell_type": "code",
   "execution_count": null,
   "id": "c96b82fe-54f5-47ac-aa9b-f08e8768567a",
   "metadata": {},
   "outputs": [],
   "source": [
    "file = Path(files[-1])"
   ]
  },
  {
   "cell_type": "markdown",
   "id": "d5c3a415-57dd-46d2-9d17-330821c4fe6c",
   "metadata": {},
   "source": [
    "## Make a PDF"
   ]
  },
  {
   "cell_type": "code",
   "execution_count": null,
   "id": "d41ebd05-a90a-468a-86dd-629438c3b939",
   "metadata": {},
   "outputs": [],
   "source": [
    "ax = plot_size_distri([str(file) for file in files], radii_au=[3, -30, 100], cols=colors)\n",
    "ax.set_facecolor('none')\n",
    "helper.output_dir\n",
    "#f.savefig(helper.output_dir / 'size_distribution.pdf', transparent=True)"
   ]
  },
  {
   "cell_type": "code",
   "execution_count": null,
   "id": "7199bd96-0a76-4f55-b4a7-c3657ad7e8b6",
   "metadata": {},
   "outputs": [],
   "source": [
    "output_file = helper.output_dir / file.with_suffix('.pdf').name.replace('data', 'frame_')\n",
    "\n",
    "f, ax, sols = plot_quiver(str(file), vmin=1e-8, cmap='cmo.algae', cols=colors)\n",
    "ax.set_facecolor('none')\n",
    "f.savefig(output_file, transparent=True)"
   ]
  },
  {
   "cell_type": "markdown",
   "id": "8fd6b995-9397-4d3e-9030-815c38900b89",
   "metadata": {},
   "source": [
    "## Make the frames & compile movie"
   ]
  },
  {
   "cell_type": "code",
   "execution_count": null,
   "id": "ab25bacc-55c1-4a32-8b24-4c1fe13c7327",
   "metadata": {
    "scrolled": true,
    "tags": []
   },
   "outputs": [],
   "source": [
    "dirname = Path('frames')\n",
    "dirname.mkdir(exist_ok=True)\n",
    "\n",
    "for i, file in tqdm(enumerate(files), total=len(files)):\n",
    "    f, ax = plot_quiver(file, vmin=1e-7)\n",
    "    \n",
    "    f.savefig(dirname / f'frame_{i:03d}.jpg', transparent=False, dpi=300)\n",
    "\n",
    "    #ax.set_facecolor('none')\n",
    "    #f.savefig(dirname / f'frame_{i:03d}.png', transparent=True, dpi=300)\n",
    "    \n",
    "    plt.close(f)"
   ]
  },
  {
   "cell_type": "markdown",
   "id": "60efc714-c78b-42bd-878c-d841499177ab",
   "metadata": {},
   "source": [
    "Transparent"
   ]
  },
  {
   "cell_type": "code",
   "execution_count": null,
   "id": "4e7c7567-73c1-45cf-8f20-c9b87e2ffdaa",
   "metadata": {},
   "outputs": [],
   "source": [
    "ret = subprocess.check_output(\n",
    "    f'ffmpeg -y -r 12 -i {dirname}/frame_%03d.png -c:v prores_ks -profile:v 5 -vendor apl0  -bits_per_mb 8000 -pix_fmt yuva444p10le out_t.mov'.split(),\n",
    "    stderr=subprocess.STDOUT)"
   ]
  },
  {
   "cell_type": "markdown",
   "id": "9a023a03-54cf-40da-ae01-c86c82144f03",
   "metadata": {},
   "source": [
    "Non-Transparent"
   ]
  },
  {
   "cell_type": "code",
   "execution_count": null,
   "id": "d5048d5b-0790-4e8f-a79a-eca8bc1b79cf",
   "metadata": {},
   "outputs": [],
   "source": [
    "ret = subprocess.check_output(\n",
    "    f'ffmpeg -y -framerate 7 -i {dirname}/frame_%03d.png -c:v libx264 -crf 23 -pix_fmt yuv420p out.mp4'.split(),\n",
    "    stderr=subprocess.STDOUT)"
   ]
  }
 ],
 "metadata": {
  "kernelspec": {
   "display_name": "Python 3 (ipykernel)",
   "language": "python",
   "name": "python3"
  },
  "language_info": {
   "codemirror_mode": {
    "name": "ipython",
    "version": 3
   },
   "file_extension": ".py",
   "mimetype": "text/x-python",
   "name": "python",
   "nbconvert_exporter": "python",
   "pygments_lexer": "ipython3",
   "version": "3.10.12"
  },
  "vscode": {
   "interpreter": {
    "hash": "bccf082f898b2356c8628c9441a85af51350700d2f5e39f1a029accc41e42a3d"
   }
  }
 },
 "nbformat": 4,
 "nbformat_minor": 5
}
