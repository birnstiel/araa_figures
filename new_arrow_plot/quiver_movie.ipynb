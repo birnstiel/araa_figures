{
 "cells": [
  {
   "cell_type": "markdown",
   "id": "967a75bc-7285-446d-aea3-2efe687c6c4e",
   "metadata": {},
   "source": [
    "# Quiver Movie"
   ]
  },
  {
   "cell_type": "code",
   "execution_count": null,
   "id": "f3dae9a5-1414-4ab8-8ad8-aad90386125d",
   "metadata": {},
   "outputs": [],
   "source": [
    "from pathlib import Path\n",
    "\n",
    "import matplotlib.pyplot as plt\n",
    "from tqdm.auto import tqdm\n",
    "\n",
    "import dustpy\n",
    "from plot_helper import plot_quiver, get_transparent_cmap, num2tex"
   ]
  },
  {
   "cell_type": "code",
   "execution_count": null,
   "id": "cf86dc3e-fd42-4fc3-807b-0cf3806cdc6d",
   "metadata": {},
   "outputs": [],
   "source": [
    "reader = dustpy.hdf5writer()\n",
    "reader.datadir = 'data_bump/'\n",
    "files = reader.read.listfiles()"
   ]
  },
  {
   "cell_type": "markdown",
   "id": "8fd6b995-9397-4d3e-9030-815c38900b89",
   "metadata": {},
   "source": [
    "## Make the frames & compile movie"
   ]
  },
  {
   "cell_type": "code",
   "execution_count": null,
   "id": "ab25bacc-55c1-4a32-8b24-4c1fe13c7327",
   "metadata": {
    "tags": []
   },
   "outputs": [],
   "source": [
    "dirname = Path('frames')\n",
    "dirname.mkdir(exist_ok=True)\n",
    "\n",
    "for i, file in tqdm(enumerate(files), total=len(files)):\n",
    "    f, ax = plot_quiver(file)\n",
    "    ax.set_facecolor('none')\n",
    "    #f.savefig(dirname / f'frame_{i:03d}.jpg', transparent=False, dpi=300)\n",
    "    f.savefig(dirname / f'frame_{i:03d}.png', transparent=True, dpi=300)\n",
    "    plt.close(f)"
   ]
  },
  {
   "cell_type": "code",
   "execution_count": null,
   "id": "4e7c7567-73c1-45cf-8f20-c9b87e2ffdaa",
   "metadata": {},
   "outputs": [],
   "source": [
    "!ffmpeg -y -r 12 -i {dirname}/frame_%03d.png -c:v prores_ks -profile:v 5 -vendor apl0  -bits_per_mb 8000 -pix_fmt yuva444p10le out.mov"
   ]
  },
  {
   "cell_type": "code",
   "execution_count": null,
   "id": "ff841bc5-7897-4806-9a68-5f3dc8846136",
   "metadata": {},
   "outputs": [],
   "source": [
    "!open out.mov"
   ]
  },
  {
   "cell_type": "markdown",
   "id": "cce0960c-a897-4589-a09e-1ab27a5cd3f7",
   "metadata": {},
   "source": [
    "## Make a PDF"
   ]
  },
  {
   "cell_type": "code",
   "execution_count": null,
   "id": "7199bd96-0a76-4f55-b4a7-c3657ad7e8b6",
   "metadata": {},
   "outputs": [],
   "source": [
    "f, ax = plot_quiver(file)\n",
    "ax.set_facecolor('none')\n",
    "f.savefig(f'frame_{i:03d}.pdf', transparent=True)"
   ]
  }
 ],
 "metadata": {
  "kernelspec": {
   "display_name": "Python 3 (ipykernel)",
   "language": "python",
   "name": "python3"
  },
  "language_info": {
   "codemirror_mode": {
    "name": "ipython",
    "version": 3
   },
   "file_extension": ".py",
   "mimetype": "text/x-python",
   "name": "python",
   "nbconvert_exporter": "python",
   "pygments_lexer": "ipython3",
   "version": "3.9.7"
  }
 },
 "nbformat": 4,
 "nbformat_minor": 5
}
