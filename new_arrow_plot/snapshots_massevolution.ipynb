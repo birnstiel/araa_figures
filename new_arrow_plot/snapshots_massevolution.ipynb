{
 "cells": [
  {
   "cell_type": "markdown",
   "id": "967a75bc-7285-446d-aea3-2efe687c6c4e",
   "metadata": {},
   "source": [
    "\n",
    "# Quiver Plots & Movies"
   ]
  },
  {
   "cell_type": "code",
   "execution_count": null,
   "id": "50ac2080-25ea-49d5-994d-a3c1ddcff88d",
   "metadata": {},
   "outputs": [],
   "source": [
    "import sys\n",
    "if '..' not in sys.path:\n",
    "    sys.path.append('..')\n",
    "\n",
    "from pathlib import Path\n",
    "import subprocess\n",
    "\n",
    "import matplotlib.pyplot as plt\n",
    "import cmocean\n",
    "from tqdm.auto import tqdm\n",
    "from IPython.display import Video\n",
    "\n",
    "\n",
    "import dustpy\n",
    "import dustpy.constants as c\n",
    "from plot_helper import plot_quiver, read_paletton_text, plot_size_distri, get_transparent_cmap\n",
    "import helper\n",
    "\n",
    "# Read the paletton color file\n",
    "\n",
    "colors = (read_paletton_text()[[3,0,2,1], 0, :]/255).tolist()\n",
    "plt.imshow([colors]).axes.axis('off');"
   ]
  },
  {
   "cell_type": "code",
   "execution_count": null,
   "id": "900851e1-8582-4478-829f-5379c4545542",
   "metadata": {},
   "outputs": [],
   "source": [
    "reader = dustpy.hdf5writer()\n",
    "data_dir = Path('~').expanduser() / 'DATA/araa_data/lowres_highvf/data_bump'\n",
    "# data_dir = Path('data_bump')\n",
    "reader.datadir = str(data_dir)\n",
    "files = reader.read.listfiles()\n",
    "times = reader.read.sequence('t') / c.year\n",
    "file = Path(files[np.abs(times - 1e6).argmin()])\n",
    "\n",
    "sim = reader.read.output(str(file))"
   ]
  },
  {
   "cell_type": "markdown",
   "id": "d5c3a415-57dd-46d2-9d17-330821c4fe6c",
   "metadata": {},
   "source": [
    "## Make a PDF"
   ]
  },
  {
   "cell_type": "code",
   "execution_count": null,
   "id": "55f984a2-04b0-4ba7-9013-cd541ee0ac4e",
   "metadata": {},
   "outputs": [],
   "source": [
    "f, axs = plt.subplots(1, 2, figsize=(13, 4), gridspec_kw={'wspace':0.2});\n",
    "\n",
    "ax = plot_size_distri([str(file) for file in files],\n",
    "                      radii_au=[3, 30, 100],\n",
    "                      times=[1e4, 1e5, 1e6, 2e6, 3e6],\n",
    "                      legend=True,\n",
    "                      cols=colors, figsize=(6.4, 4), ax=axs[1])\n",
    "ax.set_facecolor('none')\n",
    "helper.apply_araa_style(ax)\n",
    "#ax.figure.savefig(helper.output_dir / f'size_distribution_{Path(reader.datadir).name}.pdf', transparent=True, bbox_inches='tight')\n",
    "\n",
    "output_file = helper.output_dir / file.with_suffix('.pdf').name.replace('data', 'frame_' + file.parent.name.replace('data_', '') + '_')\n",
    "f, ax, sols = plot_quiver(str(file), vmin=1e-8, cmap='cmo.algae', cols=colors, figsize=(6.4, 4), ax=axs[0])\n",
    "ax.set_facecolor('none')\n",
    "ax.set_xlim(right=300)\n",
    "helper.apply_araa_style(ax)\n",
    "\n",
    "f.dpi=150\n",
    "f.savefig(output_file, transparent=True, bbox_inches='tight')"
   ]
  },
  {
   "cell_type": "code",
   "execution_count": null,
   "id": "31c7b74f-1df5-4fe0-8501-b1fa47c153e1",
   "metadata": {},
   "outputs": [],
   "source": [
    "!open {helper.output_dir}"
   ]
  },
  {
   "cell_type": "markdown",
   "id": "8fd6b995-9397-4d3e-9030-815c38900b89",
   "metadata": {},
   "source": [
    "## Make the frames & compile movie"
   ]
  },
  {
   "cell_type": "code",
   "execution_count": null,
   "id": "ab25bacc-55c1-4a32-8b24-4c1fe13c7327",
   "metadata": {
    "tags": []
   },
   "outputs": [],
   "source": [
    "dirname = Path('frames')\n",
    "dirname.mkdir(exist_ok=True)\n",
    "\n",
    "for i, file in tqdm(enumerate(files), total=len(files)):\n",
    "    f, ax, sols = plot_quiver(file, vmin=1e-7,\n",
    "                              #cmap=get_transparent_cmap('cmo.algae'),\n",
    "                              cmap='cmo.algae',\n",
    "                              cols=colors, figsize=(6.4, 4))\n",
    "    ax.set_xlim(right=300)\n",
    "    helper.apply_araa_style(ax)\n",
    "    f.savefig(dirname / f'frame_{i:03d}.jpg', transparent=False, dpi=300)\n",
    "\n",
    "    #ax.set_facecolor('none')\n",
    "    #f.savefig(dirname / f'frame_{i:03d}.png', transparent=True, dpi=300)\n",
    "    \n",
    "    plt.close(f)"
   ]
  },
  {
   "cell_type": "markdown",
   "id": "60efc714-c78b-42bd-878c-d841499177ab",
   "metadata": {},
   "source": [
    "Transparent"
   ]
  },
  {
   "cell_type": "code",
   "execution_count": null,
   "id": "4e7c7567-73c1-45cf-8f20-c9b87e2ffdaa",
   "metadata": {},
   "outputs": [],
   "source": [
    "ret = subprocess.check_output(\n",
    "    f'ffmpeg -y -r 12 -i {dirname}/frame_%03d.png -c:v prores_ks -profile:v 5 -vendor apl0  -bits_per_mb 8000 -pix_fmt yuva444p10le out_t.mov'.split(),\n",
    "    stderr=subprocess.STDOUT)"
   ]
  },
  {
   "cell_type": "markdown",
   "id": "9a023a03-54cf-40da-ae01-c86c82144f03",
   "metadata": {},
   "source": [
    "Non-Transparent"
   ]
  },
  {
   "cell_type": "code",
   "execution_count": null,
   "id": "d5048d5b-0790-4e8f-a79a-eca8bc1b79cf",
   "metadata": {},
   "outputs": [],
   "source": [
    "ret = subprocess.check_output(\n",
    "    f'ffmpeg -y -framerate 7 -i {dirname}/frame_%03d.jpg -c:v libx264 -crf 23 -pix_fmt yuv420p out.mp4'.split(),\n",
    "    stderr=subprocess.STDOUT)"
   ]
  },
  {
   "cell_type": "code",
   "execution_count": null,
   "id": "ef4e68ec-aadb-415e-a069-b2898dc2060e",
   "metadata": {},
   "outputs": [],
   "source": [
    "Video('out.mp4', width=500)"
   ]
  },
  {
   "cell_type": "markdown",
   "id": "12978a85-8936-459f-a4fe-30685074e42e",
   "metadata": {},
   "source": [
    "## Test Bouncing barrier"
   ]
  },
  {
   "cell_type": "code",
   "execution_count": null,
   "id": "fa4a2489-c969-4110-89b1-d0d6f7f9827a",
   "metadata": {},
   "outputs": [],
   "source": [
    "from matplotlib.colors import LogNorm\n",
    "ab = (3 * 3.3e-3 / (4*np.pi*sim.dust.rhos.mean()))**(1/3)\n",
    "a_bounce = ab * (2 / (3 * np.pi) * sim.gas.Sigma / (sim.gas.alpha * ab * sim.dust.rhos.mean() * sim.gas.cs**2))**(18/48)\n",
    "\n",
    "A = np.mean(sim.grid.m[1:] / sim.grid.m[:-1])\n",
    "B = 2 * (A - 1) / (A + 1)\n",
    "\n",
    "f, ax = plt.subplots()\n",
    "ax.contourf(sim.grid.r / c.au, sim.dust.a[0], sim.dust.Sigma.T / B,\n",
    "            norm=LogNorm(1e-8, 1e1),\n",
    "            levels=10.**np.arange(-8, 2), cmap=get_transparent_cmap('cmo.algae'))\n",
    "ax.loglog(sim.grid.r / c.au, a_bounce)\n",
    "ax.loglog(sim.grid.r / c.au, 1e-3 * (sim.grid.r / (10*c.au))**(-9/48))"
   ]
  },
  {
   "cell_type": "markdown",
   "id": "9aa1e2bb-bdf5-4a87-814d-5c363ef8c7d2",
   "metadata": {},
   "source": [
    "# Mass evolution plot"
   ]
  },
  {
   "cell_type": "code",
   "execution_count": null,
   "id": "3ae980ef-2b4b-441b-a29e-9ef4de87cb07",
   "metadata": {},
   "outputs": [],
   "source": [
    "data_dirs = list((Path('~').expanduser() / 'DATA/araa_data/lowres_highvf').glob('data_*'))"
   ]
  },
  {
   "cell_type": "code",
   "execution_count": null,
   "id": "d2f0c4b0-60fd-4cbc-9889-4be12542f8d8",
   "metadata": {},
   "outputs": [],
   "source": [
    "def plot_blue_green_transition(ax):\n",
    "    _x = np.linspace(0, 1, 100)\n",
    "    _b = 1 / (np.exp((_x - 0.47) / 0.05) + 1)\n",
    "    _g = 1 - 1 / (np.exp((_x - 0.53) / 0.05) + 1)\n",
    "    \n",
    "    img1 = plt.get_cmap('Blues')(1-_x)\n",
    "    img2 = plt.get_cmap('Greens')(_x)\n",
    "    \n",
    "    img1[:, -1] = _b\n",
    "    img2[:, -1] = _g\n",
    "    \n",
    "    ax.imshow([img1], aspect='auto', alpha=0.75)\n",
    "    ax.imshow([img2], aspect='auto', alpha=0.75)\n",
    "    ax.axis('off')\n",
    "    ax.set_facecolor('none')"
   ]
  },
  {
   "cell_type": "code",
   "execution_count": null,
   "id": "ffdab875-6144-4954-b253-5d95247681a3",
   "metadata": {},
   "outputs": [],
   "source": [
    "f, ax = plt.subplots(figsize=(6.4, 4))\n",
    "ax.loglog()\n",
    "xlim = [1e3, 3e6]\n",
    "ylim = [5e-3, 2]\n",
    "\n",
    "ax.set_xlim(xlim)\n",
    "ax.set_ylim(ylim)\n",
    "\n",
    "# get conversion functions\n",
    "\n",
    "axis_to_data = ax.transAxes + ax.transData.inverted()\n",
    "data_to_axis = axis_to_data.inverted()#\n",
    "\n",
    "# plot the lines\n",
    "\n",
    "for i, data_dir in enumerate(data_dirs[::-1]):\n",
    "\n",
    "    writer = dustpy.hdf5writer()\n",
    "    writer.datadir = str(data_dir)\n",
    "    \n",
    "    data = writer.read.output(0)\n",
    "    r = data.grid.r\n",
    "    A = data.grid.A\n",
    "    \n",
    "    time = writer.read.sequence('t')\n",
    "    sigg = writer.read.sequence('gas.Sigma')\n",
    "    sigd = writer.read.sequence('dust.Sigma')\n",
    "    \n",
    "    Mg = (data.grid.A * sigg).sum(-1)\n",
    "    Md = (data.grid.A * sigd.sum(-1)).sum(-1)\n",
    "    \n",
    "    l1, = ax.loglog(time / c.year, Mg / Mg[0], c=colors[i+1], ls='--')\n",
    "    l2, = ax.loglog(time / c.year, Md / Md[0], c=colors[i+1], ls='-')\n",
    "\n",
    "    # Compute dust mass outside planet and display it\n",
    "    if ('_bump' in str(data_dir)):\n",
    "        i_p = r.searchsorted(data.planets.jupiter.a[0])\n",
    "        m_out = (data.dust.Sigma.sum(-1) * data.grid.A)[i_p:].sum()\n",
    "        _ = ax.axhline(m_out / Md[0], c='0.35', ls='--', zorder=1)\n",
    "        ax.text(axis_to_data.transform([0.2, 0])[0], m_out / Md[0],\n",
    "                r'dust mass at $r>r_\\mathrm{gap}$',\n",
    "                ha='center', va='bottom', fontsize=8, c=_.get_color())\n",
    "\n",
    "ax.set_xlabel('time [yr]')\n",
    "ax.set_ylabel('mass / initial mass')\n",
    "\n",
    "ax.loglog([], c=colors[2], label='with pressure bump')\n",
    "ax.loglog([], c=colors[1], label='without pressure bump')\n",
    "ax.loglog([], c='k', ls='--', label='dust')\n",
    "ax.loglog([], c='k', ls='-', label='gas')\n",
    "ax.loglog(time / c.year, 0.3 * ((time + 1e-100) / (1e5 * c.year))**-1, c='k', ls=':')\n",
    "ax.text(0.9, 0.25, r'$\\propto t^{-1}$',\n",
    "        ha='center', va='bottom', transform=ax.transAxes,\n",
    "        rotation=-45, transform_rotates_text=True)\n",
    "\n",
    "# compute and show time scale\n",
    "\n",
    "Ng = 4\n",
    "Rg = 100\n",
    "tgrow = np.interp(Rg * c.au, r, Ng / (data.grid.OmegaK * data.dust.eps))\n",
    "ax.axvline(tgrow / c.year, c='k', ls='-.')\n",
    "ax.text(data_to_axis.transform([tgrow / c.year, 0])[0], 0.5,\n",
    "        fr'${Ng} \\times t_\\mathrm{{grow}} \\mathsf{{~at~}} {Rg}$ au',\n",
    "        va='center', ha='right', rotation=90, transform=ax.transAxes)\n",
    "\n",
    "ax.legend().get_frame().set_alpha(0)\n",
    "\n",
    "#### background coloring ####\n",
    "\n",
    "fill = [xlim[0], tgrow / c.year]\n",
    "y0 = 1.3\n",
    "\n",
    "# first fill is normal\n",
    "ax.fill_between(fill, ylim[0] * np.ones(2), y2=ylim[1] * np.ones(2),\n",
    "                color=plt.get_cmap('Blues')(1.0),\n",
    "                alpha=0.5, ec='none', zorder=0)\n",
    "\n",
    "# add another axes to overlay an image\n",
    "_x0, _y0 = data_to_axis.transform([tgrow / c.year, ylim[0]])\n",
    "_x1, _y1 = data_to_axis.transform([xlim[1], ylim[1]])\n",
    "axi = ax.inset_axes([_x0, _y0, _x1 - _x0, _y1 - _y0])\n",
    "plot_blue_green_transition(axi)\n",
    "axi.zorder=0\n",
    "\n",
    "ax.set_xlim(xlim)\n",
    "ax.set_ylim(ylim)    \n",
    "\n",
    "# text for the 3 epochs\n",
    "\n",
    "opts = dict(ha='center', weight='bold', fontsize=8)\n",
    "ax.text(10.**np.mean(np.log10(fill)), y0, 'initial growth', **opts)\n",
    "ax.text(1.5e5, y0, 'frag. limited', **opts)\n",
    "ax.text(1.3e6, y0, 'drift limited', **opts)\n",
    "\n",
    "output_file = helper.output_dir / ('mass_evolution_' + data_dir.parent.with_suffix('.pdf').name)\n",
    "ax.set_facecolor('none')\n",
    "helper.apply_araa_style(ax)\n",
    "f.savefig(output_file)"
   ]
  },
  {
   "cell_type": "code",
   "execution_count": null,
   "id": "c83014e8-ebc6-4716-97bb-4b4be7446fe8",
   "metadata": {},
   "outputs": [],
   "source": [
    "m_out_t = (sigd.sum(-1) * data.grid.A[None, ...])[:, i_p:].sum(-1)"
   ]
  }
 ],
 "metadata": {
  "kernelspec": {
   "display_name": "Python 3 (ipykernel)",
   "language": "python",
   "name": "python3"
  },
  "language_info": {
   "codemirror_mode": {
    "name": "ipython",
    "version": 3
   },
   "file_extension": ".py",
   "mimetype": "text/x-python",
   "name": "python",
   "nbconvert_exporter": "python",
   "pygments_lexer": "ipython3",
   "version": "3.10.12"
  },
  "vscode": {
   "interpreter": {
    "hash": "bccf082f898b2356c8628c9441a85af51350700d2f5e39f1a029accc41e42a3d"
   }
  }
 },
 "nbformat": 4,
 "nbformat_minor": 5
}
