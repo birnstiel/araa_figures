{
 "cells": [
  {
   "cell_type": "code",
   "execution_count": null,
   "id": "73203ee9-4e1f-4f93-acab-21d225058b91",
   "metadata": {},
   "outputs": [],
   "source": [
    "from pathlib import Path\n",
    "from types import SimpleNamespace\n",
    "\n",
    "import matplotlib.pyplot as plt\n",
    "import numpy as np\n",
    "from scipy.stats import gaussian_kde\n",
    "from scipy.interpolate import make_interp_spline, BSpline\n",
    "from astropy.io import ascii\n",
    "\n",
    "import dustpy\n",
    "import dustpy.constants as c\n",
    "\n",
    "import sys\n",
    "if '..' not in sys.path:\n",
    "    sys.path.append('..')\n",
    "import helper\n",
    "import plot_helper\n",
    "\n",
    "# Read the paletton color file\n",
    "helper.set_paletton_colors()"
   ]
  },
  {
   "cell_type": "markdown",
   "id": "31645d03-a2df-4dd0-82e6-48340198f747",
   "metadata": {},
   "source": [
    "## Load Tazzari data"
   ]
  },
  {
   "cell_type": "code",
   "execution_count": null,
   "id": "78f498dd-55d8-48a5-9613-73f497700bed",
   "metadata": {},
   "outputs": [],
   "source": [
    "tdir = helper.data_dir / 'Tazzari2021'\n",
    "\n",
    "tb_fr = ascii.read(tdir / 'Table2_Tazzari2021a.txt', format='ipac').to_pandas(index='Name')\n",
    "tb_fr = tb_fr[np.abs(tb_fr.wle/1.3 - 1) <0.1][['Ftot', 'R68']]\n",
    "\n",
    "tb_distances = ascii.read(str(tdir / 'Table1_Tazzari2021b.txt'), format='ipac').to_pandas(index='Name')[['d']]\n",
    "tb_falpha = ascii.read(str(tdir / 'Table2_Tazzari2021b.txt'), format='ipac').to_pandas(index='Name')[['alpha', 'F3mm']]\n",
    "\n",
    "# get rid of the ones without alpha\n",
    "nan = np.isnan(tb_falpha['alpha'])\n",
    "alpha_tazz = tb_falpha[~nan]['alpha']\n",
    "f3mm = tb_falpha[~nan]['F3mm']\n",
    "dist = tb_distances[~nan]['d']\n",
    "\n",
    "# convert to commont distance and 1mm\n",
    "f1mm = f3mm / ((1. / 3.)**alpha_tazz)\n",
    "f1mm_tazz_140pc = f1mm * (dist / 140.)**2.\n",
    "\n",
    "# store in namespace \n",
    "taz = SimpleNamespace()\n",
    "taz.f1mm = f1mm_tazz_140pc.values\n",
    "taz.alpha = alpha_tazz.values"
   ]
  },
  {
   "cell_type": "markdown",
   "id": "a5738e3d-f159-473c-a243-b62b2b033064",
   "metadata": {},
   "source": [
    "## Load Testi data"
   ]
  },
  {
   "cell_type": "code",
   "execution_count": null,
   "id": "4d078442-779b-4fad-a4a9-ad8d6a0cb2a7",
   "metadata": {},
   "outputs": [],
   "source": [
    "tes = SimpleNamespace(**np.load(helper.data_dir / 'Testi2014.npz'))\n",
    "tes.F_mm *= (tes.d_pc / 140.)**2\n",
    "\n",
    "obs_a = np.concatenate((taz.alpha, tes.alpha_mm))\n",
    "obs_f = np.concatenate((taz.f1mm, tes.F_mm))"
   ]
  },
  {
   "cell_type": "markdown",
   "id": "ab49927c-b9e7-40b3-b95e-f855b7548f43",
   "metadata": {},
   "source": [
    "## Compute Observables from dustpy"
   ]
  },
  {
   "cell_type": "code",
   "execution_count": null,
   "id": "905612d1-e11b-4fcd-a9c5-d24a4b43c0c9",
   "metadata": {},
   "outputs": [],
   "source": [
    "import dustpylib.radtrans.slab as slab"
   ]
  },
  {
   "cell_type": "code",
   "execution_count": null,
   "id": "ff99e31c-7c97-480e-9410-bfa69f50c9d2",
   "metadata": {},
   "outputs": [],
   "source": [
    "data_dirs = list(Path('~/DATA/araa_data/lowerres_dipsy6').expanduser().glob('data_*'))"
   ]
  },
  {
   "cell_type": "code",
   "execution_count": null,
   "id": "ac41afd9-6bcd-492c-87f0-dcbfad09feef",
   "metadata": {},
   "outputs": [],
   "source": [
    "dustpy_data = {}\n",
    "\n",
    "for dir in data_dirs:\n",
    "\n",
    "    sn = SimpleNamespace()\n",
    "    dustpy_data[dir.name] = sn\n",
    "    \n",
    "    data = helper.read_dustpy_data(dir)\n",
    "    it  = np.abs(data.time - 1e5 * c.year).argmin()\n",
    "\n",
    "    opac = slab.Opacity('ricci_compact.npz')\n",
    "    lams = np.array([0.089, 0.31])\n",
    "    obs = slab.slab.get_all_observables(data, opac, lams)\n",
    "    sn.alpha089_310 = -np.log(obs.flux_t[:, 0]/obs.flux_t[:, 1]) / np.log(lams[0]/lams[1])\n",
    "\n",
    "    obs2 = slab.slab.get_all_observables(data, opac, [0.1])\n",
    "    sn.f1mm = obs2.flux_t\n",
    "    sn.reff = obs2.rf\n",
    "    sn.time = data.time"
   ]
  },
  {
   "cell_type": "markdown",
   "id": "97e17d04-d2c8-4143-a492-02f4fba66ddb",
   "metadata": {},
   "source": [
    "## Compute combined Testi-Tazzari KDE"
   ]
  },
  {
   "cell_type": "code",
   "execution_count": null,
   "id": "d285dfd4-2244-4729-8a18-4e6e8f305d70",
   "metadata": {},
   "outputs": [],
   "source": [
    "# compute the KDE\n",
    "xi = np.log10(obs_f)\n",
    "yi = obs_a\n",
    "kde = gaussian_kde(np.array([xi, yi]))\n",
    "\n",
    "# evaluat the KDE on a grid\n",
    "x = np.linspace(np.log10(8), 3, 200)\n",
    "y = np.linspace(1, 4, 100)\n",
    "X, Y = np.meshgrid(x, y, indexing='ij')\n",
    "dens = kde(np.array([X.ravel(), Y.ravel()])).reshape(X.shape)\n",
    "\n",
    "# find levels containing a fraction `lev` of all density\n",
    "dens_sort = np.sort(dens.ravel())\n",
    "cum = np.cumsum(dens_sort)\n",
    "cum /= cum[-1]\n",
    "levels = [dens_sort.ravel()[np.abs(cum-(1-lev)).argmin()] for lev in [0.68, 0.25]]"
   ]
  },
  {
   "cell_type": "markdown",
   "id": "e1485196-6300-4d1a-a95c-9fc4d01ea724",
   "metadata": {},
   "source": [
    "## Read Andrews Data"
   ]
  },
  {
   "cell_type": "code",
   "execution_count": null,
   "id": "32c42e3b-fc63-4ef2-bb48-19a2d4c029b6",
   "metadata": {},
   "outputs": [],
   "source": [
    "sa = plot_helper.get_seans_data('../data/Andrews2018/ALLDISKS.summary.dat')"
   ]
  },
  {
   "cell_type": "markdown",
   "id": "338e4c61-b514-4f23-8620-839fa5a1ccc9",
   "metadata": {},
   "source": [
    "## Compute KDE of the SLR"
   ]
  },
  {
   "cell_type": "code",
   "execution_count": null,
   "id": "35d37bd8-16a6-4e28-8363-ebcce6679b15",
   "metadata": {},
   "outputs": [],
   "source": [
    "# compute the KDE\n",
    "xi = np.log10(sa.reff[sa.mask])\n",
    "yi = np.log10(sa.flux[sa.mask])\n",
    "kde = gaussian_kde(np.array([xi, yi]))\n",
    "\n",
    "# evaluat the KDE on a grid\n",
    "x2 = np.linspace(xi.min() - 0.1, xi.max() + 0.1, 200)\n",
    "y2 = np.linspace(yi.min() - 0.1, yi.max() + 0.1, 150)\n",
    "X2, Y2 = np.meshgrid(x2, y2, indexing='ij')\n",
    "dens2 = kde(np.array([X2.ravel(), Y2.ravel()])).reshape(X2.shape)\n",
    "\n",
    "# find levels containing a fraction `lev` of all density\n",
    "dens2_sort = np.sort(dens2.ravel())\n",
    "cum2 = np.cumsum(dens2_sort)\n",
    "cum2 /= cum2[-1]\n",
    "levels2 = [dens2_sort.ravel()[np.abs(cum2 - (1 - lev)).argmin()] for lev in [0.68, 0.25]]"
   ]
  },
  {
   "cell_type": "markdown",
   "id": "062ed8f9-b04e-48ef-a88d-98fdd37316b7",
   "metadata": {},
   "source": [
    "# Create a combined figure"
   ]
  },
  {
   "cell_type": "code",
   "execution_count": null,
   "id": "0718979e-3bc7-4f16-84ac-b360c35db30d",
   "metadata": {},
   "outputs": [],
   "source": [
    "f, axs = plt.subplots(1, 2, figsize=(13, 4), dpi=100)\n",
    "\n",
    "\n",
    "# ###########################\n",
    "# first plot: FLUX vs ALPHA #\n",
    "# ###########################\n",
    "ax = axs[0]\n",
    "ax.set_xscale('log')\n",
    "\n",
    "# plot the mesh and contours\n",
    "ax.pcolormesh(10.**x, y, dens.T, cmap='Blues', rasterized=True)\n",
    "cs = ax.contour(10.**x, y, dens.T, np.sort(levels), colors='k', linestyles=['--', '-'])\n",
    "cl = ax.clabel(cs, fontsize=8, inline=1, inline_spacing=0.1, manual=((100, 2.), (3e2, 1.5)),\n",
    "               fmt=lambda val: f'{1-np.interp(val, dens_sort, cum):.0%}')\n",
    "\n",
    "# add obs. scatter points\n",
    "ax.scatter(tes.F_mm, tes.alpha_mm, c='0.25', s=5, label='Testi et al. 2014')\n",
    "ax.scatter(taz.f1mm, taz.alpha, c='0.75', s=5, label='Tazzari et al. 2021')\n",
    "\n",
    "\n",
    "# add dustpy simulations\n",
    "\n",
    "for key in dustpy_data.keys():\n",
    "    d = dustpy_data[key]\n",
    "    if 'nobump' in key:\n",
    "        label = 'no trap'\n",
    "    else:\n",
    "        label = 'efficient trap'\n",
    "\n",
    "    it = np.abs(d.time - 1e5 * c.year).argmin()\n",
    "    helper.plot_time_path(1e3 * d.f1mm[it:], d.alpha089_310[it:], d.time[it:] / (1e6 * c.year),\n",
    "                          snaps=[0.1, 0.5, 1, 2, 3], eps=0, tlog=True, xlog=True,\n",
    "                          ax=ax, k=2, spline=True, label=label)\n",
    "\n",
    "# adjust figure\n",
    "ax.set_xlim(10.**x[[0, -1]])\n",
    "ax.set_ylim(y[[0, -1]])\n",
    "ax.set_xlabel(r'$\\mathbf{F_\\nu^{1mm}}$ [mJy]')\n",
    "ax.set_ylabel(r'$\\mathbf{\\alpha_{0.89-3mm}}$')\n",
    "leg = ax.legend(edgecolor='k', fontsize='small')\n",
    "leg.get_frame().set_alpha(0.5)\n",
    "\n",
    "ax.set_facecolor('none')\n",
    "\n",
    "\n",
    "# ###################\n",
    "# second plot: SLR  #\n",
    "# ###################\n",
    "\n",
    "ax = axs[1]\n",
    "ax.loglog()\n",
    "# plot the mesh and contours\n",
    "ax.pcolormesh(10.**x2, 10.**y2, dens2.T, cmap='Blues', rasterized=True)\n",
    "cs = ax.contour(10.**x2, 10.**y2, dens2.T, np.sort(levels2), colors='k', linestyles=['--', '-'])\n",
    "cl = ax.clabel(cs, fontsize=8, inline=1, inline_spacing=15, manual=((80, 0.4), (70, 1)),\n",
    "               fmt=lambda val: f'{1-np.interp(val, dens2_sort, cum2):.0%}')\n",
    "\n",
    "###### overplot the dustpy data ######\n",
    "\n",
    "for key in dustpy_data.keys():\n",
    "\n",
    "    d = dustpy_data[key]\n",
    "    if 'nobump' in key:\n",
    "        label = 'no trap'\n",
    "    else:\n",
    "        label = 'efficient trap'\n",
    "\n",
    "    it = np.abs(d.time - 1e5 * c.year).argmin()\n",
    "    helper.plot_time_path(d.reff[it:] / c.au, d.f1mm[it:], d.time[it:] / (1e6 * c.year),\n",
    "                          snaps=[0.1, 0.5, 1, 2, 3], eps=0, tlog=True, xlog=True,\n",
    "                          ax=ax, k=2, spline=True, label=label)\n",
    "\n",
    "\n",
    "###### reproducing seans plot ######\n",
    "\n",
    "# the good\n",
    "ma = sa.mask\n",
    "ax.errorbar(sa.reff[ma], sa.flux[ma], xerr=[sa.reff_l[ma], sa.reff_h[ma]], yerr=[sa.flux_l[ma], sa.flux_h[ma]],\n",
    "                xuplims=sa.reff_f[ma],\n",
    "                uplims=sa.flux_f[ma],\n",
    "                marker='.', markersize=10, ecolor='k', mfc='k', mec='none',\n",
    "                elinewidth=0.5, linestyle='none', label='Andrews et al. (2018)')\n",
    "    \n",
    "# the bad: we set the lower limit length to 0.1 times the value\n",
    "ma = ~sa.mask\n",
    "ax.errorbar(sa.reff[ma], sa.flux[ma], xerr=[sa.reff[ma]*0.1, sa.reff_h[ma]], yerr=[sa.flux_l[ma], sa.flux_h[ma]],\n",
    "                xuplims=sa.reff_f[ma],\n",
    "                uplims=sa.flux_f[ma],\n",
    "                marker='.', markersize=10, ecolor='0.5', mfc='0.5', mec='none',\n",
    "                elinewidth=0.5, linestyle='none', label='Andrews at al. (2018)\\nupper limits')\n",
    "\n",
    "\n",
    "####### plot the correlation ######\n",
    "\n",
    "_x = np.array(ax.get_xlim())\n",
    "ax.plot(_x, 10.**((np.log10(_x) - 2.1 + 0.0) / 0.49), '-', c='0.5', label='Size-Luminosity relation\\n(Tripathi et al. 2017)')\n",
    "ax.plot(_x, 10.**((np.log10(_x) - 2.1 + 0.2) / 0.49), '--', c='0.5')\n",
    "ax.plot(_x, 10.**((np.log10(_x) - 2.1 - 0.2) / 0.49), '--', c='0.5')\n",
    "\n",
    "# plot tweaks\n",
    "ax.legend(fontsize='small')\n",
    "ax.set_ylabel(r'${\\rm log}$' + ' ' + r'$L_{\\rm mm}$' + ' / ' + r'${\\rm Jy}$', fontsize=8)\n",
    "ax.set_xlabel(r'${\\rm log}$' + ' ' + r'$R_{\\rm eff}$' + ' / ' + r'${\\rm au}$', fontsize=8)\n",
    "\n",
    "###### other figure settings #####\n",
    "\n",
    "ax.set_xlim(10.**x2[[0, -1]])\n",
    "ax.set_ylim(10.**y2[[0, -1]])\n",
    "\n",
    "ax.set_xlabel(r'$\\mathbf{r_\\mathrm{eff}}$ [au]')\n",
    "ax.set_ylabel(r'$\\mathbf{L_{mm}}$ [Jy]')\n",
    "#ax.legend().get_frame().set_facecolor(0);\n",
    "ax.set_facecolor('none')\n",
    "\n",
    "helper.apply_araa_style(ax)\n",
    "f.savefig(helper.output_dir / 'BirnstielFig10.pdf', transparent=True, bbox_inches='tight')"
   ]
  }
 ],
 "metadata": {
  "kernelspec": {
   "display_name": "Python 3 (ipykernel)",
   "language": "python",
   "name": "python3"
  },
  "language_info": {
   "codemirror_mode": {
    "name": "ipython",
    "version": 3
   },
   "file_extension": ".py",
   "mimetype": "text/x-python",
   "name": "python",
   "nbconvert_exporter": "python",
   "pygments_lexer": "ipython3",
   "version": "3.10.12"
  }
 },
 "nbformat": 4,
 "nbformat_minor": 5
}
