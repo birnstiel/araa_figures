{
 "cells": [
  {
   "cell_type": "markdown",
   "id": "f02006c2-e284-44f5-a4b0-4dd24ba7b3c5",
   "metadata": {},
   "source": [
    "# Compute opacities"
   ]
  },
  {
   "cell_type": "code",
   "execution_count": null,
   "id": "7c72f209-7f6f-497c-8b2a-b974316724dd",
   "metadata": {},
   "outputs": [],
   "source": [
    "import warnings\n",
    "\n",
    "import matplotlib.pyplot as plt\n",
    "import numpy as np\n",
    "import optool\n",
    "from tqdm.auto import tqdm\n",
    "\n",
    "from helper import Capturing, apply_araa_style"
   ]
  },
  {
   "cell_type": "code",
   "execution_count": null,
   "id": "0b775ea4-0d34-4aa2-bd32-b76be6a6792d",
   "metadata": {},
   "outputs": [],
   "source": [
    "settings = {}\n",
    "settings['DSHARP'] = 'astrosil 0.3291 c-org 0.3966 fes 0.0743 h2o-w 0.2000 -mie'\n",
    "settings['DSHARP-ZBED'] = 'astrosil 0.3291 c 0.3966 fes 0.0743 h2o-w 0.2000 -dhs'\n",
    "settings['DIANA'] = '-dhs'"
   ]
  },
  {
   "attachments": {},
   "cell_type": "markdown",
   "id": "e3f4c8e6-8312-4338-9543-ec96c85f3c6b",
   "metadata": {},
   "source": [
    "Note that there were issues with optool that magically disappeared. here's the test in case it happens again. The first entry of fp12 should be the same and the rest not different by many orders of magnitude.\n",
    "```python\n",
    "p1 = optool.particle(f'optool -mie -dsharp -a 1.0 1000.0 3.5 100 -l 1250 -s 180')\n",
    "p2 = optool.particle(f'optool -mie -dsharp -a 1.0 1000.0 3.5 100 -l 1250 3000 5 -s 180')\n",
    "\n",
    "for p in [p1, p2]:\n",
    "    print(f'lam = {p.lam}')\n",
    "    print(f'fp12 = {p.f12[0, :, 89]}')\n",
    "```"
   ]
  },
  {
   "cell_type": "code",
   "execution_count": null,
   "id": "38ef8119-c57a-4eff-a05e-b7e7029db431",
   "metadata": {},
   "outputs": [],
   "source": [
    "na = 200\n",
    "a = np.geomspace(1e-3, 1e2, na)\n",
    "amin = 1.e-5\n",
    "lam = [0.125, 0.3]\n",
    "nlam = len(lam)\n",
    "q = 3.5\n",
    "\n",
    "res = {}\n",
    "out = Capturing()\n",
    "\n",
    "for key in settings.keys():\n",
    "\n",
    "    d = {}\n",
    "    res[key] = d\n",
    "\n",
    "    d['lam']   = lam\n",
    "    d['amax']  = a\n",
    "    d['k_abs'] = np.zeros([na, nlam])\n",
    "    d['k_sca'] = np.zeros([na, nlam])\n",
    "    d['omega'] = np.zeros([na, nlam])\n",
    "    d['Pscat'] = np.zeros([na, nlam])\n",
    "    \n",
    "    for i, amax in tqdm(enumerate(a), total=na):\n",
    "        p = optool.particle(f'optool {settings[key]} -a {amin * 1e4} {amax * 1e4} {q} {10 + 5 * i} -l {1e4 * lam[0]} {1e4 * lam[-1]} {nlam} -s',\n",
    "                            silent=True)\n",
    "        \n",
    "        # supress the warning in the conversion\n",
    "        with out:\n",
    "            p.scatnorm('r')\n",
    "\n",
    "        i895 = np.abs(p.scatang-89.5).argmin()\n",
    "        if not np.isclose(p.scatang[i895], 89.5) or (not np.isclose(p.scatang[i895+1], 90.5)):\n",
    "            warnings.warn('scattering angles not exactly at 89.5º and 90.5º' )\n",
    "            \n",
    "        d['k_abs'][i, :] = p.kabs\n",
    "        d['k_sca'][i, :] = p.ksca\n",
    "        d['omega'][i, :] = p.ksca / p.kext\n",
    "        d['Pscat'][i, :] = np.abs(p.f12[0, :, i895:i895+2] / p.f11[0, :, i895:i895+2]).mean(-1)"
   ]
  },
  {
   "cell_type": "markdown",
   "id": "f04f25c2-9a43-4918-8d6e-7a1168a67907",
   "metadata": {},
   "source": [
    "# Plot"
   ]
  },
  {
   "cell_type": "code",
   "execution_count": null,
   "id": "e6a3d7e8-97ec-4574-b62c-70173b1e88e7",
   "metadata": {},
   "outputs": [],
   "source": [
    "ilam = 0\n",
    "\n",
    "f, axs = plt.subplots(3, 1, sharex=True, figsize=(4, 9), gridspec_kw={'hspace':0.05})\n",
    "\n",
    "\n",
    "##### plot the kappas (mass absorption/scattering coefficients) #######\n",
    "ax = axs[0]\n",
    "\n",
    "for i,key in enumerate(settings.keys()):\n",
    "    line1, = ax.loglog(a, res[key]['k_abs'][:,ilam], label=key)\n",
    "    line2, = ax.loglog(a, res[key]['k_sca'][:,ilam], '--', c=line1.get_color(), alpha=0.5)\n",
    "\n",
    "ax.plot([],[], 'k', ls=line1.get_linestyle(), label=r'$\\bar\\kappa_{abs}$')\n",
    "ax.plot([],[], 'k', ls=line2.get_linestyle(), label=r'$\\bar\\kappa_{abs}$', alpha=line2.get_alpha())\n",
    "ax.legend(fontsize='small', frameon=False)\n",
    "\n",
    "ax.set_ylim(2e-2, 50)\n",
    "ax.set_ylabel(r'$\\bar \\kappa$ [cm$^2$/g]')\n",
    "\n",
    "ax.set_title(f'$q = {q}$')\n",
    "\n",
    "\n",
    "####### plot the spectral index beta #######\n",
    "ax = axs[1]\n",
    "for key in settings.keys():\n",
    "    beta = -np.log(res[key]['k_abs'][:, 1] / res[key]['k_abs'][:, 0])/np.log(res[key]['lam'][1] / res[key]['lam'][0])\n",
    "    ax.semilogx(a, beta, '-', label=key)\n",
    "    \n",
    "ax.set_ylim(0,3.5)\n",
    "ax.set_ylabel(r'opacity spectral index $\\beta$')\n",
    "\n",
    "\n",
    "#### Albedo & 90º scattering probability #####\n",
    "ax = axs[2]\n",
    "\n",
    "for key in settings.keys():\n",
    "    line1, = ax.semilogx(a, res[key]['omega'][:, ilam], '--', alpha=0.5)\n",
    "    line2, = ax.semilogx(a, res[key]['Pscat'][:, ilam], ':', c=line1.get_color(), alpha=0.5)\n",
    "    line3, = ax.semilogx(a, res[key]['Pscat'][:, ilam] * res[key]['omega'][:, ilam], '-', c=line1.get_color())\n",
    "\n",
    "ax.plot([], [], c='k', ls=line1.get_linestyle(), alpha=line1.get_alpha(), label='$\\omega$')\n",
    "ax.plot([], [], c='k', ls=line2.get_linestyle(), alpha=line2.get_alpha(), label='$P_{90}$')\n",
    "ax.plot([], [], c='k', ls=line3.get_linestyle(), alpha=line3.get_alpha(), label='$\\omega\\cdot P_{90}$')\n",
    "\n",
    "for i,key in enumerate(settings.keys()):\n",
    "    line3, = ax.semilogx(a, res[key]['Pscat'][:, ilam+1] * res[key]['omega'][:, ilam+1], '-', c='k', alpha=0.25)\n",
    "    \n",
    "ax.set_xlim(a[[0, -1]])\n",
    "ax.set_ylim(0,1.1)\n",
    "ax.legend()\n",
    "ax.set_xlabel('maximum particle size [cm]')\n",
    "ax.set_ylabel(r'$\\omega, P_{90}, \\omega \\cdot P_{90}$')\n",
    "\n",
    "for ax in axs.ravel():\n",
    "    apply_araa_style(ax)\n",
    "\n",
    "f.savefig(f'opacity_plot_q{str(q).replace(\".\", \"\")}.pdf')"
   ]
  },
  {
   "cell_type": "markdown",
   "id": "b7bb1dfb-0da2-41f2-a6bf-1327c2fe1e5e",
   "metadata": {},
   "source": [
    "## compute the `npz` file for DSHARP-ZD"
   ]
  },
  {
   "cell_type": "code",
   "execution_count": null,
   "id": "c8de1d68-7cf8-424b-8c0e-d27da41c5ae0",
   "metadata": {},
   "outputs": [],
   "source": [
    "from tqdm.auto import tqdm\n",
    "import numpy as np\n",
    "import optool\n",
    "\n",
    "key = 'DSHARP-ZBED'\n",
    "\n",
    "# define the size and wavelength grids\n",
    "\n",
    "lmin = 1e-5\n",
    "lmax = 1e2\n",
    "nlam = 210\n",
    "na   = 200\n",
    "\n",
    "a = np.geomspace(1e-5, 1e2, na)\n",
    "lam = np.geomspace(lmin, lmax, nlam)\n",
    "\n",
    "# compute the opacities, size by size\n",
    "k_a = []\n",
    "k_s = []\n",
    "g_s = []\n",
    "for size in tqdm(a):\n",
    "    p = optool.particle(f'optool {settings[key]} -l {lmin * 1e4} {lmax * 1e4} {nlam} -a {size * 1e4}', silent=True)\n",
    "    k_a.append(p.kabs)\n",
    "    k_s.append(p.ksca)\n",
    "    g_s.append(p.gsca)\n",
    "    \n",
    "k_abs = np.vstack(k_a)\n",
    "k_sca = np.vstack(k_s)\n",
    "g_sca = np.vstack(g_s)\n",
    "\n",
    "# Saving to file\n",
    "\n",
    "np.savez(\n",
    "    f\"{key.replace('-', '_')}.npz\",\n",
    "    a=a,               # Size grid\n",
    "    lam=lam,           # Wavelength grid\n",
    "    k_abs=k_abs,       # Absorption opacity\n",
    "    k_sca=k_sca,       # Scattering opacity\n",
    "    g=g_sca,           # Asymmetry factor\n",
    "    rho_s=p.rho,       # Material density\n",
    "    composition=settings[key] # Parameter dictionary\n",
    ")"
   ]
  },
  {
   "cell_type": "markdown",
   "id": "1c76e466-3157-42be-9bec-d6c2ddc2cce6",
   "metadata": {},
   "source": [
    "# Compare optool and sharp Zubko lnk data"
   ]
  },
  {
   "cell_type": "code",
   "execution_count": null,
   "id": "a51b3528-4fa2-4620-bab3-283f2b2e97b2",
   "metadata": {},
   "outputs": [],
   "source": [
    "dzb_o = do.diel_from_lnk_file('/Users/birnstiel/CODES/optool/lnk_data/c-z-Zubko1996.lnk', headerlines=12)\n",
    "do.compare_nk([dzb_d, dz_o])"
   ]
  },
  {
   "cell_type": "markdown",
   "id": "e95503be-249c-4e92-b535-8830c755db39",
   "metadata": {},
   "source": [
    "# Generate the `ACH2` lnk-file in optool-forma"
   ]
  },
  {
   "cell_type": "code",
   "execution_count": null,
   "id": "65ff97a6-0b62-45b7-a40f-12b9b01f9303",
   "metadata": {},
   "outputs": [],
   "source": [
    "import dsharp_opac as do\n",
    "\n",
    "dzb_d = do.diel_zubko96(sample='BE')\n",
    "dza_d = do.diel_zubko96(sample='ACH2')\n",
    "lnk_z_ACH2 = np.array([dza_d._l * 1e4, dza_d._n, dza_d._k]).T\n",
    "\n",
    "header = \\\n",
    "\"\"\"# Material:  Carbon, amorphous\n",
    "# Reference: Zubko 1996, MNRAS 282, 1321\n",
    "#\n",
    "# Name:       Carbon\n",
    "# Class:      Carbon-ACH2\n",
    "# State:      amorphous\n",
    "# Formula:    C\n",
    "# ADS-link:   https://ui.adsabs.harvard.edu/abs/1996MNRAS.282.1321Z\n",
    "# BibTeX-key: 1996MNRAS.282.1321Z\n",
    "#\n",
    "# First line is N_lam and rho [g/cm^3], other lines are: lambda[um] n k\n",
    "\"\"\"\n",
    "\n",
    "with open('c-zach2-Zubko1996.lnk', 'w') as fid:\n",
    "    fid.write(header)\n",
    "    fid.write(f'{len(lnk_z_ACH2)} nan\\n')\n",
    "    np.savetxt(fid, lnk_z_ACH2, fmt='%0.5E', delimiter='\\t')"
   ]
  }
 ],
 "metadata": {
  "kernelspec": {
   "display_name": "Python 3 (ipykernel)",
   "language": "python",
   "name": "python3"
  },
  "language_info": {
   "codemirror_mode": {
    "name": "ipython",
    "version": 3
   },
   "file_extension": ".py",
   "mimetype": "text/x-python",
   "name": "python",
   "nbconvert_exporter": "python",
   "pygments_lexer": "ipython3",
   "version": "3.10.12"
  }
 },
 "nbformat": 4,
 "nbformat_minor": 5
}
