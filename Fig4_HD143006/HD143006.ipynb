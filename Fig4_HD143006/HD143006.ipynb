{
 "cells": [
  {
   "cell_type": "markdown",
   "id": "78fec743-9bf0-4337-b498-dd59674f0ffd",
   "metadata": {},
   "source": [
    "# Plot of HD 143006"
   ]
  },
  {
   "cell_type": "code",
   "execution_count": null,
   "id": "3b631297-2b3d-4e5d-bc69-9b003d8402f1",
   "metadata": {},
   "outputs": [],
   "source": [
    "import sys\n",
    "if '..' not in sys.path:\n",
    "    sys.path.append('..')\n",
    "\n",
    "import matplotlib.pyplot as plt\n",
    "from matplotlib.colors import LogNorm\n",
    "from astropy.visualization import ImageNormalize, AsinhStretch\n",
    "import astropy.units as u\n",
    "import numpy as np\n",
    "\n",
    "import helper"
   ]
  },
  {
   "cell_type": "code",
   "execution_count": null,
   "id": "2d794442-a3b2-4584-92ee-ea25cc100370",
   "metadata": {},
   "outputs": [],
   "source": [
    "fname = helper.data_dir / 'HD143006_continuum.fits'"
   ]
  },
  {
   "cell_type": "code",
   "execution_count": null,
   "id": "e19a69eb-3151-4739-a829-a1472b751c5b",
   "metadata": {},
   "outputs": [],
   "source": [
    "clip = 0.7       # at how many arcsec to crop the image\n",
    "drange = 3e-2    # dynamic range of the image\n",
    "bar_in_au = 100. # how many au the size bar in the image has\n",
    "\n",
    "# get the distance in parsec based on the GAIA parallax\n",
    "\n",
    "gaia_plx = 5.975928341435297 * u.mas\n",
    "dpc = (u.au / np.tan(gaia_plx)).to('pc').value"
   ]
  },
  {
   "cell_type": "code",
   "execution_count": null,
   "id": "10f01485-6a19-4b9b-94aa-2c15fd20154b",
   "metadata": {},
   "outputs": [],
   "source": [
    "img = helper.image(fname, clip=clip)"
   ]
  },
  {
   "cell_type": "code",
   "execution_count": null,
   "id": "c9fd0981-33ad-4897-bcd1-4ab36abfa2a1",
   "metadata": {},
   "outputs": [],
   "source": [
    "norm = ImageNormalize(stretch=AsinhStretch())"
   ]
  },
  {
   "cell_type": "code",
   "execution_count": null,
   "id": "2d0eb178-d23a-4e0d-92e4-5fe79b294692",
   "metadata": {},
   "outputs": [],
   "source": [
    "fig = plt.figure(figsize=(3.4, 3), dpi=300)\n",
    "gs = fig.add_gridspec(ncols=2, nrows=1, width_ratios=[1, 0.1], hspace=0.05)\n",
    "axs = [fig.add_subplot(_gs) for _gs in gs]\n",
    "\n",
    "for ax in axs[:-1]:\n",
    "    ax.set_aspect('equal')\n",
    "    ax.set_xlim(clip, -clip)\n",
    "    ax.set_ylim(-clip, clip)\n",
    "    ax.set_xlabel('$\\Delta$ RA [arcsec]', fontdict=helper.label_font_dict)\n",
    "    \n",
    "# plot the image\n",
    "\n",
    "ax = axs[0]\n",
    "txt = 'thermal emission (1.25 mm)'\n",
    "\n",
    "# image\n",
    "cc = ax.pcolormesh(img.xi, img.yi, np.maximum(img.data.T, drange),\n",
    "                   norm=norm,\n",
    "                   # norm=LogNorm(drange, 1.0),\n",
    "                   rasterized=True)\n",
    "\n",
    "# scale bar\n",
    "ax.plot(-0.8 * clip * np.ones(2) + [0, bar_in_au / dpc], -0.82 * clip * np.ones(2), 'w', lw=3)\n",
    "ax.text(-0.8 * clip + bar_in_au / dpc / 2, -0.8 * clip, f'{bar_in_au:.0f} au',\n",
    "        c='w', horizontalalignment='center', verticalalignment='bottom');\n",
    "ax.text(0.9 * clip, 0.9 * clip, txt, horizontalalignment='left', verticalalignment='top', c='w', fontsize='small')\n",
    "\n",
    "# adjust spacing\n",
    "#fig.subplots_adjust(wspace=0.02)\n",
    "    \n",
    "# colorbar\n",
    "cb=plt.colorbar(cc, cax=axs[-1])\n",
    "pos = axs[0].get_position()\n",
    "axs[-1].set_position([pos.x1+0.02, pos.y0, pos.width / 15., pos.height])\n",
    "cb.set_label(r'$I_\\nu / I_\\nu^{max}$', fontdict=helper.label_font_dict)\n",
    "\n",
    "axs[0].set_ylabel('$\\Delta$ Dec [arcsec]', fontdict=helper.label_font_dict);\n",
    "\n",
    "fig.savefig(helper.output_dir / 'BirnstielFig4.pdf', transparent=True, bbox_inches='tight')"
   ]
  }
 ],
 "metadata": {
  "kernelspec": {
   "display_name": "Python 3 (ipykernel)",
   "language": "python",
   "name": "python3"
  },
  "language_info": {
   "codemirror_mode": {
    "name": "ipython",
    "version": 3
   },
   "file_extension": ".py",
   "mimetype": "text/x-python",
   "name": "python",
   "nbconvert_exporter": "python",
   "pygments_lexer": "ipython3",
   "version": "3.10.12"
  },
  "vscode": {
   "interpreter": {
    "hash": "bccf082f898b2356c8628c9441a85af51350700d2f5e39f1a029accc41e42a3d"
   }
  }
 },
 "nbformat": 4,
 "nbformat_minor": 5
}
