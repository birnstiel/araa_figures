{
 "cells": [
  {
   "cell_type": "markdown",
   "id": "a3072fbc-9c4c-4827-9ee4-e9451a3916a9",
   "metadata": {},
   "source": [
    "# Plot IM Lup: ALMA vs SPHERE"
   ]
  },
  {
   "cell_type": "code",
   "execution_count": null,
   "id": "e12f8dd4-7ff2-47b5-a601-a09d1ddc63a9",
   "metadata": {},
   "outputs": [],
   "source": [
    "from pathlib import Path\n",
    "import requests\n",
    "import os\n",
    "import sys\n",
    "\n",
    "if '..' not in sys.path:\n",
    "    sys.path.append('..')\n",
    "\n",
    "import numpy as np\n",
    "import matplotlib.pyplot as plt\n",
    "from matplotlib.colors import LogNorm\n",
    "from scipy.spatial.transform import Rotation as R\n",
    "from scipy.integrate import cumtrapz\n",
    "from seaborn.cm import rocket, mako\n",
    "import astropy.units as u\n",
    "\n",
    "\n",
    "sqdeg_per_sr = 4 * np.pi**2 / 360.0**2\n",
    "\n",
    "import helper\n",
    "plt.style.use([helper.araa_style])"
   ]
  },
  {
   "cell_type": "markdown",
   "id": "4543c3aa-72c2-4090-a0ec-f7876683cb4c",
   "metadata": {},
   "source": [
    "Paths to the data files"
   ]
  },
  {
   "cell_type": "code",
   "execution_count": null,
   "id": "2ad17d7f-a4b7-4fd5-ac51-0dfae260b46d",
   "metadata": {},
   "outputs": [],
   "source": [
    "profile_url = 'https://almascience.eso.org/almadata/lp/DSHARP/profiles/IMLup.profile.txt'  # Path to the DSHARP radial profile\n",
    "fname_A = helper.data_dir / 'data_IMLup/IMLup_continuum.fits'\n",
    "\n",
    "# path to the Sphere image (request it from the authors)\n",
    "fname_S = helper.data_dir / 'data_IMLup/IM_Lup_reducedRob_median_Hband_12.25mas_mod.fits'\n",
    "\n",
    "# path to the MAPS CO data (available from the MAPS data release)\n",
    "fname_CO = '/Users/birnstiel/DATA/IM_Lup_CO_220GHz/IM_Lup_CO_220GHz.0.3arcsec.JvMcorr.image.fits'"
   ]
  },
  {
   "cell_type": "markdown",
   "id": "96eed0cc-49af-461c-835b-0cbba93849a9",
   "metadata": {
    "tags": []
   },
   "source": [
    "## Get $r_{90}$"
   ]
  },
  {
   "cell_type": "markdown",
   "id": "6574318e-665b-438a-8d86-dd81f7bda3a4",
   "metadata": {},
   "source": [
    "Download and load the data"
   ]
  },
  {
   "cell_type": "code",
   "execution_count": null,
   "id": "9a245793-bee4-48ed-ae14-29f06facf1fe",
   "metadata": {},
   "outputs": [],
   "source": [
    "req = requests.get(profile_url, stream=True)\n",
    "\n",
    "fname = os.path.join(helper.data_dir / 'data_IMLup', Path(profile_url).name)\n",
    "\n",
    "with open(fname, 'w') as fh:\n",
    "    fh.write(req.text)\n",
    "\n",
    "profile = np.loadtxt(fname)\n",
    "\n",
    "prof_r = profile[:, 1]\n",
    "prof_I = profile[:, 2]"
   ]
  },
  {
   "cell_type": "markdown",
   "id": "16feb040-f942-4a5a-bad7-3719ba14d3bc",
   "metadata": {},
   "source": [
    "compute the 90% radius"
   ]
  },
  {
   "cell_type": "code",
   "execution_count": null,
   "id": "38ee060f-1916-471f-802d-caa377d2be0a",
   "metadata": {},
   "outputs": [],
   "source": [
    "cumflux = cumtrapz(2 * np.pi * prof_I * prof_r, x=prof_r, initial=0)\n",
    "r_90 = np.interp(90, cumflux / cumflux[-1], prof_r)"
   ]
  },
  {
   "cell_type": "markdown",
   "id": "8306108b-a85c-4b4e-acc0-66fbda8612eb",
   "metadata": {},
   "source": [
    "## Image & Plotting Parameters"
   ]
  },
  {
   "cell_type": "code",
   "execution_count": null,
   "id": "43e0e823-7208-48d8-a6b9-f7ae63793768",
   "metadata": {},
   "outputs": [],
   "source": [
    "clip = 3.0       # at how many arcsec to crop the image\n",
    "drange = 1e-3    # dynamic range of the image\n",
    "bar_in_au = 100. # how many au the size bar in the image has\n",
    "\n",
    "# get the distance in parsec based on the GAIA parallax\n",
    "\n",
    "gaia_plx = 6.4174937230476985 * u.mas\n",
    "dpc = (u.au / np.tan(gaia_plx)).to('pc').value"
   ]
  },
  {
   "cell_type": "markdown",
   "id": "45cc11f6-616a-448a-b27c-ce5122c91194",
   "metadata": {},
   "source": [
    "Rings measured by Avenhaus et al. 2018"
   ]
  },
  {
   "cell_type": "code",
   "execution_count": null,
   "id": "40f3e187-fe92-43aa-ab26-fcd7982492f3",
   "metadata": {},
   "outputs": [],
   "source": [
    "r_HA = [0.58, 0.96, 1.52, 2.10]\n",
    "inc_HA = [53., 55, 55., 56.]\n",
    "PA_HA = 325.\n",
    "hr_HA =  [0.18, 0.18, 0.23, 0.25]"
   ]
  },
  {
   "cell_type": "markdown",
   "id": "86372b96-2810-492f-b4d8-0f2a70faa008",
   "metadata": {},
   "source": [
    "First two rings are measured by Huang et al. 2018. Last one is my by-eye fit of the outer edge using the average inclination of the other rings"
   ]
  },
  {
   "cell_type": "code",
   "execution_count": null,
   "id": "ceb3b5c9-b433-4f89-8449-c4f393863151",
   "metadata": {},
   "outputs": [],
   "source": [
    "r_JH = [0.743, 0.845, r_90]\n",
    "inc_JH = 47.5\n",
    "PA_JH = [145.2, 143.9]\n",
    "PA_JH += [np.mean(PA_JH)]"
   ]
  },
  {
   "cell_type": "markdown",
   "id": "8761a661-edc4-4654-911d-1f0fd6334f7b",
   "metadata": {},
   "source": [
    "## Load and plot images"
   ]
  },
  {
   "cell_type": "code",
   "execution_count": null,
   "id": "dc8bd9fe-5283-43bb-ac95-d224deecac41",
   "metadata": {},
   "outputs": [],
   "source": [
    "img_S = helper.image(fname_S, clip=clip)\n",
    "img_A = helper.image(fname_A, clip=clip)\n",
    "img_CO = helper.image(fname_CO, clip=clip)"
   ]
  },
  {
   "cell_type": "markdown",
   "id": "0abbd4e1-e84e-403b-ba76-b154ffe59ae8",
   "metadata": {},
   "source": [
    "### Combined plot of all 3 images"
   ]
  },
  {
   "cell_type": "code",
   "execution_count": null,
   "id": "36521a4c-3ab9-4df7-a950-94878dc17b1a",
   "metadata": {},
   "outputs": [],
   "source": [
    "drange=1e-3\n",
    "\n",
    "fig = plt.figure(figsize=(8, 2.3), dpi=300)\n",
    "gs = fig.add_gridspec(ncols=5, nrows=1, width_ratios=[1, 1, 1, 0.1, 0.1], hspace=0.05)\n",
    "axs = [fig.add_subplot(_gs) for _gs in gs]\n",
    "\n",
    "for ax in axs[:-2]:\n",
    "    ax.set_aspect('equal')\n",
    "    ax.set_xlim(clip, -clip)\n",
    "    ax.set_ylim(-clip, clip)\n",
    "    ax.set_xlabel('$\\Delta$ RA [arcsec]', fontdict=helper.label_font_dict)\n",
    "    \n",
    "# plot the two continuum images\n",
    "\n",
    "for i, (ax, img, txt) in enumerate(zip(\n",
    "        axs,\n",
    "        [img_S, img_A, img_CO],\n",
    "        ['scattered light (1.65 µm)', 'thermal emission (1.25 mm)', 'CO 2$-$1 peak intensity'])):\n",
    "    \n",
    "    if i < 2:\n",
    "        # dust image\n",
    "        cc1 = ax.pcolormesh(img.xi, img.yi, np.maximum(img.data.T, drange), norm=LogNorm(drange, 1.0), rasterized=True)\n",
    "    else:\n",
    "        # plot the gas image\n",
    "        cc2 = ax.pcolormesh(img.xi, img.yi, np.maximum(img.data.T.max(0) / img.data.T.max(), 0.0), rasterized=True, cmap=mako)\n",
    "    \n",
    "    # scale bar\n",
    "    ax.plot(-0.8 * clip * np.ones(2) + [0, bar_in_au / dpc], -0.82 * clip * np.ones(2), 'w', lw=3)\n",
    "    ax.text(-0.8 * clip + bar_in_au / dpc / 2, -0.8 * clip, f'{bar_in_au:.0f} au',\n",
    "            c='w', horizontalalignment='center', verticalalignment='bottom');\n",
    "    ax.text(0.9 * clip, 0.9 * clip, txt, horizontalalignment='left', verticalalignment='top', c='w', fontsize='small')\n",
    "    \n",
    "    \n",
    "# plot the rings in SPHERE\n",
    "\n",
    "for i_ring in range(4):\n",
    "    helper.plot_ring(axs[0], \n",
    "        r_HA[i_ring],\n",
    "        hr_HA[i_ring] * r_HA[i_ring],\n",
    "        np.deg2rad(inc_HA[i_ring]),\n",
    "        np.deg2rad(90+PA_HA),\n",
    "        nphi=50, c='w', alpha=0.25, lw=1, ls='--',  dashes=(5, 2))\n",
    "\n",
    "# plot rings in ALMA\n",
    "    \n",
    "for i_ring in range(len(r_JH)):\n",
    "    helper.plot_ring(axs[1], \n",
    "        r_JH[i_ring],\n",
    "        0.0,\n",
    "        np.deg2rad(inc_JH),\n",
    "        np.deg2rad(90+PA_JH[i_ring]),\n",
    "        nphi=50, c='w', alpha=0.25, lw=1, ls='--', dashes=(5, 2))\n",
    "\n",
    "\n",
    "# adjust spacing\n",
    "for ax in axs[1:3]:\n",
    "    ax.yaxis.set_visible(False)\n",
    "    \n",
    "fig.subplots_adjust(wspace=0.02)\n",
    "    \n",
    "# colorbars\n",
    "cb1 = plt.colorbar(cc1, cax=axs[-2])\n",
    "cb2 = plt.colorbar(cc2, cax=axs[-1])\n",
    "pos = axs[-3].get_position()\n",
    "axs[-2].set_position([pos.x1 + 0.02, pos.y0, pos.width / 15., pos.height])\n",
    "axs[-1].set_position([pos.x1 + 6 * pos.width / 15., pos.y0, pos.width / 15., pos.height])\n",
    "cb2.set_label(r'$I_\\nu / I_\\nu^{max}$', fontdict=helper.label_font_dict)\n",
    "\n",
    "# add ARAA-style labels\n",
    "\n",
    "for t, ax in zip('abc', axs[:3]):\n",
    "    pos = ax.get_position()\n",
    "    fig.text(pos.x0, pos.y1 + 0.03, t, fontdict=helper.label_font_dict, c='k', size='large')\n",
    "\n",
    "axs[0].set_ylabel('$\\Delta$ Dec [arcsec]', fontdict=helper.label_font_dict);"
   ]
  },
  {
   "cell_type": "code",
   "execution_count": null,
   "id": "c6194fd8-e6c8-4342-bc49-c2330945e916",
   "metadata": {},
   "outputs": [],
   "source": [
    "fig.savefig(helper.output_dir / 'imlup.pdf', transparent=True, bbox_inches='tight')"
   ]
  }
 ],
 "metadata": {
  "kernelspec": {
   "display_name": "Python 3 (ipykernel)",
   "language": "python",
   "name": "python3"
  },
  "language_info": {
   "codemirror_mode": {
    "name": "ipython",
    "version": 3
   },
   "file_extension": ".py",
   "mimetype": "text/x-python",
   "name": "python",
   "nbconvert_exporter": "python",
   "pygments_lexer": "ipython3",
   "version": "3.10.12"
  },
  "vscode": {
   "interpreter": {
    "hash": "bccf082f898b2356c8628c9441a85af51350700d2f5e39f1a029accc41e42a3d"
   }
  }
 },
 "nbformat": 4,
 "nbformat_minor": 5
}
